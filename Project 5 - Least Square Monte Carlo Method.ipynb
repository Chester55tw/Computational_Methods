{
 "cells": [
  {
   "cell_type": "markdown",
   "metadata": {},
   "source": [
    "# Project 5 - Least Square Monte Carlo Method"
   ]
  },
  {
   "cell_type": "code",
   "execution_count": 18,
   "metadata": {
    "collapsed": true
   },
   "outputs": [],
   "source": [
    "# python set up\n",
    "import matplotlib.pyplot as plt\n",
    "import math\n",
    "import numpy as np\n",
    "import pandas as pd"
   ]
  },
  {
   "cell_type": "markdown",
   "metadata": {},
   "source": [
    "## Question 1\n",
    "\n"
   ]
  },
  {
   "cell_type": "markdown",
   "metadata": {},
   "source": [
    "Consider the following information on the stock of company XYZ: The current stock price\n",
    "is \\$40, and the volatility of the stock price is $\\sigma$ = 20% per annum. Assume the prevailing\n",
    "risk-free rate is r = 6% per annum. Use the following method to price the specified option:"
   ]
  },
  {
   "cell_type": "markdown",
   "metadata": {},
   "source": [
    "\n",
    "\n",
    "Start with simualtion 100,000 paths for stock prices of XYZ"
   ]
  },
  {
   "cell_type": "code",
   "execution_count": 19,
   "metadata": {
    "collapsed": true
   },
   "outputs": [],
   "source": [
    "def StockPrices(S0, r, sd, T, paths, steps):\n",
    "    \n",
    "    dt = T/steps\n",
    "    \n",
    "    # Generate stochastic process and its antithetic paths\n",
    "    Z = np.random.normal(0, 1, paths//2 * steps).reshape((paths//2, steps))\n",
    "    Z_inv = -Z\n",
    "    \n",
    "    dWt = math.sqrt(dt) * Z\n",
    "    dWt_inv = math.sqrt(dt) * Z_inv\n",
    "    \n",
    "    # bind the normal and antithetic Wt\n",
    "    dWt = np.concatenate((dWt, dWt_inv), axis=0)\n",
    "    \n",
    "    St = np.zeros((paths, steps + 1))\n",
    "    St[:, 0] = S0\n",
    "    \n",
    "    for i in range (1, steps + 1):\n",
    "        St[:, i] = St[:, i - 1]*np.exp((r - 1/2*np.power(sd, 2))*dt + sd*dWt[:, i - 1])\n",
    "    \n",
    "    return St[:, 1:]"
   ]
  },
  {
   "cell_type": "markdown",
   "metadata": {},
   "source": [
    "Build function that calculates the specified number of terms in the Laguerre polynomials, return the result in an X matrix"
   ]
  },
  {
   "cell_type": "code",
   "execution_count": 20,
   "metadata": {
    "collapsed": true
   },
   "outputs": [],
   "source": [
    "def laguerre_polynomials(S, k):\n",
    "    \n",
    "    #  the first k terms of Laguerre Polynomials (k<=4)\n",
    "    x1 = np.exp(-S/2)\n",
    "    x2 = np.exp(-S/2) * (1 - S)\n",
    "    x3 = np.exp(-S/2) * (1 - 2*S + S**2/2)\n",
    "    x4 = np.exp(-S/2) * (1 - 3*S + 3* S**2/2 - S**3/6)\n",
    "    \n",
    "    X  = [np.stack([x1, x2], axis = 1),\n",
    "          np.stack([x1, x2, x3], axis = 1),\n",
    "          np.stack([x1, x2, x3, x4], axis = 1)]\n",
    "    \n",
    "    return X[k-2]"
   ]
  },
  {
   "cell_type": "markdown",
   "metadata": {},
   "source": [
    "Build function that calculates the specified number of terms in the Hermite polynomials, return the result in an X matrix"
   ]
  },
  {
   "cell_type": "code",
   "execution_count": 21,
   "metadata": {
    "collapsed": true
   },
   "outputs": [],
   "source": [
    "def hermite_polynomials(S, k):\n",
    "    \n",
    "    #  the first k terms of Laguerre Polynomials (k<=4)\n",
    "    x1 = np.ones(S.shape)\n",
    "    x2 = 2*S\n",
    "    x3 = 4*S**2 - 2\n",
    "    x4 = 8*S**3 - 12\n",
    "    \n",
    "    X  = [np.stack([x1, x2], axis = 1),\n",
    "          np.stack([x1, x2, x3], axis = 1),\n",
    "          np.stack([x1, x2, x3, x4], axis = 1)]\n",
    "    \n",
    "    return X[k-2]"
   ]
  },
  {
   "cell_type": "markdown",
   "metadata": {},
   "source": [
    "Build function that calculates the specified number of terms in the monomials, return the result in an X matrix"
   ]
  },
  {
   "cell_type": "code",
   "execution_count": 22,
   "metadata": {
    "collapsed": true
   },
   "outputs": [],
   "source": [
    "def monomials(S, k):\n",
    "    \n",
    "    #  the first k terms of Laguerre Polynomials (k<=4)\n",
    "    x1 = np.ones(S.shape)\n",
    "    x2 = S\n",
    "    x3 = S**2\n",
    "    x4 = S**3 \n",
    "    \n",
    "    X  = [np.stack([x1, x2], axis = 1),\n",
    "          np.stack([x1, x2, x3], axis = 1),\n",
    "          np.stack([x1, x2, x3, x4], axis = 1)]\n",
    "    \n",
    "    return X[k-2]"
   ]
  },
  {
   "cell_type": "markdown",
   "metadata": {},
   "source": [
    "Build function that valuates the American put option with given polynomials for given k. "
   ]
  },
  {
   "cell_type": "code",
   "execution_count": 117,
   "metadata": {
    "collapsed": true
   },
   "outputs": [],
   "source": [
    "def LSMC(S0, K, r, sd, T, paths, k, polynomials):\n",
    "    \n",
    "    mult = 50\n",
    "    steps = int(mult*T)\n",
    "    St = StockPrices(S0, r, sd, T, paths, steps)/K\n",
    "    dt = T/steps\n",
    "\n",
    "    # initialize cash flow matrix\n",
    "    cashFlow = np.zeros((paths, steps))\n",
    "    cashFlow[:,steps - 1] = np.maximum(1 - St[:,steps - 1], 0)\n",
    "\n",
    "    # initialize continuation value matrix\n",
    "    cont_value = cashFlow\n",
    "\n",
    "    # initialize stopping time matrix\n",
    "    decision = np.zeros((paths, steps))\n",
    "    decision[:, steps - 1] = 1\n",
    "\n",
    "    # build discount factor\n",
    "    discountFactor = np.tile(np.exp(-r*dt* np.arange(1, \n",
    "                                    steps + 1, 1)), paths).reshape((paths, steps))\n",
    "\n",
    "    for i in reversed(range(steps - 1)):\n",
    "\n",
    "        # Find in the money paths\n",
    "        in_the_money_n = np.where(1 - St[:, i] > 0)[0]\n",
    "        out_of_money_n = np.asarray(list(set(np.arange(paths)) \n",
    "                                            - set(in_the_money_n)))\n",
    "\n",
    "        #  Use the first k terms of Laguerre Polynomials\n",
    "        if polynomials == 'laguerre':\n",
    "            X = laguerre_polynomials(St[in_the_money_n, i], k)\n",
    "            \n",
    "        elif polynomials == 'hermite':\n",
    "            X = hermite_polynomials(St[in_the_money_n, i], k)\n",
    "            \n",
    "        elif polynomials == 'monomials':\n",
    "            X = monomials(St[in_the_money_n, i], k)\n",
    "        else:\n",
    "            print ('Error: Please Choose the Right Polynomials to Estimate')\n",
    "            \n",
    "            \n",
    "        Y = cashFlow[in_the_money_n, i + 1]/np.exp(r*dt)\n",
    "\n",
    "        # Find Least Square Beta\n",
    "        A = np.dot(X.T, X)\n",
    "        b = np.dot(X.T, Y)\n",
    "        Beta = np.dot(np.linalg.pinv(A), b)\n",
    "\n",
    "        # find continuation value\n",
    "        cont_value[in_the_money_n,i] =  np.dot(X, Beta)\n",
    "        try:\n",
    "            cont_value[out_of_money_n,i] =  cont_value[out_of_money_n, i + 1]/np.exp(r*dt)\n",
    "        except:\n",
    "            pass\n",
    "\n",
    "        # update decision rule\n",
    "        decision[:, i] = np.where(np.maximum(1 - St[:, i], 0)  - cont_value[:,i] >= 0, 1, 0)\n",
    "        \n",
    "        # update cash flow matrix\n",
    "        cashFlow[:, i] =  np.maximum(1 - St[:, i], cont_value[:,i])\n",
    "    \n",
    "    # Find the first occurence of 1, indicating the early exercise date\n",
    "    first_exercise = np.argmax(decision, axis = 1) \n",
    "    decision = np.zeros((len(first_exercise), steps))\n",
    "    decision[np.arange(len(first_exercise)), first_exercise] = 1\n",
    "    \n",
    "    option_value = np.mean(np.sum(decision*discountFactor*cashFlow*K, axis = 1))\n",
    "    \n",
    "    return option_value"
   ]
  },
  {
   "cell_type": "markdown",
   "metadata": {},
   "source": [
    "Initialize parameters"
   ]
  },
  {
   "cell_type": "code",
   "execution_count": 118,
   "metadata": {
    "collapsed": true
   },
   "outputs": [],
   "source": [
    "sd = 0.25\n",
    "r = 0.04\n",
    "paths = 100000 \n",
    "K = 40\n",
    "np.random.seed(7)\n",
    "\n",
    "S0 = [36, 40, 44]\n",
    "T = [0.5, 1, 2]\n",
    "k = [2, 3, 4]"
   ]
  },
  {
   "cell_type": "markdown",
   "metadata": {},
   "source": [
    "**(a)** Use the LSMC method with 100,000 paths simulations (50,000 plus 50,000 antithetic)\n",
    "to price an American put option with strike price of X = \\$40, maturity of 0.5-years, 1-\n",
    "year, 2-years, and current stock prices of \\$36, \\$40, \\$44. Use the first k of the\n",
    "Laguerre polynomials for k = 2, 3, 4."
   ]
  },
  {
   "cell_type": "markdown",
   "metadata": {},
   "source": [
    "**Solution:**\n",
    "\n",
    "Find the option value with varying number of terms in the sequence (k) and varying intial prices ($S_0$)"
   ]
  },
  {
   "cell_type": "code",
   "execution_count": 119,
   "metadata": {},
   "outputs": [],
   "source": [
    "American_put_values_laguerre = {}\n",
    "for s in S0:\n",
    "    for t in T:\n",
    "        for i in k:\n",
    "            \n",
    "            American_put_values_laguerre[(s, t, i)] = round(LSMC(s, K, r, sd, t, paths, i, 'laguerre'), 5)"
   ]
  },
  {
   "cell_type": "code",
   "execution_count": 120,
   "metadata": {
    "collapsed": true
   },
   "outputs": [],
   "source": [
    "columns = ['Initial Price (S0)', 'Maturity T', 'Num terms (k)', 'Value Laguerre ($)']\n",
    "American_put_laguerre = pd.concat([pd.DataFrame(list(American_put_values_laguerre.keys())), \n",
    "            pd.DataFrame(list(American_put_values_laguerre.values()))], axis  = 1)\n",
    "American_put_laguerre.columns = columns"
   ]
  },
  {
   "cell_type": "markdown",
   "metadata": {},
   "source": [
    "**(b)** Use the LSMC method with 100,000 paths simulations (50,000 plus 50,000 antithetic)\n",
    "to price an American put option with strike price of X = \\$40, maturity of 0.5-years, 1-\n",
    "year, 2-years, and current stock prices of \\$36, \\$40, \\$44. Use the first k of the\n",
    "Hermite polynomials for k = 2, 3, 4."
   ]
  },
  {
   "cell_type": "markdown",
   "metadata": {},
   "source": [
    "**Solution:**\n",
    "\n",
    "Use the same technique, construct the function that calculates the American Option prices using Hermite Polynomials"
   ]
  },
  {
   "cell_type": "code",
   "execution_count": 121,
   "metadata": {
    "collapsed": true
   },
   "outputs": [],
   "source": [
    "American_put_values_hermite = {}\n",
    "for s in S0:\n",
    "    for t in T:\n",
    "        for i in k:\n",
    "            American_put_values_hermite[(s, t, i)] = round(LSMC(s, K, r, sd, t, paths, i, 'hermite'), 5)"
   ]
  },
  {
   "cell_type": "code",
   "execution_count": 122,
   "metadata": {
    "collapsed": true
   },
   "outputs": [],
   "source": [
    "columns = ['Initial Price (S0)', 'Maturity T', 'Num terms (k)', 'Value Hermite ($)']\n",
    "American_put_hermite = pd.concat([pd.DataFrame(list(American_put_values_hermite.keys())), \n",
    "            pd.DataFrame(list(American_put_values_hermite.values()))], axis  = 1)\n",
    "American_put_hermite.columns = columns"
   ]
  },
  {
   "cell_type": "markdown",
   "metadata": {},
   "source": [
    "**(c)** Use the LSMC method with 100,000 paths simulations (50,000 plus 50,000 antithetic)\n",
    "to price an American put option with strike price of X = \\$40, maturity of 0.5-years, 1-\n",
    "year, 2-years, and current stock prices of \\$36, \\$40, \\$44.  Use the first k of the monomials for k = 2, 3, 4."
   ]
  },
  {
   "cell_type": "markdown",
   "metadata": {},
   "source": [
    "**Solution:**\n",
    "\n",
    "Use the same technique, construct the function that calculates the American Option prices using simple monomials"
   ]
  },
  {
   "cell_type": "code",
   "execution_count": 123,
   "metadata": {
    "collapsed": true
   },
   "outputs": [],
   "source": [
    "American_put_values_monomials = {}\n",
    "for s in S0:\n",
    "    for t in T:\n",
    "        for i in k:\n",
    "            American_put_values_monomials[(s, t, i)] = round(LSMC(s, K, r, sd, t, paths, i, 'monomials'), 5)\n",
    "            "
   ]
  },
  {
   "cell_type": "code",
   "execution_count": 124,
   "metadata": {
    "collapsed": true
   },
   "outputs": [],
   "source": [
    "columns = ['Initial Price (S0)', 'Maturity T', 'Num terms (k)', 'Value Monomial ($)']\n",
    "American_put_monomials = pd.concat([pd.DataFrame(list(American_put_values_monomials.keys())), \n",
    "            pd.DataFrame(list(American_put_values_monomials.values()))], axis  = 1)\n",
    "American_put_monomials.columns = columns"
   ]
  },
  {
   "cell_type": "code",
   "execution_count": 125,
   "metadata": {},
   "outputs": [
    {
     "data": {
      "text/html": [
       "<div>\n",
       "<style scoped>\n",
       "    .dataframe tbody tr th:only-of-type {\n",
       "        vertical-align: middle;\n",
       "    }\n",
       "\n",
       "    .dataframe tbody tr th {\n",
       "        vertical-align: top;\n",
       "    }\n",
       "\n",
       "    .dataframe thead th {\n",
       "        text-align: right;\n",
       "    }\n",
       "</style>\n",
       "<table border=\"1\" class=\"dataframe\">\n",
       "  <thead>\n",
       "    <tr style=\"text-align: right;\">\n",
       "      <th></th>\n",
       "      <th>Initial Price (S0)</th>\n",
       "      <th>Maturity T</th>\n",
       "      <th>Num terms (k)</th>\n",
       "      <th>Value Laguerre ($)</th>\n",
       "      <th>Value Hermite ($)</th>\n",
       "      <th>Value Monomial ($)</th>\n",
       "    </tr>\n",
       "  </thead>\n",
       "  <tbody>\n",
       "    <tr>\n",
       "      <th>0</th>\n",
       "      <td>36</td>\n",
       "      <td>0.5</td>\n",
       "      <td>2</td>\n",
       "      <td>4.69575</td>\n",
       "      <td>4.67656</td>\n",
       "      <td>4.67937</td>\n",
       "    </tr>\n",
       "    <tr>\n",
       "      <th>1</th>\n",
       "      <td>36</td>\n",
       "      <td>0.5</td>\n",
       "      <td>3</td>\n",
       "      <td>4.70943</td>\n",
       "      <td>4.69646</td>\n",
       "      <td>4.70196</td>\n",
       "    </tr>\n",
       "    <tr>\n",
       "      <th>2</th>\n",
       "      <td>36</td>\n",
       "      <td>0.5</td>\n",
       "      <td>4</td>\n",
       "      <td>4.70752</td>\n",
       "      <td>4.72087</td>\n",
       "      <td>4.71242</td>\n",
       "    </tr>\n",
       "    <tr>\n",
       "      <th>3</th>\n",
       "      <td>36</td>\n",
       "      <td>1.0</td>\n",
       "      <td>2</td>\n",
       "      <td>5.31094</td>\n",
       "      <td>5.25247</td>\n",
       "      <td>5.26571</td>\n",
       "    </tr>\n",
       "    <tr>\n",
       "      <th>4</th>\n",
       "      <td>36</td>\n",
       "      <td>1.0</td>\n",
       "      <td>3</td>\n",
       "      <td>5.33153</td>\n",
       "      <td>5.32743</td>\n",
       "      <td>5.32780</td>\n",
       "    </tr>\n",
       "    <tr>\n",
       "      <th>5</th>\n",
       "      <td>36</td>\n",
       "      <td>1.0</td>\n",
       "      <td>4</td>\n",
       "      <td>5.33704</td>\n",
       "      <td>5.34687</td>\n",
       "      <td>5.31938</td>\n",
       "    </tr>\n",
       "    <tr>\n",
       "      <th>6</th>\n",
       "      <td>36</td>\n",
       "      <td>2.0</td>\n",
       "      <td>2</td>\n",
       "      <td>6.11958</td>\n",
       "      <td>5.99286</td>\n",
       "      <td>5.99480</td>\n",
       "    </tr>\n",
       "    <tr>\n",
       "      <th>7</th>\n",
       "      <td>36</td>\n",
       "      <td>2.0</td>\n",
       "      <td>3</td>\n",
       "      <td>6.14256</td>\n",
       "      <td>6.13569</td>\n",
       "      <td>6.15033</td>\n",
       "    </tr>\n",
       "    <tr>\n",
       "      <th>8</th>\n",
       "      <td>36</td>\n",
       "      <td>2.0</td>\n",
       "      <td>4</td>\n",
       "      <td>6.15156</td>\n",
       "      <td>6.15770</td>\n",
       "      <td>6.15348</td>\n",
       "    </tr>\n",
       "    <tr>\n",
       "      <th>9</th>\n",
       "      <td>40</td>\n",
       "      <td>0.5</td>\n",
       "      <td>2</td>\n",
       "      <td>2.46942</td>\n",
       "      <td>2.46034</td>\n",
       "      <td>2.44179</td>\n",
       "    </tr>\n",
       "    <tr>\n",
       "      <th>10</th>\n",
       "      <td>40</td>\n",
       "      <td>0.5</td>\n",
       "      <td>3</td>\n",
       "      <td>2.46373</td>\n",
       "      <td>2.47209</td>\n",
       "      <td>2.46402</td>\n",
       "    </tr>\n",
       "    <tr>\n",
       "      <th>11</th>\n",
       "      <td>40</td>\n",
       "      <td>0.5</td>\n",
       "      <td>4</td>\n",
       "      <td>2.46526</td>\n",
       "      <td>2.45538</td>\n",
       "      <td>2.46839</td>\n",
       "    </tr>\n",
       "    <tr>\n",
       "      <th>12</th>\n",
       "      <td>40</td>\n",
       "      <td>1.0</td>\n",
       "      <td>2</td>\n",
       "      <td>3.28390</td>\n",
       "      <td>3.27192</td>\n",
       "      <td>3.26545</td>\n",
       "    </tr>\n",
       "    <tr>\n",
       "      <th>13</th>\n",
       "      <td>40</td>\n",
       "      <td>1.0</td>\n",
       "      <td>3</td>\n",
       "      <td>3.31158</td>\n",
       "      <td>3.30733</td>\n",
       "      <td>3.31216</td>\n",
       "    </tr>\n",
       "    <tr>\n",
       "      <th>14</th>\n",
       "      <td>40</td>\n",
       "      <td>1.0</td>\n",
       "      <td>4</td>\n",
       "      <td>3.30589</td>\n",
       "      <td>3.30307</td>\n",
       "      <td>3.31212</td>\n",
       "    </tr>\n",
       "    <tr>\n",
       "      <th>15</th>\n",
       "      <td>40</td>\n",
       "      <td>2.0</td>\n",
       "      <td>2</td>\n",
       "      <td>4.29853</td>\n",
       "      <td>4.22123</td>\n",
       "      <td>4.20008</td>\n",
       "    </tr>\n",
       "    <tr>\n",
       "      <th>16</th>\n",
       "      <td>40</td>\n",
       "      <td>2.0</td>\n",
       "      <td>3</td>\n",
       "      <td>4.32463</td>\n",
       "      <td>4.31736</td>\n",
       "      <td>4.33568</td>\n",
       "    </tr>\n",
       "    <tr>\n",
       "      <th>17</th>\n",
       "      <td>40</td>\n",
       "      <td>2.0</td>\n",
       "      <td>4</td>\n",
       "      <td>4.34159</td>\n",
       "      <td>4.32349</td>\n",
       "      <td>4.32617</td>\n",
       "    </tr>\n",
       "    <tr>\n",
       "      <th>18</th>\n",
       "      <td>44</td>\n",
       "      <td>0.5</td>\n",
       "      <td>2</td>\n",
       "      <td>1.15281</td>\n",
       "      <td>1.15067</td>\n",
       "      <td>1.14423</td>\n",
       "    </tr>\n",
       "    <tr>\n",
       "      <th>19</th>\n",
       "      <td>44</td>\n",
       "      <td>0.5</td>\n",
       "      <td>3</td>\n",
       "      <td>1.15489</td>\n",
       "      <td>1.15034</td>\n",
       "      <td>1.13992</td>\n",
       "    </tr>\n",
       "    <tr>\n",
       "      <th>20</th>\n",
       "      <td>44</td>\n",
       "      <td>0.5</td>\n",
       "      <td>4</td>\n",
       "      <td>1.13598</td>\n",
       "      <td>1.15444</td>\n",
       "      <td>1.15384</td>\n",
       "    </tr>\n",
       "    <tr>\n",
       "      <th>21</th>\n",
       "      <td>44</td>\n",
       "      <td>1.0</td>\n",
       "      <td>2</td>\n",
       "      <td>1.95268</td>\n",
       "      <td>1.93816</td>\n",
       "      <td>1.95437</td>\n",
       "    </tr>\n",
       "    <tr>\n",
       "      <th>22</th>\n",
       "      <td>44</td>\n",
       "      <td>1.0</td>\n",
       "      <td>3</td>\n",
       "      <td>1.95972</td>\n",
       "      <td>1.96029</td>\n",
       "      <td>1.96352</td>\n",
       "    </tr>\n",
       "    <tr>\n",
       "      <th>23</th>\n",
       "      <td>44</td>\n",
       "      <td>1.0</td>\n",
       "      <td>4</td>\n",
       "      <td>1.96555</td>\n",
       "      <td>1.95544</td>\n",
       "      <td>1.96738</td>\n",
       "    </tr>\n",
       "    <tr>\n",
       "      <th>24</th>\n",
       "      <td>44</td>\n",
       "      <td>2.0</td>\n",
       "      <td>2</td>\n",
       "      <td>2.99718</td>\n",
       "      <td>2.93951</td>\n",
       "      <td>2.95363</td>\n",
       "    </tr>\n",
       "    <tr>\n",
       "      <th>25</th>\n",
       "      <td>44</td>\n",
       "      <td>2.0</td>\n",
       "      <td>3</td>\n",
       "      <td>2.98610</td>\n",
       "      <td>3.00679</td>\n",
       "      <td>3.00092</td>\n",
       "    </tr>\n",
       "    <tr>\n",
       "      <th>26</th>\n",
       "      <td>44</td>\n",
       "      <td>2.0</td>\n",
       "      <td>4</td>\n",
       "      <td>3.02575</td>\n",
       "      <td>2.99825</td>\n",
       "      <td>3.01609</td>\n",
       "    </tr>\n",
       "  </tbody>\n",
       "</table>\n",
       "</div>"
      ],
      "text/plain": [
       "    Initial Price (S0)  Maturity T  Num terms (k)  Value Laguerre ($)  \\\n",
       "0                   36         0.5              2             4.69575   \n",
       "1                   36         0.5              3             4.70943   \n",
       "2                   36         0.5              4             4.70752   \n",
       "3                   36         1.0              2             5.31094   \n",
       "4                   36         1.0              3             5.33153   \n",
       "5                   36         1.0              4             5.33704   \n",
       "6                   36         2.0              2             6.11958   \n",
       "7                   36         2.0              3             6.14256   \n",
       "8                   36         2.0              4             6.15156   \n",
       "9                   40         0.5              2             2.46942   \n",
       "10                  40         0.5              3             2.46373   \n",
       "11                  40         0.5              4             2.46526   \n",
       "12                  40         1.0              2             3.28390   \n",
       "13                  40         1.0              3             3.31158   \n",
       "14                  40         1.0              4             3.30589   \n",
       "15                  40         2.0              2             4.29853   \n",
       "16                  40         2.0              3             4.32463   \n",
       "17                  40         2.0              4             4.34159   \n",
       "18                  44         0.5              2             1.15281   \n",
       "19                  44         0.5              3             1.15489   \n",
       "20                  44         0.5              4             1.13598   \n",
       "21                  44         1.0              2             1.95268   \n",
       "22                  44         1.0              3             1.95972   \n",
       "23                  44         1.0              4             1.96555   \n",
       "24                  44         2.0              2             2.99718   \n",
       "25                  44         2.0              3             2.98610   \n",
       "26                  44         2.0              4             3.02575   \n",
       "\n",
       "    Value Hermite ($)  Value Monomial ($)  \n",
       "0             4.67656             4.67937  \n",
       "1             4.69646             4.70196  \n",
       "2             4.72087             4.71242  \n",
       "3             5.25247             5.26571  \n",
       "4             5.32743             5.32780  \n",
       "5             5.34687             5.31938  \n",
       "6             5.99286             5.99480  \n",
       "7             6.13569             6.15033  \n",
       "8             6.15770             6.15348  \n",
       "9             2.46034             2.44179  \n",
       "10            2.47209             2.46402  \n",
       "11            2.45538             2.46839  \n",
       "12            3.27192             3.26545  \n",
       "13            3.30733             3.31216  \n",
       "14            3.30307             3.31212  \n",
       "15            4.22123             4.20008  \n",
       "16            4.31736             4.33568  \n",
       "17            4.32349             4.32617  \n",
       "18            1.15067             1.14423  \n",
       "19            1.15034             1.13992  \n",
       "20            1.15444             1.15384  \n",
       "21            1.93816             1.95437  \n",
       "22            1.96029             1.96352  \n",
       "23            1.95544             1.96738  \n",
       "24            2.93951             2.95363  \n",
       "25            3.00679             3.00092  \n",
       "26            2.99825             3.01609  "
      ]
     },
     "execution_count": 125,
     "metadata": {},
     "output_type": "execute_result"
    }
   ],
   "source": [
    "AM_put = pd.concat([American_put_laguerre, American_put_hermite['Value Hermite ($)'], \n",
    "           American_put_monomials['Value Monomial ($)']], axis= 1)\n",
    "AM_put"
   ]
  },
  {
   "cell_type": "code",
   "execution_count": 126,
   "metadata": {},
   "outputs": [
    {
     "data": {
      "image/png": "[encoded data removed]",
      "text/plain": [
       "<matplotlib.figure.Figure at 0x1ecaae9df28>"
      ]
     },
     "metadata": {},
     "output_type": "display_data"
    }
   ],
   "source": [
    "plt.figure(figsize=(10, 7))\n",
    "plt.plot(AM_put['Value Laguerre ($)'],  linestyle='--', \n",
    "         marker='o', label = 'Value Estimated by Laguerre')\n",
    "\n",
    "plt.plot(AM_put['Value Hermite ($)'],   linestyle='--',\n",
    "         marker='o', label = 'Value Estimated by Hermite')\n",
    "\n",
    "plt.plot(AM_put['Value Monomial ($)'],  linestyle='--',  \n",
    "         marker='o',label = 'Value Estimated by Monomials')\n",
    "\n",
    "plt.legend()\n",
    "plt.xlabel('Combination 1 - 27')\n",
    "plt.ylabel('American Put Value $')\n",
    "plt.title('American Call Values estimated by Least Squre Monte Carlo Method')\n",
    "plt.show()"
   ]
  },
  {
   "cell_type": "markdown",
   "metadata": {},
   "source": [
    "**(d)** Compare the result and comment"
   ]
  },
  {
   "cell_type": "markdown",
   "metadata": {},
   "source": [
    "On the graph above, from left to right represents different combinations of strike prices, time to maturity and number of terms used in the regression. Theoritically, the number of terms used in the regression should not yield big difference in prices calculated. From the data table and the graph above, the property is evident as varying the number of terms used in the OLS regression does not change the price of option very much. When the time to maturity is 2, and the number of terms used in the regression is also 2, the Laguerre regression yields a slightly higher price than Hermite polynomials and monomials. For performance purposes, the number of steps multiplier is chosen to be 50"
   ]
  },
  {
   "cell_type": "markdown",
   "metadata": {},
   "source": [
    "## Question 2\n",
    "\n"
   ]
  },
  {
   "cell_type": "markdown",
   "metadata": {},
   "source": [
    "Forward-start options are path dependent options that have strike prices to be determined at\n",
    "a future date. For example, a forward start put option payoff at maturity is\n",
    "$$max(S_t - S_T, 0)$$\n",
    "where the strike price of the put option is $S_t$\n",
    ". Here $0 \\leq t \\leq T$."
   ]
  },
  {
   "cell_type": "markdown",
   "metadata": {},
   "source": [
    "**(a)** Estimate the value of the forward-start European put option on a stock with these\n",
    "characteristics: $S_0$ = $65, K = $60, $\\sigma$ = 20% per annum, risk-free rate is r = 6% per\n",
    "annum, t = 0.2 and T = 1."
   ]
  },
  {
   "cell_type": "markdown",
   "metadata": {},
   "source": [
    "**Solution:**"
   ]
  },
  {
   "cell_type": "markdown",
   "metadata": {},
   "source": [
    "The stock price generation could be reused in this question, the strike price could be determined for each path useing the stock prices. Since the European option has no right of early exercising, there is no need to use Least Square Monte Carlo Method"
   ]
  },
  {
   "cell_type": "markdown",
   "metadata": {},
   "source": [
    "Initialize Parameters"
   ]
  },
  {
   "cell_type": "code",
   "execution_count": 33,
   "metadata": {
    "collapsed": true
   },
   "outputs": [],
   "source": [
    "sd = 0.2\n",
    "r = 0.06\n",
    "paths = 100000\n",
    "K = 60\n",
    "S0 = 65\n",
    "T = 1\n",
    "t = 0.2\n",
    "np.random.seed(7)"
   ]
  },
  {
   "cell_type": "markdown",
   "metadata": {},
   "source": [
    "Build the function that values forward start European option"
   ]
  },
  {
   "cell_type": "code",
   "execution_count": 112,
   "metadata": {
    "collapsed": true
   },
   "outputs": [],
   "source": [
    "def forwardStart_European(S0, t, r, sd, T, paths):\n",
    "    \n",
    "    mult = 252\n",
    "    steps = int(mult*T)\n",
    "    St = StockPrices(S0, r, sd, T, paths, steps)\n",
    "    dt = T/steps \n",
    "    \n",
    "    # Determine Strike Pices of each paths\n",
    "    K = St[:, int(mult* t)]\n",
    "    \n",
    "    # Find the option value for each paths at time T\n",
    "    cashFlow = np.maximum(K - St[:,steps - 1], 0)\n",
    "    option_value = np.mean(cashFlow)*np.exp(-r*t)\n",
    "    \n",
    "    return option_value"
   ]
  },
  {
   "cell_type": "code",
   "execution_count": 113,
   "metadata": {},
   "outputs": [
    {
     "name": "stdout",
     "output_type": "stream",
     "text": [
      "The value of forward start European Option: $ 3.30624\n"
     ]
    }
   ],
   "source": [
    "print(\"The value of forward start European Option: $\", round(forwardStart_European(S0, t, r, sd, T, paths), 5))"
   ]
  },
  {
   "cell_type": "markdown",
   "metadata": {},
   "source": [
    "**(b)** Estimate the value of the forward-start American put option on a stock with these\n",
    "characteristics: $S_0$ = $65, K = $60, $\\sigma$ = 20% per annum, risk-free rate is r = 6% per\n",
    "annum, t = 0.2 and T = 1."
   ]
  },
  {
   "cell_type": "markdown",
   "metadata": {},
   "source": [
    "**Solution:**"
   ]
  },
  {
   "cell_type": "code",
   "execution_count": 114,
   "metadata": {
    "collapsed": true
   },
   "outputs": [],
   "source": [
    "def forwardStart_put_LSMC(S0, t, r, sd, T, paths):\n",
    "    \n",
    "    mult = 252\n",
    "    steps = int(mult*T)\n",
    "    St = StockPrices(S0, r, sd, T, paths, steps)\n",
    "    dt = T/steps\n",
    "\n",
    "    # Determine Strike Pices of each paths\n",
    "    K = St[:, int(mult* t)]\n",
    "    \n",
    "    # initialize cash flow matrix\n",
    "    cashFlow = np.zeros((paths, steps))\n",
    "    cashFlow[:,steps - 1] = np.maximum(K - St[:,steps - 1], 0)/K\n",
    "\n",
    "    # initialize continuation value matrix\n",
    "    cont_value = cashFlow\n",
    "\n",
    "    # initialize stopping time matrix\n",
    "    decision = np.zeros((paths, steps))\n",
    "    decision[:, steps - 1] = 1\n",
    "\n",
    "    # build discount factor\n",
    "    discountFactor = np.tile(np.exp(-r*dt* np.arange(1, \n",
    "                                    steps + 1, 1)), paths).reshape((paths, steps))\n",
    "    \n",
    "    for i in reversed(range(int(t*steps), (steps - 1))):\n",
    "\n",
    "        # Find in the money paths\n",
    "        in_the_money_n = np.where(K - St[:, i] > 0)[0]\n",
    "        out_of_money_n = np.asarray(list(set(np.arange(paths)) \n",
    "                                            - set(in_the_money_n)))\n",
    "\n",
    "        X = monomials(np.divide(St[in_the_money_n, i],K[in_the_money_n]), 4)            \n",
    "        Y = cashFlow[in_the_money_n, i + 1]/np.exp(r*dt)\n",
    "\n",
    "        # Find Least Square Beta\n",
    "        A = np.dot(X.T, X)\n",
    "        b = np.dot(X.T, Y)\n",
    "        Beta = np.dot(np.linalg.pinv(A), b)\n",
    "\n",
    "        # find continuation value\n",
    "        cont_value[in_the_money_n,i] =  np.dot(X, Beta)\n",
    "        try:\n",
    "            cont_value[out_of_money_n,i] =  cont_value[out_of_money_n, i + 1]/np.exp(r*dt)\n",
    "        except:\n",
    "            pass\n",
    "\n",
    "        # update decision rule\n",
    "        decision[:, i] = np.where(np.maximum(K - St[:, i], 0)  - cont_value[:,i] >= 0, 1, 0)\n",
    "        \n",
    "        # update cash flow matrix\n",
    "        cashFlow[:, i] =  np.maximum((K - St[:, i])/K, cont_value[:,i])\n",
    "    \n",
    "    # Find the first occurence of 1, indicating the early exercise date\n",
    "    first_exercise = np.argmax(decision, axis = 1) \n",
    "    decision = np.zeros((len(first_exercise), steps))\n",
    "    decision[np.arange(len(first_exercise)), first_exercise] = 1\n",
    "    \n",
    "    option_value = np.mean(np.sum(decision*discountFactor*cashFlow* np.tile(K.reshape((paths, 1)), steps), axis = 1))\n",
    "    \n",
    "    return option_value"
   ]
  },
  {
   "cell_type": "code",
   "execution_count": 115,
   "metadata": {
    "collapsed": true
   },
   "outputs": [],
   "source": [
    "sd = 0.2\n",
    "r = 0.06\n",
    "paths = 100000\n",
    "K = 60\n",
    "S0 = 65\n",
    "T = 1\n",
    "t = 0.2\n",
    "np.random.seed(7)"
   ]
  },
  {
   "cell_type": "code",
   "execution_count": 116,
   "metadata": {},
   "outputs": [
    {
     "name": "stdout",
     "output_type": "stream",
     "text": [
      "The value of forward start American Put Option: $ 3.48643\n"
     ]
    }
   ],
   "source": [
    "print(\"The value of forward start American Put Option: $\", round(forwardStart_put_LSMC(S0, t, r, sd, T, paths), 5))"
   ]
  }
 ],
 "metadata": {
  "kernelspec": {
   "display_name": "Python 3 (ipykernel)",
   "language": "python",
   "name": "python3"
  },
  "language_info": {
   "codemirror_mode": {
    "name": "ipython",
    "version": 3
   },
   "file_extension": ".py",
   "mimetype": "text/x-python",
   "name": "python",
   "nbconvert_exporter": "python",
   "pygments_lexer": "ipython3",
   "version": "3.9.12"
  }
 },
 "nbformat": 4,
 "nbformat_minor": 2
}
