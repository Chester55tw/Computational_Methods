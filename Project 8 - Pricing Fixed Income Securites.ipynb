{
 "cells": [
  {
   "cell_type": "markdown",
   "metadata": {},
   "source": [
    "# Project 8 - Pricing Fixed Income Securities"
   ]
  },
  {
   "cell_type": "code",
   "execution_count": 244,
   "metadata": {
    "code_folding": [],
    "collapsed": true
   },
   "outputs": [],
   "source": [
    "# python set up\n",
    "import matplotlib.pyplot as plt\n",
    "import math\n",
    "from numpy import*\n",
    "import pandas as pd\n",
    "from scipy.stats import * \n",
    "from scipy.optimize import newton\n",
    "set_printoptions(threshold=float('inf'), linewidth= 200, suppress = True)\n",
    "pd.set_option('display.float_format', lambda x: '%.5f' % x)\n",
    "random.seed(7)"
   ]
  },
  {
   "cell_type": "markdown",
   "metadata": {},
   "source": [
    "## Question 1"
   ]
  },
  {
   "cell_type": "markdown",
   "metadata": {},
   "source": [
    "Assume the dynamics of the short-term interest rate, under the risk-neutral measure, are given by\n",
    "the following SDE (Vasicek model) : \n",
    "\n",
    "$$dr_t =\\kappa (\\bar{r}− r_{t})dt + \\sigma dW_t$$\n",
    "\n",
    "with $r_0 = 5$%, $\\sigma$ = 10%, $\\kappa$ = 0.82, $\\bar{r}$= 5%"
   ]
  },
  {
   "cell_type": "markdown",
   "metadata": {},
   "source": [
    "**(a)** Use Monte Carlo Simulation (assume each time step is a day) to find the price of a pure discount\n",
    "bond, with Face Value of \\$1,000, maturing in T = 0.5 years (at time 𝑡 = 0):\n",
    "\n",
    "$$P(t, T) = \\ E\\ [ \\ $1,000\\  exp (− \\int_t^T r(s) ds)]$$"
   ]
  },
  {
   "cell_type": "markdown",
   "metadata": {},
   "source": [
    "**Solution:**"
   ]
  },
  {
   "cell_type": "markdown",
   "metadata": {},
   "source": [
    "Simulate 10,000 paths of interest rates by Vasicek Model"
   ]
  },
  {
   "cell_type": "code",
   "execution_count": 245,
   "metadata": {
    "code_folding": [],
    "collapsed": true,
    "scrolled": true
   },
   "outputs": [],
   "source": [
    "def Vasicek(r0, T, paths, steps):\n",
    "    \n",
    "    sd = 0.1 \n",
    "    kappa = 0.82\n",
    "    r_mean= 0.05\n",
    "    \n",
    "    dt = T/steps \n",
    "    rt = zeros((paths, steps + 1))\n",
    "    rt[:, 0] = r0\n",
    "    for i in range(1, steps + 1):\n",
    "        rt[:,i] = rt[:,i-1] + kappa*(r_mean - rt[:,i-1]) *dt + sd* sqrt(dt)*random.normal(0, 1, paths)\n",
    "    return rt"
   ]
  },
  {
   "cell_type": "markdown",
   "metadata": {},
   "source": [
    "Price the zero coupon bond using the short rate paths"
   ]
  },
  {
   "cell_type": "code",
   "execution_count": 246,
   "metadata": {
    "collapsed": true
   },
   "outputs": [],
   "source": [
    "def zeroCouponBondVasicek(r0, t, T, F):\n",
    "    \n",
    "    # intialize parameters\n",
    "    r0= 0.05 \n",
    "    sd = 0.1 \n",
    "    kappa = 0.82\n",
    "    r_mean= 0.05\n",
    "    \n",
    "    paths = 1000\n",
    "    steps = int(365*(T - t))\n",
    "    dt = (T - t)/steps\n",
    "    r = Vasicek(r0, (T - t), paths, steps)\n",
    "    \n",
    "    P = mean(F * exp(-sum(r, axis = 1)*dt))\n",
    "    \n",
    "    return P"
   ]
  },
  {
   "cell_type": "code",
   "execution_count": 247,
   "metadata": {},
   "outputs": [
    {
     "name": "stdout",
     "output_type": "stream",
     "text": [
      "The price of the zero coupon bond under Vasicek: $ 975.75607\n"
     ]
    }
   ],
   "source": [
    "print(\"The price of the zero coupon bond under Vasicek: $\", \n",
    "      round(zeroCouponBondVasicek(r0 = 0.05, t = 0, T = 0.5, F = 1000), 5))"
   ]
  },
  {
   "cell_type": "markdown",
   "metadata": {},
   "source": [
    "**(b)** Use Monte Carlo Simulation to find the price of a coupon paying bond, with Face Value of \\$1,000, paying semiannual coupons of $30, maturing in T = 4 years:\n",
    "\n",
    "$$P(t, T) = \\ E\\ [ \\sum_{i = 1}^8 C_i \\  exp (− \\int_t^T r(s) ds)]$$\n",
    "\n",
    "\n",
    "where C = {$C_i$ = \\$30 for 𝑖 = 1,2, … ,7; and $C_8$ = \\$1,030},\n",
    "\n",
    "T = {$T_1, T_2, T_3, T_4, T_5, T_6, T_7, T_8$} = {0.5, 1, 1.5, 2, 2.5, 3, 3.5, 4}"
   ]
  },
  {
   "cell_type": "markdown",
   "metadata": {},
   "source": [
    "**Solution:**"
   ]
  },
  {
   "cell_type": "markdown",
   "metadata": {},
   "source": [
    "Initialize parameters"
   ]
  },
  {
   "cell_type": "code",
   "execution_count": 248,
   "metadata": {
    "collapsed": true
   },
   "outputs": [],
   "source": [
    "coupons = [30] * 7 + [1030]\n",
    "payment_date = arange(0.5, 4.5, 0.5)"
   ]
  },
  {
   "cell_type": "markdown",
   "metadata": {},
   "source": [
    "Using the function in (a), the price of the coupon bond could be found "
   ]
  },
  {
   "cell_type": "code",
   "execution_count": 249,
   "metadata": {
    "collapsed": true
   },
   "outputs": [],
   "source": [
    "def couponBondVasicek(r0, t, coupons, payment_date):\n",
    "    \n",
    "    # intialize parameters\n",
    "    r0= 0.05 \n",
    "    sd = 0.1 \n",
    "    kappa = 0.82\n",
    "    r_mean= 0.05\n",
    "    F = 1000\n",
    "    \n",
    "    zero_coupon_bonds = list(map(lambda coupon, coupon_date: zeroCouponBondVasicek(r0, t, T = coupon_date, F = coupon), \n",
    "                                 coupons, payment_date))\n",
    "    P = sum(zero_coupon_bonds)\n",
    "    \n",
    "    return P"
   ]
  },
  {
   "cell_type": "code",
   "execution_count": 250,
   "metadata": {},
   "outputs": [
    {
     "name": "stdout",
     "output_type": "stream",
     "text": [
      "The price of the coupon paying bond under Vasicek : $ 1052.59464595\n"
     ]
    }
   ],
   "source": [
    "print(\"The price of the coupon paying bond under Vasicek : $\", couponBondVasicek(r0 = 0.05, t = 0, \n",
    "                                                                                 coupons = coupons, \n",
    "                                                                                 payment_date = payment_date))"
   ]
  },
  {
   "cell_type": "markdown",
   "metadata": {},
   "source": [
    "**(c)** Use Monte Carlo Simulation to find the price of a European Call option on the pure discountbond in part (a). The option matures in 3 months and has a strike price of K = \\$980. Use the explicit formula for the underlying bond price (only for the bond price)."
   ]
  },
  {
   "cell_type": "markdown",
   "metadata": {},
   "source": [
    "Explicit Formula for bond price"
   ]
  },
  {
   "cell_type": "markdown",
   "metadata": {},
   "source": [
    "$$  P(t, T) =  A(t, T) \\large e^{-B(t, T) r_t}$$\n",
    "\n",
    "Where,\n",
    "\n",
    "$$ B(t, T) = \\large \\frac{1}{\\kappa}\\big(1 - e^{-\\kappa(T - t)}\\big)$$\n",
    "\n",
    " $$ A(t, T) = \\large e^{\\big(\\bar{r} - \\frac{\\sigma^2}{2\\kappa^2}\\big)\\big(B(t, T) - (T - t)\\big) - \\frac{\\sigma^2}{4\\kappa} B^2(t, T)}$$"
   ]
  },
  {
   "cell_type": "markdown",
   "metadata": {},
   "source": [
    "**Important:** The call option is written on the expectation of the bond price. Therefore, the underlying asset price of this call option is the bond price at the time of option maturity"
   ]
  },
  {
   "cell_type": "markdown",
   "metadata": {},
   "source": [
    "**Solution:**"
   ]
  },
  {
   "cell_type": "markdown",
   "metadata": {},
   "source": [
    "Build function that calcualtes the zero-coupon bond explicitly with formulas"
   ]
  },
  {
   "cell_type": "code",
   "execution_count": 251,
   "metadata": {
    "collapsed": true
   },
   "outputs": [],
   "source": [
    "def ZeroCouponBondExplicit(rt, t, T, F):\n",
    "    \n",
    "    # intialize parameters\n",
    "    sd = 0.1 \n",
    "    kappa = 0.82\n",
    "    r_mean= 0.05\n",
    "    \n",
    "    # Find bond price given time t\n",
    "    B = 1/kappa * (1 - exp(-kappa * (T - t)))\n",
    "    A = exp(((r_mean - sd**2/(2*kappa**2)) * (B - (T - t)) - sd**2/(4*kappa)*B**2))\n",
    "    \n",
    "    return F * A*exp(-B*rt)"
   ]
  },
  {
   "cell_type": "markdown",
   "metadata": {},
   "source": [
    "Build function that finds the 3-month European Option on the 6-month zero coupon bond"
   ]
  },
  {
   "cell_type": "code",
   "execution_count": 252,
   "metadata": {
    "collapsed": true
   },
   "outputs": [],
   "source": [
    "def callOptionOnZeroExplicit(t, T, K, F):\n",
    "    \n",
    "    # intialize parameters\n",
    "    r0= 0.05 \n",
    "    sd = 0.1 \n",
    "    kappa = 0.82\n",
    "    r_mean= 0.05\n",
    "    \n",
    "    paths = 15000\n",
    "    steps = int(365*(T - t))\n",
    "    dt = (T - t)/steps\n",
    "    rt = Vasicek(r0, t, paths, steps)\n",
    "    \n",
    "    # Find the bond price\n",
    "    P_bond = ZeroCouponBondExplicit(rt[:,-1], t, T, F)\n",
    "    \n",
    "    # Find option payoff\n",
    "    payoff = maximum(P_bond - K, 0)\n",
    "    P_option = mean(payoff * exp(-sum(rt, axis = 1)*dt))\n",
    "    \n",
    "    return P_option"
   ]
  },
  {
   "cell_type": "code",
   "execution_count": 253,
   "metadata": {},
   "outputs": [
    {
     "name": "stdout",
     "output_type": "stream",
     "text": [
      "The price of European Option on zero coupon bond (with explicit formula on zero coupon bond): $ 8.94896\n"
     ]
    }
   ],
   "source": [
    "print(\"The price of European Option on zero coupon bond (with explicit formula on zero coupon bond): $\", \n",
    "      round(callOptionOnZeroExplicit(t = 0.25, T = 0.5, K = 980, F = 1000), 5))"
   ]
  },
  {
   "cell_type": "markdown",
   "metadata": {},
   "source": [
    "**(d)** Use Monte Carlo Simulation to find the price of a European Call option on the coupon paying bond in part (b). The option matures in 3 months and has a strike price of K = \\$980. Use Monte Carlo simulation for pricing the underlying bond."
   ]
  },
  {
   "cell_type": "markdown",
   "metadata": {},
   "source": [
    "**Solution:**"
   ]
  },
  {
   "cell_type": "code",
   "execution_count": 254,
   "metadata": {
    "collapsed": true
   },
   "outputs": [],
   "source": [
    "random.seed(7)"
   ]
  },
  {
   "cell_type": "code",
   "execution_count": 255,
   "metadata": {
    "collapsed": true
   },
   "outputs": [],
   "source": [
    "def callOptionOnCouponSimulate(t, K, F, coupons, payment_date):\n",
    "    \n",
    "    # intialize parameters, t is option maturity\n",
    "    r0= 0.05 \n",
    "    sd = 0.1 \n",
    "    kappa = 0.82\n",
    "    r_mean= 0.05\n",
    "    \n",
    "    paths = 1000\n",
    "    steps = int(365*(t))\n",
    "    dt = t/steps\n",
    "    rt = Vasicek(r0, t, paths, steps)\n",
    "    \n",
    "    # Find the bond price\n",
    "    P_bond = array(list(map(lambda rt: couponBondVasicek(rt, t, coupons, payment_date), rt[:, -1])))\n",
    "    #P_bond = array([couponBondVasicek(r, coupons, payment_date, t) for r in rt[:, -1]])\n",
    "    \n",
    "    # Find option payoff\n",
    "    payoff = maximum(P_bond - K, 0)\n",
    "    P_option = mean(payoff * exp(-sum(rt, axis = 1)*dt))\n",
    "    \n",
    "    return P_option"
   ]
  },
  {
   "cell_type": "code",
   "execution_count": 256,
   "metadata": {},
   "outputs": [],
   "source": [
    "#print(\"The price of European Option on coupon paying bond (with monte carlo simulation): $\", \n",
    "   #  round(callOptionOnCouponSimulate(t = 0.25, K = 980, F = 1000, coupons = coupons, payment_date = payment_date), 5))"
   ]
  },
  {
   "cell_type": "markdown",
   "metadata": {},
   "source": [
    "The price of European Option on coupon paying bond under Vasicek (with monte carlo simulation): $ 82.22869"
   ]
  },
  {
   "cell_type": "markdown",
   "metadata": {},
   "source": [
    "**(e)** Find the price of a European Call option of part (d) by using the explicit formula for the\n",
    "underlying bond price, and reconcile the findings with the ones of part (d)."
   ]
  },
  {
   "cell_type": "markdown",
   "metadata": {},
   "source": [
    "**Solution:**"
   ]
  },
  {
   "cell_type": "markdown",
   "metadata": {},
   "source": [
    "Initialize parameters"
   ]
  },
  {
   "cell_type": "code",
   "execution_count": 257,
   "metadata": {
    "collapsed": true
   },
   "outputs": [],
   "source": [
    "coupons = array([30] * 7 + [1030])\n",
    "payment_date = arange(0.5, 4.5, 0.5)\n",
    "maturity = 0.25"
   ]
  },
  {
   "cell_type": "markdown",
   "metadata": {},
   "source": [
    "Build function that finds $\\Pi(T, T_i, r^*)$"
   ]
  },
  {
   "cell_type": "code",
   "execution_count": 258,
   "metadata": {
    "collapsed": true
   },
   "outputs": [],
   "source": [
    "def PI(rt, maturity, payment_date):\n",
    "    \n",
    "    # intialize parameters, maturity is option maturity, payment_date is coupon payment date\n",
    "    r0= 0.05 \n",
    "    sd = 0.1 \n",
    "    kappa = 0.82\n",
    "    r_mean= 0.05    \n",
    "    \n",
    "    # find A(t, T) and B(t, T) according to formula\n",
    "    B = (1/kappa) * (1 - exp(-kappa * (payment_date - maturity)))\n",
    "    A = exp((r_mean - (sd**2)/(2*kappa**2)) * (B - (payment_date - maturity) ) - (sd**2)/(4*kappa) * B**2 )\n",
    "    \n",
    "    # find pi\n",
    "    PI_val = A*exp(-B*rt) \n",
    "    \n",
    "    return PI_val"
   ]
  },
  {
   "cell_type": "markdown",
   "metadata": {},
   "source": [
    "Find optimize function"
   ]
  },
  {
   "cell_type": "code",
   "execution_count": 259,
   "metadata": {
    "collapsed": true
   },
   "outputs": [],
   "source": [
    "def f_opt(rt, maturity, payment_date, coupons, K):\n",
    "    \n",
    "    # find PI\n",
    "    PIs = PI (rt, maturity, payment_date)\n",
    "    value = sum(coupons * PIs) - K\n",
    "    \n",
    "    return value"
   ]
  },
  {
   "cell_type": "markdown",
   "metadata": {},
   "source": [
    "Build function that calculates the zero coupon bond price explicitly"
   ]
  },
  {
   "cell_type": "code",
   "execution_count": 260,
   "metadata": {
    "collapsed": true
   },
   "outputs": [],
   "source": [
    "def callOptionOnCouponBS( maturity, K, F, coupons, payment_date):\n",
    "    \n",
    "    # intialize parameters, t is option maturity\n",
    "    r0= 0.05 \n",
    "    sd = 0.1 \n",
    "    kappa = 0.82\n",
    "    r_mean= 0.05    \n",
    "    \n",
    "    # find r*\n",
    "    r_ = newton(f_opt, 0, args=( maturity, payment_date, coupons, K))\n",
    "\n",
    "    #find Ki\n",
    "    Ki = PI(r_, maturity, payment_date)\n",
    "    \n",
    "    # find P(t, Ti)\n",
    "    P_t_Ti = PI(r0, 0, payment_date)\n",
    "    P_t_T = PI(r0, 0, maturity)\n",
    "    \n",
    "    # find d1, d2\n",
    "    sd_p = sd*( (1 - exp(-kappa * (payment_date - maturity)) ) / kappa) * sqrt((1 - exp(-2*kappa*(maturity)))/(2*kappa) )\n",
    "    \n",
    "    d1 = log(P_t_Ti/(Ki*P_t_T))/sd_p + sd_p/2\n",
    "    d2 = d1 - sd_p\n",
    "    \n",
    "    # find option price\n",
    "    c = P_t_Ti*norm.cdf(d1) - Ki*P_t_T*norm.cdf(d2)\n",
    "    C = sum(coupons * c)\n",
    "    \n",
    "    return C"
   ]
  },
  {
   "cell_type": "code",
   "execution_count": 261,
   "metadata": {},
   "outputs": [
    {
     "name": "stdout",
     "output_type": "stream",
     "text": [
      "The price of European Option on coupon paying bond under Vasicek(with explicit formula): $ 110.86428\n"
     ]
    }
   ],
   "source": [
    "print(\"The price of European Option on coupon paying bond under Vasicek(with explicit formula): $\", \n",
    "     round(callOptionOnCouponBS( maturity, K, F, coupons, payment_date), 5))"
   ]
  },
  {
   "cell_type": "markdown",
   "metadata": {},
   "source": [
    "Tow methods (Monte Carlo Simulations) and explicit formula all return similiar results. Since Monte Carlo simulations only has a very small number of paths, the variance could be  quite large. With larger number of paths, the result of Monte Carlo simulations will converge to the result returned by explicit formula."
   ]
  },
  {
   "cell_type": "markdown",
   "metadata": {},
   "source": [
    "## Question 2"
   ]
  },
  {
   "cell_type": "markdown",
   "metadata": {},
   "source": [
    "Assume the dynamics of the short-term interest rate, under the risk-neutral measure, are given by\n",
    "the following SDE (CIR model):\n",
    "\n",
    "$$dr_t =\\kappa (\\bar{r}− r_{t})dt + \\sigma \\sqrt{r_t}\\ dW_t$$\n",
    "\n",
    "with $r_0 = 5$%, $\\sigma$ = 12%, $\\kappa$ = 0.92, $\\bar{r}$= 5.5%"
   ]
  },
  {
   "cell_type": "markdown",
   "metadata": {},
   "source": [
    "**(a)** Use Monte Carlo Simulation to find at time t = 0 the price 𝑐(t, T, S) of a European Call option, with strike price of K = \\$980, maturity of T = 0.5 years on a Pure Discount Bond with Face Value of \\$1,000, that matures in S = 1 year:\n",
    "\n",
    "$$P(t, T) = \\ E_t\\ [ exp (− \\int_t^T r(s) ds)  ∗ max(P(T, S) − K, 0)]$$\n"
   ]
  },
  {
   "cell_type": "markdown",
   "metadata": {},
   "source": [
    "** Solution: **"
   ]
  },
  {
   "cell_type": "markdown",
   "metadata": {},
   "source": [
    "Initialize parameters"
   ]
  },
  {
   "cell_type": "code",
   "execution_count": 262,
   "metadata": {
    "collapsed": true
   },
   "outputs": [],
   "source": [
    "K = 980\n",
    "T = 0.5 # Option maturity, t in q1\n",
    "S = 1 # bond maturtiy, T in q1\n",
    "F = 1000 # Face Value of zero coupon bond\n",
    "r0 = 0.05 \n",
    "r_mean = 0.055\n",
    "sd = 0.12\n",
    "kappa = 0.92 \n",
    "random.seed(7)"
   ]
  },
  {
   "cell_type": "markdown",
   "metadata": {},
   "source": [
    "Build function to find interest rate with CIR model"
   ]
  },
  {
   "cell_type": "code",
   "execution_count": 263,
   "metadata": {
    "collapsed": true
   },
   "outputs": [],
   "source": [
    "def CIR(r0, sd, kappa, r_mean, T, paths, steps):\n",
    "    dt = T/steps \n",
    "    rt = zeros((paths, steps + 1))\n",
    "    rt[:, 0] = r0\n",
    "    for i in range(1, steps + 1):\n",
    "        rt[:,i] = rt[:,i-1] + kappa*(r_mean - rt[:,i-1]) *dt + sd* sqrt(rt[:,i-1])* sqrt(dt)*random.normal(0, 1, paths)\n",
    "    return rt"
   ]
  },
  {
   "cell_type": "markdown",
   "metadata": {},
   "source": [
    "Find zero coupon bond price under CIR"
   ]
  },
  {
   "cell_type": "code",
   "execution_count": 264,
   "metadata": {
    "collapsed": true
   },
   "outputs": [],
   "source": [
    "def zeroCouponBondCIR(r0, r_mean, sd, kappa, S, T, F):\n",
    "    \n",
    "    paths = 1000\n",
    "    steps = int(365*(S - T))\n",
    "    dt = (S - T)/steps\n",
    "    r = CIR(r0, sd, kappa, r_mean, (S - T), paths, steps)\n",
    "    P = mean(F * exp(-sum(r, axis = 1)*dt))\n",
    "    \n",
    "    return P"
   ]
  },
  {
   "cell_type": "markdown",
   "metadata": {},
   "source": [
    "Find European Option price  "
   ]
  },
  {
   "cell_type": "code",
   "execution_count": 265,
   "metadata": {
    "collapsed": true
   },
   "outputs": [],
   "source": [
    "def callOptionOnZeroCIR(r0, sd, kappa, r_mean, T, S, K, F, coupons, payment_date):\n",
    "    \n",
    "    paths = 1200\n",
    "    steps = int(365*(S - T))\n",
    "    dt = (S - T)/steps\n",
    "    rt = CIR(r0, sd, kappa, r_mean, T, paths, steps)\n",
    "    \n",
    "    # Find the bond price\n",
    "    P_bond = array([zeroCouponBondCIR(r, r_mean, sd, kappa, S, T, F) for r in rt[:, -1]])\n",
    "    \n",
    "    # Find option payoff\n",
    "    payoff = maximum(P_bond - K, 0)\n",
    "    P_option = mean(payoff * exp(-sum(rt, axis = 1)*dt))\n",
    "    \n",
    "    return P_option"
   ]
  },
  {
   "cell_type": "code",
   "execution_count": 266,
   "metadata": {},
   "outputs": [
    {
     "name": "stdout",
     "output_type": "stream",
     "text": [
      "The price of European Option on zero coupon bond under CIR (with Monte Carlo Simulations): $ 0.41444\n"
     ]
    }
   ],
   "source": [
    "print(\"The price of European Option on zero coupon bond under CIR (with Monte Carlo Simulations): $\",\n",
    "      round(callOptionOnZeroCIR(r0, sd, kappa, r_mean, T, S, K, F, coupons, payment_date), 5))"
   ]
  },
  {
   "cell_type": "markdown",
   "metadata": {},
   "source": [
    "**(b)** Use the Implicit Finite-Difference Method to find at time t = 0 the price c(t, T, S) of a European mCall option, with strike price of K = \\$980, maturity of T = 0.5 years on a Pure Discount Bond with Face Value of \\$1,000, that matures in S = 1 year. The PDE is given as\n",
    "\n",
    "\n",
    "$$\\frac{\\partial C_t}{\\partial t} + \\kappa(\\bar{r} - r)\\frac{\\partial C_t}{\\partial r} + \\frac{1}{2}\\sigma^2 r \\frac{\\partial ^2 C_t}{\\partial r ^2} - rC_t = 0$$\n",
    "\n",
    "with $c(T, T, S) = max(P(T, S) − K, 0)$, and $P(T, S)$ is computed explicitly.\n",
    "\n",
    "\n"
   ]
  },
  {
   "cell_type": "markdown",
   "metadata": {},
   "source": [
    "**Solution:**"
   ]
  },
  {
   "cell_type": "code",
   "execution_count": 267,
   "metadata": {
    "collapsed": true
   },
   "outputs": [],
   "source": [
    "K = 980\n",
    "T = 0.5 # Option maturity, t in q1\n",
    "S = 1 # bond maturtiy, T in q1\n",
    "F = 1000 # Face Value of zero coupon bond\n",
    "r0 = 0.05 \n",
    "r_mean = 0.055\n",
    "sd = 0.12\n",
    "kappa = 0.92 \n",
    "random.seed(7)"
   ]
  },
  {
   "cell_type": "markdown",
   "metadata": {},
   "source": [
    "Find prices of zero coupon bond explicitly"
   ]
  },
  {
   "cell_type": "code",
   "execution_count": 268,
   "metadata": {
    "collapsed": true
   },
   "outputs": [],
   "source": [
    "def ZeroCouponBondExplicitCIR(rt, r_mean, sd, kappa, T, t, F):\n",
    "    \n",
    "    h1 = sqrt(kappa**2 + 2*sd**2)\n",
    "    h2 = (kappa + h1)/2\n",
    "    h3 = (2*kappa*r_mean)/sd**2\n",
    "    \n",
    "    A = ((h1 * exp(h2*(T - t)))/(h2 * (exp(h1*(T - t)) - 1) + h1))**h3\n",
    "    B = (exp(h1*(T - t)) - 1)/(h2 * (exp(h1*(T - t)) - 1) + h1)\n",
    "    \n",
    "    return F * A*exp(-B*rt)"
   ]
  },
  {
   "cell_type": "markdown",
   "metadata": {},
   "source": [
    "Generate short rate grid"
   ]
  },
  {
   "cell_type": "code",
   "execution_count": 269,
   "metadata": {
    "collapsed": true
   },
   "outputs": [],
   "source": [
    "def generate_grid(sd, dr):\n",
    "\n",
    "    return arange(0, 0.1 + dr, dr)"
   ]
  },
  {
   "cell_type": "markdown",
   "metadata": {
    "collapsed": true
   },
   "source": [
    "The parameters of $P_u$, $P_m$, $P_d$ are calculated below"
   ]
  },
  {
   "cell_type": "markdown",
   "metadata": {},
   "source": [
    "\n",
    "$$P_u = -\\frac{\\Delta t}{2} \\bigg[\\frac{\\sigma^2 r_{ij}}{\\Delta r ^2} + \\frac{\\kappa(\\bar{r} - r_{ij})}{\\Delta r} \\bigg]$$\n",
    "\n",
    "$$P_m = 1 + \\frac{\\sigma^2 \\Delta t\\ r_{ij}}{\\Delta r ^2} + r_{ij} \\Delta t$$\n",
    "\n",
    "$$P_u = -\\frac{\\Delta t}{2} \\bigg[\\frac{\\sigma^2 r_{ij}}{\\Delta r ^2} - \\frac{\\kappa(\\bar{r} - r_{ij})}{\\Delta r} \\bigg]$$"
   ]
  },
  {
   "cell_type": "code",
   "execution_count": 270,
   "metadata": {
    "collapsed": true
   },
   "outputs": [],
   "source": [
    "def Generate_Ps_IFD(dt, sd, r_mean, dr, kappa, grid_r):\n",
    "\n",
    "    Pu = -(1/2)*dt*((sd**2 * grid_r)/(dr**2) + (kappa*(r_mean - grid_r))/(dr))\n",
    "    Pm = 1 + (sd**2 * dt * grid_r)/(dr**2) + grid_r*dt\n",
    "    Pd = -(1/2)*dt*((sd**2 * grid_r)/(dr**2) - (kappa*(r_mean - grid_r))/(dr))\n",
    "    \n",
    "    return Pu, Pm, Pd"
   ]
  },
  {
   "cell_type": "markdown",
   "metadata": {},
   "source": [
    "Generate matrix A for Implicit Finte Difference Method, which is the same for every period"
   ]
  },
  {
   "cell_type": "code",
   "execution_count": 271,
   "metadata": {
    "collapsed": true
   },
   "outputs": [],
   "source": [
    "def A_Imlicit(Pu, Pm, Pd, grid_size):\n",
    "    \n",
    "    Pd_mtx = hstack((diag(Pd[1:-1]), \n",
    "                     zeros((grid_size - 2, 2))))\n",
    "\n",
    "    Pm_mtx = hstack((zeros((grid_size - 2, 1)), \n",
    "                     diag(Pm[1:-1]),\n",
    "                     zeros((grid_size - 2, 1))))\n",
    "\n",
    "    Pu_mtx = hstack((zeros((grid_size - 2, 2)), \n",
    "                    diag(Pu[1:-1])))\n",
    "    \n",
    "    A = Pu_mtx + Pm_mtx + Pd_mtx\n",
    "    A = vstack((hstack((1, -1, zeros(grid_size - 2))),\n",
    "                A, \n",
    "                hstack((zeros(grid_size - 2), -1, 1))))\n",
    "    \n",
    "    return A"
   ]
  },
  {
   "cell_type": "markdown",
   "metadata": {},
   "source": [
    "Build the function that solves the PDE using Implicit Finte Difference Methods"
   ]
  },
  {
   "cell_type": "code",
   "execution_count": 272,
   "metadata": {
    "collapsed": true
   },
   "outputs": [],
   "source": [
    "def ImplicitFinteDifferenceCall(sd, r0, r_mean, kappa, T, S, K, F):\n",
    "    \n",
    "    # find grid parameters\n",
    "    dt = 0.0001\n",
    "    dr = 0.001 \n",
    "    F = 1000\n",
    "    \n",
    "    # Generate stock grids with the input parameters\n",
    "    short_rate_gird = generate_grid(sd, dr)\n",
    "    grid_size =  len(short_rate_gird)\n",
    "    \n",
    "    # find the index that r0 exsits on the grid\n",
    "    r0_idx = where(short_rate_gird == r0)\n",
    "\n",
    "    # Generate Pu, Pm, Pd\n",
    "    Pu, Pm, Pd = Generate_Ps_IFD(dt, sd, r_mean, dr, kappa, short_rate_gird)\n",
    "\n",
    "    # Backward loop through the entire grid, solve the entire stock grid\n",
    "    A_inv = linalg.inv(A_Imlicit(Pu, Pm, Pd, grid_size))\n",
    "    \n",
    "    # initialize matrix B\n",
    "    B =  hstack(((ZeroCouponBondExplicitCIR(short_rate_gird[0], r_mean, sd, kappa, S, T, F) \n",
    "                 - ZeroCouponBondExplicitCIR(short_rate_gird[1], r_mean, sd, kappa, S, T, F)), \n",
    "                 maximum(ZeroCouponBondExplicitCIR(short_rate_gird, r_mean, sd, kappa, S, T, F) - K, 0)[1:-1], 0))\n",
    "\n",
    "    for i in range(int(T/dt)):\n",
    "       \n",
    "        option_value = A_inv.dot(B)\n",
    "        B =  hstack(((ZeroCouponBondExplicitCIR(short_rate_gird[0], r_mean, sd, kappa, S, T, F) \n",
    "                 - ZeroCouponBondExplicitCIR(short_rate_gird[1], r_mean, sd, kappa, S, T, F), option_value[1:-1], 0)))\n",
    "    \n",
    "    \n",
    "    return option_value[r0_idx]"
   ]
  },
  {
   "cell_type": "code",
   "execution_count": 273,
   "metadata": {},
   "outputs": [
    {
     "name": "stdout",
     "output_type": "stream",
     "text": [
      "The price of European Option on zero coupon bond under CIR (with Implicit Finite Difference Method): $ 0.39392\n"
     ]
    }
   ],
   "source": [
    "print(\"The price of European Option on zero coupon bond under CIR (with Implicit Finite Difference Method): $\",\n",
    "      round(ImplicitFinteDifferenceCall(sd, r0, r_mean, kappa, T, S, K, F)[0], 5))"
   ]
  },
  {
   "cell_type": "markdown",
   "metadata": {},
   "source": [
    "**(c)**Compute the price c(t, T, S) of the European Call option above using the explicit formula, and\n",
    "compare it to your findings in parts (a) and (b) and comment on your findings."
   ]
  },
  {
   "cell_type": "markdown",
   "metadata": {},
   "source": [
    "**Solution:**"
   ]
  },
  {
   "cell_type": "markdown",
   "metadata": {},
   "source": [
    "Build function that calculates the explicit option prices under CIR"
   ]
  },
  {
   "cell_type": "code",
   "execution_count": 274,
   "metadata": {
    "collapsed": true
   },
   "outputs": [],
   "source": [
    "def callOptionCIRExplicit(r0, sd, kappa, r_mean, T, S, K, F):\n",
    "    \n",
    "    P_0_T = ZeroCouponBondExplicitCIR(r0, r_mean, sd, kappa, T, 0, F)/F\n",
    "    P_0_S = ZeroCouponBondExplicitCIR(r0, r_mean, sd, kappa, S, 0, F)/F\n",
    "\n",
    "    K = K/F\n",
    "\n",
    "    theta = sqrt(kappa**2 + 2*sd**2)\n",
    "    phi = (2 * theta)/(sd**2 * (exp(theta*(T - 0)) - 1))\n",
    "    si = (kappa + theta)/sd**2\n",
    "\n",
    "    h1 = sqrt(kappa**2 + 2*sd**2)\n",
    "    h2 = (kappa + h1)/2\n",
    "    h3 = (2*kappa*r_mean)/sd**2\n",
    "\n",
    "    A = ((h1 * exp(h2*(S - T)))/(h2 * (exp(h1*(S - T)) - 1) + h1))**h3\n",
    "    B = (exp(h1*(S - T)) - 1)/(h2 * (exp(h1*(S - T)) - 1) + h1)\n",
    "\n",
    "    r_star = log(A/K)/B\n",
    "\n",
    "    C = (P_0_S* ncx2.cdf(2*r_star*(phi + si + B), \n",
    "                        (4*kappa*r_mean)/(sd**2), \n",
    "                        (2*phi**2 * r0 * exp(theta*(T-0)))/(phi + si + B))\n",
    "                         - K * P_0_T * ncx2.cdf(2*r_star*(phi + si), \n",
    "                                                (4*kappa*r_mean)/(sd**2), \n",
    "                                                (2*phi**2 * r0 * exp(theta*(T-0)))/(phi + si)))\n",
    "    C = F*C\n",
    "    \n",
    "    return C"
   ]
  },
  {
   "cell_type": "markdown",
   "metadata": {},
   "source": [
    "Initialize parameters"
   ]
  },
  {
   "cell_type": "code",
   "execution_count": 275,
   "metadata": {
    "collapsed": true
   },
   "outputs": [],
   "source": [
    "K = 980\n",
    "T = 0.5 # Option maturity, t in q1\n",
    "S = 1 # bond maturtiy, T in q1\n",
    "F = 1000 # Face Value of zero coupon bond\n",
    "r0 = 0.05 \n",
    "r_mean = 0.055\n",
    "sd = 0.12\n",
    "kappa = 0.92 "
   ]
  },
  {
   "cell_type": "code",
   "execution_count": 276,
   "metadata": {},
   "outputs": [
    {
     "name": "stdout",
     "output_type": "stream",
     "text": [
      "The price of European Option on zero coupon bond under CIR (with Monte Carlo Simulations): $ 0.39406\n"
     ]
    }
   ],
   "source": [
    "print(\"The price of European Option on zero coupon bond under CIR (with Monte Carlo Simulations): $\",\n",
    "      round(callOptionCIRExplicit(r0, sd, kappa, r_mean, T, S, K, F), 5))"
   ]
  },
  {
   "cell_type": "markdown",
   "metadata": {},
   "source": [
    "Three methods returned very similiar results. Again, the variance of Monte Carlo Simulations are quite high. Larger number of paths are more desirable for the Monte Carlo Simulations to converge"
   ]
  },
  {
   "cell_type": "markdown",
   "metadata": {},
   "source": [
    "## Question 3"
   ]
  },
  {
   "cell_type": "markdown",
   "metadata": {},
   "source": [
    "Assume the dynamics of the short-term interest rate, under the risk-neutral measure, are given by\n",
    "the following system of SDE (**G2++ model**):\n",
    "\n",
    "$$dx_t = −ax_tdt + \\sigma dWt^1$$\n",
    "$$dy_t = −by_tdt + \\eta dWt^2$$\n",
    "$$r_t = x_t + y_t + \\phi_t$$\n",
    "\n",
    "$x_0$ = $y_0$ = 0, $\\phi_0$ = $r_0$ = 3%, $dW_t^1dW_t^2$ = $\\rho dt$, $\\rho$ = 0.7, $\\alpha$ = 0.1, b = 0.3, $\\sigma$ = 3%, $\\eta$ = 8%. Assume $\\phi_t$ = const = 3% for any 𝑡 ≥ 0.\n"
   ]
  },
  {
   "cell_type": "markdown",
   "metadata": {},
   "source": [
    "Use Monte Carlo Simulation to find at time 𝑡 = 0 the price p(t, T, S) of a European Put option,\n",
    "with strike price of K = \\$950, maturity of T = 0.5 years on a Pure Discount Bond with Face\n",
    "value of \\$1,000, that matures in S = 1 year. Compare it with the price found by the explicit\n",
    "formula and comment on it."
   ]
  },
  {
   "cell_type": "markdown",
   "metadata": {
    "collapsed": true
   },
   "source": [
    "**Solution:**"
   ]
  },
  {
   "cell_type": "markdown",
   "metadata": {},
   "source": [
    "Initialize parameters"
   ]
  },
  {
   "cell_type": "code",
   "execution_count": 277,
   "metadata": {
    "collapsed": true
   },
   "outputs": [],
   "source": [
    "x0 = 0\n",
    "y0 = 0\n",
    "r0 = 0.03\n",
    "option_maturity = 0.5\n",
    "bond_maturity = 1\n",
    "K = 950\n",
    "random.seed(7)"
   ]
  },
  {
   "cell_type": "markdown",
   "metadata": {
    "collapsed": true
   },
   "source": [
    "Generate bivariate normal with correlation $\\rho$ = 0.7"
   ]
  },
  {
   "cell_type": "code",
   "execution_count": 278,
   "metadata": {
    "collapsed": true
   },
   "outputs": [],
   "source": [
    "def bivariate_normals(paths):\n",
    "    \n",
    "    corr = 0.7\n",
    "    Z1 = random.normal(0,1, paths)\n",
    "    Z2 = random.normal(0,1, paths)\n",
    "    x = Z1\n",
    "    y = corr*Z1+sqrt(1-corr**2)*Z2\n",
    "    \n",
    "    return x,y"
   ]
  },
  {
   "cell_type": "markdown",
   "metadata": {},
   "source": [
    "Generate process $r_t$"
   ]
  },
  {
   "cell_type": "code",
   "execution_count": 279,
   "metadata": {
    "collapsed": true
   },
   "outputs": [],
   "source": [
    "def G2_rt(xt, yt, alpha, beta, sigma, eta, phi, T, paths, steps):\n",
    "    \n",
    "    # initialize sequence\n",
    "    dt = T/steps\n",
    "    x = zeros((paths,steps+1))\n",
    "    y = zeros((paths,steps+1))\n",
    "    r = zeros((paths,steps+1))\n",
    "    \n",
    "    x[:,0] = xt\n",
    "    y[:,0] = yt\n",
    "    # generate correlated dW1,dW2\n",
    "    dWt = bivariate_normals(paths*steps)\n",
    "    dWt1 = dWt[0].reshape((paths,steps))\n",
    "    dWt2 = dWt[1].reshape((paths,steps))\n",
    "    \n",
    "    for i in range(1, steps+1):\n",
    "\n",
    "        x[:,i] = x[:,i-1] -alpha*x[:,i-1]*dt + sigma*sqrt(dt)*dWt1[:,i-1]\n",
    "        y[:,i] = y[:,i-1] -beta*y[:,i-1]*dt + eta*sqrt(dt)*dWt2[:,i-1]\n",
    "        \n",
    "    r = x + y + phi   \n",
    "    \n",
    "    return r,x,y"
   ]
  },
  {
   "cell_type": "markdown",
   "metadata": {},
   "source": [
    "Build the function that calculates the zero coupon bond price"
   ]
  },
  {
   "cell_type": "code",
   "execution_count": 280,
   "metadata": {
    "collapsed": true
   },
   "outputs": [],
   "source": [
    "def zeroCouponBondG2(xt, yt, t, T, F):\n",
    "    phi = 0.03\n",
    "    alpha = 0.1\n",
    "    beta = 0.3\n",
    "    sigma = 0.03\n",
    "    eta = 0.08\n",
    "    \n",
    "    paths = 1000\n",
    "    steps = 1000\n",
    "    dt = (T - t)/steps\n",
    "\n",
    "    # Genetate r paths\n",
    "    r = G2_rt(xt, yt, alpha, beta, sigma, eta, phi, T, paths, steps)[0]\n",
    "    \n",
    "    # Find zero coupon bond price\n",
    "    P = F * mean(exp(-sum(r[:,1:], axis = 1)*dt))\n",
    "    \n",
    "    return P"
   ]
  },
  {
   "cell_type": "markdown",
   "metadata": {},
   "source": [
    "Build function that calculates the option price "
   ]
  },
  {
   "cell_type": "code",
   "execution_count": 281,
   "metadata": {
    "collapsed": true
   },
   "outputs": [],
   "source": [
    "def putOptionOnZeroG2(xt, yt, opmat, bmat, F, K):\n",
    "    # set parameters\n",
    "    phi = 0.03\n",
    "    alpha = 0.1\n",
    "    beta = 0.3\n",
    "    sigma = 0.03\n",
    "    eta = 0.08\n",
    "    \n",
    "    #set paths and steps \n",
    "    paths = 1000\n",
    "    steps = 1000\n",
    "    dt = (bmat - opmat)/steps\n",
    "    \n",
    "    # all 3 processes from t =0 to T = option_maturity\n",
    "    r_opmat,x_opmat,y_opmat = G2_rt(xt, yt, alpha, beta, sigma, eta, phi, opmat, paths, steps)\n",
    "    \n",
    "    # bond value in 2nd period T-S\n",
    "    p_bond = array(list(map(lambda x,y: zeroCouponBondG2(x, y, opmat,bmat,F), x_opmat[:,-1], y_opmat[:,-1]))) \n",
    "    \n",
    "    # Find option payoff\n",
    "    payoff = maximum(K - p_bond, 0)\n",
    "    P_option = mean(payoff * exp(-sum(r_opmat[:,1:], axis = 1)*dt))\n",
    "    \n",
    "    return P_option"
   ]
  },
  {
   "cell_type": "code",
   "execution_count": 282,
   "metadata": {},
   "outputs": [
    {
     "name": "stdout",
     "output_type": "stream",
     "text": [
      "The zero coupon bond price under two factor models (with explicit formula): $ 1.45944438183\n"
     ]
    }
   ],
   "source": [
    "print(\"The zero coupon bond price under two factor models (with explicit formula): $\",\n",
    "        putOptionOnZeroG2(x0, y0, opmat= option_maturity, bmat =bond_maturity , F = 1000, K =950))"
   ]
  },
  {
   "cell_type": "markdown",
   "metadata": {},
   "source": [
    "Explicit Formula for two factor model"
   ]
  },
  {
   "cell_type": "code",
   "execution_count": 283,
   "metadata": {},
   "outputs": [],
   "source": [
    "def zeroCouponBondExplicit(t, T, F):\n",
    "    \n",
    "    # set parameters\n",
    "    phi = 0.03\n",
    "    alpha = 0.1\n",
    "    beta = 0.3\n",
    "    sigma = 0.03\n",
    "    eta = 0.08\n",
    "    \n",
    "    # break down the long fomula into 3 parts\n",
    "    V1 = (sigma**2/ alpha**2)*( (T - t) + (2/alpha)*exp(-alpha*(T - t)) - (1/(2*alpha)) *exp(-2*alpha*(T - t)) - (3/(2*alpha))) \n",
    "    \n",
    "    V2 = (eta**2/beta**2) *((T - t) + (2/beta)*exp(-beta * (T - t)) - (1/(2*beta)) *exp(-2 * beta * (T - t)) - (3/(2 * beta)))\n",
    "        \n",
    "    V3 = 2*0.7*(sigma*eta)/(alpha*beta)*((T - t) + (exp(-alpha*(T - t)) - 1)/alpha \n",
    "                                           + (exp(-beta*(T - t)) - 1)/beta -(exp(-(alpha + beta)*(T - t))-1)/(alpha + beta))\n",
    "    Vt = V1 + V2 + V3\n",
    "    \n",
    "    P = exp(-phi*(T - t) - ((1 - exp(-alpha * (T - t)))/alpha) * x0 - ((1 - exp(-beta * (T - t))/beta)*y0) + (1/2)* Vt) * F\n",
    "    \n",
    "    return P"
   ]
  },
  {
   "cell_type": "code",
   "execution_count": 284,
   "metadata": {},
   "outputs": [],
   "source": [
    "def europeanOptionExplicit(t, T, S, K, F):\n",
    "    \n",
    "    K = K/F\n",
    "    xt = 0\n",
    "    yt = 0\n",
    "    corr = 0.7\n",
    "    alpha = 0.1\n",
    "    beta = 0.3\n",
    "    sigma = 0.03\n",
    "    eta = 0.08\n",
    "    \n",
    "    # break down the long formula into 3 parts\n",
    "    sigma1 = sigma**2/(2* alpha**3)*(1 - exp(-alpha * (S - T)))**2 * (1 - exp(-2 *alpha *(T - t)))\n",
    "    \n",
    "    sigma2 = eta**2/(2*beta**3)*(1 - exp(-beta* (S - T)))**2*(1 - exp(-2*beta*(T - t)))\n",
    "    \n",
    "    sigma3 = (2 *0.7 *sigma *eta/(alpha*beta*(alpha + beta))\n",
    "              *(1-exp(-alpha*(S - T)))*(1 - exp(-beta*(S - T)))*(1 -exp(-(alpha + beta)*(T - t))))\n",
    "    \n",
    "    sigma_sqr = sqrt(sigma1 + sigma2 + sigma3)\n",
    "\n",
    "    p_t_S = zeroCouponBondExplicit(0, S, F)\n",
    "    p_t_T = zeroCouponBondExplicit(0, T, F)\n",
    "    \n",
    "    put = (-p_t_S*norm.cdf(log(K*p_t_T/p_t_S)/sigma_sqr - sigma_sqr/2) \n",
    "           + p_t_T*K*norm.cdf(log(K*p_t_T/p_t_S)/sigma_sqr +sigma_sqr/2))\n",
    "    \n",
    "    return put"
   ]
  },
  {
   "cell_type": "code",
   "execution_count": 285,
   "metadata": {},
   "outputs": [
    {
     "name": "stdout",
     "output_type": "stream",
     "text": [
      "The zero coupon bond price under two factor models (with explicit formula): $ 1.86096\n"
     ]
    }
   ],
   "source": [
    "print(\"The zero coupon bond price under two factor models (with explicit formula): $\",\n",
    "     round(europeanOptionExplicit(t=0, T=0.5, S =1, K=950, F=1000), 5))"
   ]
  },
  {
   "cell_type": "markdown",
   "metadata": {},
   "source": [
    "The European call option evaluated by these two methods returned very similiar results. the variance of Monte Carlo Simulations are quite high. Larger number of paths are more desirable for the Monte Carlo Simulations to converge. Some variance reduction techniques could be used to reduce the variance and make them converge faster"
   ]
  }
 ],
 "metadata": {
  "kernelspec": {
   "display_name": "Python 3 (ipykernel)",
   "language": "python",
   "name": "python3"
  },
  "language_info": {
   "codemirror_mode": {
    "name": "ipython",
    "version": 3
   },
   "file_extension": ".py",
   "mimetype": "text/x-python",
   "name": "python",
   "nbconvert_exporter": "python",
   "pygments_lexer": "ipython3",
   "version": "3.9.12"
  },
  "toc": {
   "nav_menu": {},
   "number_sections": true,
   "sideBar": true,
   "skip_h1_title": false,
   "title_cell": "Table of Contents",
   "title_sidebar": "Contents",
   "toc_cell": false,
   "toc_position": {},
   "toc_section_display": true,
   "toc_window_display": false
  },
  "varInspector": {
   "cols": {
    "lenName": 16,
    "lenType": 16,
    "lenVar": 40
   },
   "kernels_config": {
    "python": {
     "delete_cmd_postfix": "",
     "delete_cmd_prefix": "del ",
     "library": "var_list.py",
     "varRefreshCmd": "print(var_dic_list())"
    },
    "r": {
     "delete_cmd_postfix": ") ",
     "delete_cmd_prefix": "rm(",
     "library": "var_list.r",
     "varRefreshCmd": "cat(var_dic_list()) "
    }
   },
   "position": {
    "height": "361px",
    "left": "1166px",
    "right": "20px",
    "top": "120px",
    "width": "307px"
   },
   "types_to_exclude": [
    "module",
    "function",
    "builtin_function_or_method",
    "instance",
    "_Feature"
   ],
   "window_display": false
  }
 },
 "nbformat": 4,
 "nbformat_minor": 2
}
