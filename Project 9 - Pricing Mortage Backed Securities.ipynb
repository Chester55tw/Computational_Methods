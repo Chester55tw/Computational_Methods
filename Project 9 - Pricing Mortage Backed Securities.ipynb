{
 "cells": [
  {
   "cell_type": "markdown",
   "metadata": {},
   "source": [
    "# Project 9 - Pricing Mortage Backed Securities"
   ]
  },
  {
   "cell_type": "code",
   "execution_count": 1,
   "metadata": {
    "collapsed": true
   },
   "outputs": [],
   "source": [
    "# python set up\n",
    "import matplotlib.pyplot as plt\n",
    "from numpy import*\n",
    "import pandas as pd\n",
    "from scipy.stats import * \n",
    "from scipy.optimize import newton\n",
    "set_printoptions(threshold=float('inf'), linewidth= 200, suppress = True)\n",
    "pd.set_option('display.float_format', lambda x: '%.5f' % x)"
   ]
  },
  {
   "cell_type": "markdown",
   "metadata": {},
   "source": [
    "## Problem Statement"
   ]
  },
  {
   "cell_type": "markdown",
   "metadata": {},
   "source": [
    "Consider a 30-year MBS with a fixed WAC = 8% (monthly cash flows starting in January of this year). The Notional Amount of the Loan is \\$100,000. Use the CIR model of interest rates $dr_t = \\kappa (\\bar{r}− r_t)dt + \\sigma \\sqrt{r_t}dW_t$ with $r_0$ = 0.078,$\\kappa$ = 0.6, $\\bar{r}$ = 0.08, $\\sigma$ = 0.12. "
   ]
  },
  {
   "cell_type": "markdown",
   "metadata": {},
   "source": [
    "**1.** Consider the Numerix Prepayment Model"
   ]
  },
  {
   "cell_type": "markdown",
   "metadata": {},
   "source": [
    "**(a)** Compute the price of the MBS using this model for prepayments. The code should be generic: the user is prompted for inputs and the program runs and gives the output. "
   ]
  },
  {
   "cell_type": "markdown",
   "metadata": {},
   "source": [
    "**Solution:**"
   ]
  },
  {
   "cell_type": "markdown",
   "metadata": {},
   "source": [
    "**interest rate**"
   ]
  },
  {
   "cell_type": "markdown",
   "metadata": {},
   "source": [
    "Build the function that models interest rate under CIR"
   ]
  },
  {
   "cell_type": "code",
   "execution_count": 2,
   "metadata": {
    "collapsed": true
   },
   "outputs": [],
   "source": [
    "def CIR(r0, sd, k, r_mean, total_years, paths):\n",
    "    random.seed(7)\n",
    "    dt = 1/120\n",
    "    steps = int(total_years/dt)\n",
    "    rt = zeros((paths, steps + 1))\n",
    "    rt[:, 0] = r0\n",
    "    \n",
    "    # use full truncation method for every interest rate that drops below 0\n",
    "    for i in range(1, steps):\n",
    "        rt[:,i] = (maximum(rt[:,i-1], 0) + k*(r_mean - maximum(rt[:,i-1], 0)) *dt \n",
    "                    + sd* sqrt(maximum(rt[:,i-1], 0))* sqrt(dt)*random.normal(0, 1, paths))\n",
    "    return rt"
   ]
  },
  {
   "cell_type": "markdown",
   "metadata": {},
   "source": [
    "**10-year spot rate**"
   ]
  },
  {
   "cell_type": "markdown",
   "metadata": {},
   "source": [
    "Calculate 10 year zero coupon bond price, use the explicit formula"
   ]
  },
  {
   "cell_type": "code",
   "execution_count": 3,
   "metadata": {
    "collapsed": true
   },
   "outputs": [],
   "source": [
    "def Zero10Yr(rt, r_mean, sd, k, T, t):\n",
    "    \n",
    "    h1 = sqrt(k**2 + 2*sd**2)\n",
    "    h2 = (k + h1)/2\n",
    "    h3 = (2*k*r_mean)/sd**2\n",
    "    \n",
    "    A = ((h1 * exp(h2*(T - t)))/(h2 * (exp(h1*(T - t)) - 1) + h1))**h3\n",
    "    B = (exp(h1*(T - t)) - 1)/(h2 * (exp(h1*(T - t)) - 1) + h1)\n",
    "    \n",
    "    return A*exp(-B*rt)"
   ]
  },
  {
   "cell_type": "markdown",
   "metadata": {},
   "source": [
    "Find 10 year spot rate, using the CIR interest rate at time t as the starting point, $r_{t - 1}$ could be found as\n",
    "\n",
    "$r_{t - 1}(T)^i = \\frac{1}{T}ln(P_{t-1}^i)$"
   ]
  },
  {
   "cell_type": "code",
   "execution_count": 4,
   "metadata": {
    "collapsed": true
   },
   "outputs": [],
   "source": [
    "def spotRate_10yr(r0, sd, k, r_mean, total_years, paths):\n",
    "   \n",
    "    ru = CIR(r0, sd, k, r_mean, total_years, paths)\n",
    "    zeros10yr = array(list(map(lambda rt: Zero10Yr(rt, r_mean, sd, k, 10, 0), ru)))\n",
    "    spot_rate = -1/10*log(zeros10yr)\n",
    "    \n",
    "    # choose time index that corresponds to the monthly payment\n",
    "    pay_time = arange(1, total_years*12 + 1) * 10 - 1\n",
    "\n",
    "    return spot_rate[:, pay_time]"
   ]
  },
  {
   "cell_type": "markdown",
   "metadata": {},
   "source": [
    "**prepayment model**"
   ]
  },
  {
   "cell_type": "markdown",
   "metadata": {},
   "source": [
    "$$P_0 = E^*\\bigg(\\sum_{t = 1}^N PV(CF_t) \\bigg) = E^*\\bigg(\\sum_{t = 1}^N d_t \\cdot c_t\\bigg)$$"
   ]
  },
  {
   "cell_type": "markdown",
   "metadata": {},
   "source": [
    "To find $P_0$, we need to find the discount factor $d_t$ and $c_t$"
   ]
  },
  {
   "cell_type": "markdown",
   "metadata": {},
   "source": [
    "**discount factors**"
   ]
  },
  {
   "cell_type": "markdown",
   "metadata": {},
   "source": [
    "$d_t = exp(-\\int_{0}^t r_u du) $"
   ]
  },
  {
   "cell_type": "code",
   "execution_count": 5,
   "metadata": {
    "collapsed": true
   },
   "outputs": [],
   "source": [
    "def discount_factor(r0, sd, k, r_mean, total_years, paths):\n",
    "    dt = 1/120\n",
    "    ru = CIR(r0, sd, k, r_mean, total_years, paths)\n",
    "    df = exp(-cumsum(ru*dt , axis = 1))\n",
    "    # choose time index that corresponds to the monthly payment\n",
    "    pay_time = arange(1, total_years*12 + 1) * 10 - 1\n",
    "    \n",
    "    return df[:, pay_time]"
   ]
  },
  {
   "cell_type": "markdown",
   "metadata": {},
   "source": [
    "**cash flow at time t**"
   ]
  },
  {
   "cell_type": "markdown",
   "metadata": {},
   "source": [
    "$c_t = MP_t + PP_t$, where\n",
    "\n",
    "$MP_t$ = monthly scheduled payment\n",
    "\n",
    "$PP_t$ = prepayment "
   ]
  },
  {
   "cell_type": "code",
   "execution_count": 6,
   "metadata": {
    "collapsed": true
   },
   "outputs": [],
   "source": [
    "def cash_flow_t(t, total_years, PV_previous, r, N, CPRt):\n",
    "    \n",
    "    # Find schedule total payment\n",
    "    MPt = (PV_previous*r)/(1 - (1 + r)**(-N + (t - 1)))\n",
    "    \n",
    "    # find schedule principal payment, SPPt\n",
    "    SPPt = PV_previous*r*(1/(1 - (1 + r)**(-N + (t - 1))) -  1)\n",
    "    \n",
    "    # find prepayment amount, PPt\n",
    "    PPt = (PV_previous - SPPt)*(1 - (1 - CPRt)**(1/12))\n",
    "    \n",
    "    # find cash flow at time t\n",
    "    ct = MPt + PPt\n",
    "    return ct"
   ]
  },
  {
   "cell_type": "markdown",
   "metadata": {},
   "source": [
    "**total principal payment at time t**"
   ]
  },
  {
   "cell_type": "markdown",
   "metadata": {},
   "source": [
    "$TPP_t = SP_t + PP_t$, where\n",
    "\n",
    "$SP_t$ = scheduled principal payment\n",
    "\n",
    "$PP_t$ = prepayment"
   ]
  },
  {
   "cell_type": "code",
   "execution_count": 7,
   "metadata": {
    "collapsed": true
   },
   "outputs": [],
   "source": [
    "def total_principal_pay_t(t, PV_previous, r, N, CPRt):\n",
    "    \n",
    "    # find schedule principal payment, SPPt\n",
    "    SPPt = PV_previous*r*(1/(1 - (1 + r)**(-N + (t - 1))) -  1)\n",
    "    \n",
    "    # find prepayment amount, PPt\n",
    "    PPt = (PV_previous - SPPt)*(1 - (1 - CPRt)**(1/12))\n",
    "    \n",
    "    # find principal payment at time t\n",
    "    TPPt = SPPt + PPt\n",
    "    return TPPt"
   ]
  },
  {
   "cell_type": "markdown",
   "metadata": {},
   "source": [
    "**Numerix CPR models**"
   ]
  },
  {
   "cell_type": "markdown",
   "metadata": {},
   "source": [
    "**Refinancing Incentive**\n",
    "\n",
    "$RI_t = 0.28 + 0.14\\ arctan(-8.57 + 430 (R - r_{t - 1}(10))$"
   ]
  },
  {
   "cell_type": "code",
   "execution_count": 8,
   "metadata": {
    "collapsed": true
   },
   "outputs": [],
   "source": [
    "def refinanceIncentive(R, r_10):\n",
    "    RI = 0.28 + 0.14*arctan(-8.57 + 430*(R - r_10))\n",
    "    return RI"
   ]
  },
  {
   "cell_type": "markdown",
   "metadata": {},
   "source": [
    "**Burn Out Effect**\n",
    "\n",
    "$BU_t = 0.3 + 0.7 \\frac{PY_{t - 1}}{PY_0}$"
   ]
  },
  {
   "cell_type": "code",
   "execution_count": 9,
   "metadata": {
    "collapsed": true
   },
   "outputs": [],
   "source": [
    "def burnoutEffect(PV_previous, PV0):\n",
    "    BU = 0.3 + 0.7*(PV_previous/PV0)\n",
    "    return BU"
   ]
  },
  {
   "cell_type": "markdown",
   "metadata": {},
   "source": [
    "**Seasonality**"
   ]
  },
  {
   "cell_type": "markdown",
   "metadata": {},
   "source": [
    "$SG_t = min(1, \\frac{t}{30})$"
   ]
  },
  {
   "cell_type": "code",
   "execution_count": 10,
   "metadata": {
    "collapsed": true
   },
   "outputs": [],
   "source": [
    "def seasonality(t):\n",
    "    SG = minimum(1, t/30)\n",
    "    return SG"
   ]
  },
  {
   "cell_type": "markdown",
   "metadata": {},
   "source": [
    "**Seasoning**"
   ]
  },
  {
   "cell_type": "markdown",
   "metadata": {},
   "source": [
    "$SY_t$ = {0.94,0.76,0.74,0.95,0.98,0.92,0.98,1.10,1.18,1.22,1.23,0.98} for {Jan, Feb, … , Dec} correspondingly"
   ]
  },
  {
   "cell_type": "code",
   "execution_count": 11,
   "metadata": {
    "collapsed": true
   },
   "outputs": [],
   "source": [
    "def seasoning(month):\n",
    "    SY  = [0.94,0.76,0.74,0.95,0.98,0.92,0.98,1.10,1.18,1.22,1.23,0.98]\n",
    "    return SY[month]"
   ]
  },
  {
   "cell_type": "markdown",
   "metadata": {},
   "source": [
    "**Conditional Prepayment Rate (CPR) at time t**\n",
    "\n",
    "$CPR_t = (RI_t)(BU_t)(SG_t)(SY_t)$"
   ]
  },
  {
   "cell_type": "code",
   "execution_count": 12,
   "metadata": {
    "collapsed": true
   },
   "outputs": [],
   "source": [
    "def Numerix_CPRt(t, R, r_10, PV_previous, PV0):\n",
    "    RIt = refinanceIncentive(R, r_10)\n",
    "    BUt = burnoutEffect(PV_previous, PV0)\n",
    "    SGt = seasonality(t)\n",
    "    SYt = seasoning(int((t - 1)%12))\n",
    "    CPRt = RIt*BUt*SGt*SYt\n",
    "    return CPRt"
   ]
  },
  {
   "cell_type": "markdown",
   "metadata": {},
   "source": [
    "**Numerix Prepayment Model**\n"
   ]
  },
  {
   "cell_type": "code",
   "execution_count": 13,
   "metadata": {
    "collapsed": true
   },
   "outputs": [],
   "source": [
    "def NumerixPrepayModel(PV0, total_years, WAC, r0, k, r_mean, sd):\n",
    "   \n",
    "    # initialize parameters\n",
    "    r = WAC/12\n",
    "    N = total_years*12\n",
    "    paths = 10000\n",
    "    PV_previous = PV0\n",
    "    ct = zeros((paths, N))\n",
    "    \n",
    "    # find discount factor\n",
    "    dft = discount_factor(r0, sd, k, r_mean, total_years, paths)\n",
    "    \n",
    "    # find 10 year spot yield\n",
    "    r_10 = spotRate_10yr(r0, sd, k, r_mean, total_years, paths)\n",
    "    \n",
    "    for t in range(1 , N + 1):\n",
    "        # find CPRt\n",
    "        CPRt_Numerix = Numerix_CPRt(t, WAC, r_10[:, t - 1], PV_previous, PV0)\n",
    "        \n",
    "        # find cash flow at t\n",
    "        ct[:, t - 1] = cash_flow_t(t, total_years, PV_previous, r, N, CPRt_Numerix)\n",
    "        # find total principal payment\n",
    "        TPPt = ct[:, t - 1] - PV_previous*r\n",
    "        # Update next period present value, PVt\n",
    "        PV_previous = PV_previous - TPPt\n",
    "\n",
    "    mortage_value = mean(sum(dft*ct, axis = 1))\n",
    "    \n",
    "    return mortage_value"
   ]
  },
  {
   "cell_type": "code",
   "execution_count": 14,
   "metadata": {},
   "outputs": [
    {
     "name": "stdout",
     "output_type": "stream",
     "text": [
      "The price of the MBS evaluated by Numerix Model :  100763.340934\n"
     ]
    }
   ],
   "source": [
    "print(\"The price of the MBS evaluated by Numerix Model : \", NumerixPrepayModel(PV0 = 100000, total_years = 30, WAC = 0.08, \n",
    "                                r0 = 0.078, k = 0.6, r_mean = 0.08, sd = 0.12))"
   ]
  },
  {
   "cell_type": "markdown",
   "metadata": {},
   "source": [
    "**Morgage Backed Securities using Numerix Model**"
   ]
  },
  {
   "cell_type": "markdown",
   "metadata": {
    "collapsed": true
   },
   "source": [
    "**(b)** Compute the price of the MBS for the following ranges of the parameters: $\\kappa$ in 0.3 to 0.9 (in increments of 0.1) and draw the graph of the price vs. $\\kappa$."
   ]
  },
  {
   "cell_type": "markdown",
   "metadata": {},
   "source": [
    "**Solution:**"
   ]
  },
  {
   "cell_type": "code",
   "execution_count": 15,
   "metadata": {
    "collapsed": true
   },
   "outputs": [],
   "source": [
    "k = arange(0.3, 0.91, 0.1)\n",
    "MBS_ks_Numerix = [(i, NumerixPrepayModel(PV0 = 100000, total_years = 30, WAC = 0.08, \n",
    "                                r0 = 0.078, k = i, r_mean = 0.08, sd = 0.12)) for i in k]"
   ]
  },
  {
   "cell_type": "markdown",
   "metadata": {},
   "source": [
    "plot of the MBS price vs. $\\kappa$"
   ]
  },
  {
   "cell_type": "code",
   "execution_count": 16,
   "metadata": {},
   "outputs": [
    {
     "data": {
      "image/png": "[encoded data removed]",
      "text/plain": [
       "<matplotlib.figure.Figure at 0x1713d19cb00>"
      ]
     },
     "metadata": {},
     "output_type": "display_data"
    }
   ],
   "source": [
    "plt.figure(figsize=(10,7))\n",
    "plt.plot(*zip(*MBS_ks_Numerix), 'C2', linestyle='--', \n",
    "         marker='o', label = 'MBS Price ($)')\n",
    "plt.title(\"Numerix Prepayment Model MBS price vs $\\kappa$\")\n",
    "plt.xlabel(\"$\\kappa$\")\n",
    "plt.ylabel(\"MBS Price ($)\")\n",
    "plt.legend()\n",
    "plt.show()"
   ]
  },
  {
   "cell_type": "markdown",
   "metadata": {},
   "source": [
    "When $\\kappa$ = 0.3 the short term interest rate paths are more likely to stay far away from the long run mean (slow mean reversion). Since the standard deviation of the short term rate path is 0.12, there is a moderate probability of the paths staying below 0, which triggered the full trucation conditions of the CIR model. The full truncation of the interest rate paths then led to a non-symetrical scatter around the long-run mean, which could screw the mean upwards (larger than expected). The larger mean of the short interest rate paths caused an increase of discount factors, which resulted in lower valuation of the MBS at $\\kappa$ = 0.3"
   ]
  },
  {
   "cell_type": "markdown",
   "metadata": {},
   "source": [
    "**(c)** Compute the price of the MBS for the following ranges of the parameters: $\\bar{r}$ in 0.03 to 0.09 (in increments of 0.01) and draw the graph of the price vs. $\\bar{r}$."
   ]
  },
  {
   "cell_type": "markdown",
   "metadata": {},
   "source": [
    "**Solution:**"
   ]
  },
  {
   "cell_type": "code",
   "execution_count": 17,
   "metadata": {
    "collapsed": true
   },
   "outputs": [],
   "source": [
    "r_means = arange(0.03, 0.091, 0.01)\n",
    "MBS_rs_Numerix = [(i, NumerixPrepayModel(PV0 = 100000, total_years = 30, WAC = 0.08, \n",
    "                                r0 = 0.078, k = 0.6, r_mean = i, sd = 0.12)) for i in r_means]"
   ]
  },
  {
   "cell_type": "code",
   "execution_count": 18,
   "metadata": {},
   "outputs": [
    {
     "data": {
      "image/png": "[encoded data removed]",
      "text/plain": [
       "<matplotlib.figure.Figure at 0x171006af0f0>"
      ]
     },
     "metadata": {},
     "output_type": "display_data"
    }
   ],
   "source": [
    "plt.figure(figsize=(10,7))\n",
    "plt.plot(*zip(*MBS_rs_Numerix), 'C0', linestyle='--', \n",
    "         marker='o', label = 'MBS Price ($)')\n",
    "plt.title(\"Numerix Prepayment Model MBS price vs $\\overline{r}$\")\n",
    "plt.xlabel(\"$\\overline{r}$\")\n",
    "plt.ylabel(\"MBS Price ($)\")\n",
    "\n",
    "plt.legend()\n",
    "plt.show()"
   ]
  },
  {
   "cell_type": "markdown",
   "metadata": {},
   "source": [
    " **2.** Consider the PSA Model of prepayments."
   ]
  },
  {
   "cell_type": "markdown",
   "metadata": {},
   "source": [
    "**(a)** Compute the price of the MBS using the PSA model for Prepayments. The code should be generic: the user is prompted for inputs and the program runs and gives the output. "
   ]
  },
  {
   "cell_type": "markdown",
   "metadata": {},
   "source": [
    "**Solution:**"
   ]
  },
  {
   "cell_type": "markdown",
   "metadata": {},
   "source": [
    "**PSA Model for CPR**\n",
    "\n",
    "$CPR_t =   \\begin{cases}\n",
    "      CPR_{t -1} + 0.2\\% & \\text{for $t$ < 30 months}\\\\\n",
    "      CPR_{t -1} & \\text{for $t$ $\\geq$ 30 months}\n",
    "    \\end{cases}$"
   ]
  },
  {
   "cell_type": "code",
   "execution_count": 19,
   "metadata": {
    "collapsed": true
   },
   "outputs": [],
   "source": [
    "def PSA_CPRt(t):\n",
    "    CPRt = ((0.2/100) * t if t < 30 else 0.06)\n",
    "    return CPRt"
   ]
  },
  {
   "cell_type": "markdown",
   "metadata": {},
   "source": [
    "Find loan value"
   ]
  },
  {
   "cell_type": "code",
   "execution_count": 20,
   "metadata": {
    "collapsed": true
   },
   "outputs": [],
   "source": [
    "def PSAPrepayModel(PV0, total_years, WAC, r0, k, r_mean, sd):\n",
    "   \n",
    "    # initialize parameters\n",
    "    r = WAC/12\n",
    "    N = total_years*12\n",
    "    paths = 10000\n",
    "    PV_previous = PV0\n",
    "    ct = zeros((paths, N))\n",
    "    \n",
    "    # find discount factor\n",
    "    dft = discount_factor(r0, sd, k, r_mean, total_years, paths)\n",
    "    \n",
    "    # find 10 year spot yield\n",
    "    r_10 = spotRate_10yr(r0, sd, k, r_mean, total_years, paths)\n",
    "     \n",
    "    for t in range(1 , N + 1):\n",
    "        # find CPRt\n",
    "        CPRt_PSA = PSA_CPRt(t)\n",
    "        # find cash flow at t\n",
    "        ct[:, t - 1] = cash_flow_t(t, total_years, PV_previous, r, N, CPRt_PSA)\n",
    "        # find total principal payment\n",
    "        TPPt = ct[:, t - 1] - PV_previous*r\n",
    "        # Update next period present value, PVt\n",
    "        PV_previous = PV_previous - TPPt\n",
    "    \n",
    "    mortage_value = mean(sum(dft*ct, axis = 1))\n",
    "    \n",
    "    return mortage_value"
   ]
  },
  {
   "cell_type": "code",
   "execution_count": 21,
   "metadata": {},
   "outputs": [
    {
     "name": "stdout",
     "output_type": "stream",
     "text": [
      "The price of the MBS using PSA Prepayment Model: $ 100843.69197\n"
     ]
    }
   ],
   "source": [
    "print(\"The price of the MBS using PSA Prepayment Model: $\",\n",
    "       round(PSAPrepayModel(PV0 = 100000, total_years = 30, WAC = 0.08, \n",
    "                                r0 = 0.078, k = 0.6, r_mean = 0.08, sd = 0.12), 5))"
   ]
  },
  {
   "cell_type": "markdown",
   "metadata": {},
   "source": [
    "**(b)** Compute the price of the MBS for the following ranges of the parameters: $\\kappa$ in 0.3 to\n",
    "0.9 (in increments of 0.1) and draw the graph of the price vs. $\\kappa$. "
   ]
  },
  {
   "cell_type": "markdown",
   "metadata": {},
   "source": [
    "**Solution:**"
   ]
  },
  {
   "cell_type": "code",
   "execution_count": 22,
   "metadata": {
    "collapsed": true
   },
   "outputs": [],
   "source": [
    "k = arange(0.3, 0.91, 0.1)\n",
    "MBS_ks_PSA = [(i, PSAPrepayModel(PV0 = 100000, total_years = 30, WAC = 0.08, \n",
    "                                r0 = 0.078, k = i, r_mean = 0.08, sd = 0.12)) for i in k]"
   ]
  },
  {
   "cell_type": "code",
   "execution_count": 23,
   "metadata": {},
   "outputs": [
    {
     "data": {
      "image/png": "[encoded data removed]",
      "text/plain": [
       "<matplotlib.figure.Figure at 0x171008895f8>"
      ]
     },
     "metadata": {},
     "output_type": "display_data"
    }
   ],
   "source": [
    "plt.figure(figsize=(10,7))\n",
    "plt.plot(*zip(*MBS_ks_PSA), 'C3', linestyle='--', \n",
    "         marker='o', label = 'MBS Price ($)')\n",
    "plt.title(\"PSA Model MBS price vs $\\kappa$\")\n",
    "plt.xlabel(\"$\\kappa$\")\n",
    "plt.ylabel(\"MBS Price ($)\")\n",
    "plt.legend()\n",
    "plt.show()"
   ]
  },
  {
   "cell_type": "markdown",
   "metadata": {},
   "source": [
    "**3.** Compute the Option-Adjusted-Spread (OAS) for the Numerix-Prepayment model case with\n",
    "the Market Price of MBS being $110,000."
   ]
  },
  {
   "cell_type": "markdown",
   "metadata": {},
   "source": [
    "**Solution:**"
   ]
  },
  {
   "cell_type": "markdown",
   "metadata": {},
   "source": [
    "**Option Adjusted Spread (OAS) discount factor**"
   ]
  },
  {
   "cell_type": "markdown",
   "metadata": {},
   "source": [
    "Adjust the discount factor and add in OAS as a parameter"
   ]
  },
  {
   "cell_type": "code",
   "execution_count": 24,
   "metadata": {
    "collapsed": true
   },
   "outputs": [],
   "source": [
    "def discount_factor_OAS(OAS, r0, sd, k, r_mean, total_years, paths):\n",
    "    dt = 1/120\n",
    "    ru = CIR(r0, sd, k, r_mean, total_years, paths)\n",
    "    df = exp(-cumsum((ru + OAS)*dt , axis = 1))\n",
    "    \n",
    "    # choose time index that corresponds to the monthly payment\n",
    "    pay_time = arange(1, total_years*12 + 1) * 10 - 1\n",
    "    \n",
    "    return df[:, pay_time]"
   ]
  },
  {
   "cell_type": "markdown",
   "metadata": {},
   "source": [
    "**Option Adjusted Spread (OAS)**"
   ]
  },
  {
   "cell_type": "markdown",
   "metadata": {},
   "source": [
    "Adjust the Numerix Prepayment Model function"
   ]
  },
  {
   "cell_type": "code",
   "execution_count": 25,
   "metadata": {
    "collapsed": true
   },
   "outputs": [],
   "source": [
    "def NumerixPrepayModel_OAS(OAS, PV0, total_years, WAC, r0, k, r_mean, sd):\n",
    "   \n",
    "    # initialize parameters\n",
    "    r = WAC/12\n",
    "    N = total_years*12\n",
    "    paths = 10000\n",
    "    PV = zeros((paths, N))\n",
    "    PV_previous = PV0\n",
    "    ct = zeros((paths, N))\n",
    "    \n",
    "    # find discount factor\n",
    "    dft = discount_factor_OAS(OAS, r0, sd, k, r_mean, total_years, paths)\n",
    "    \n",
    "    # find 10 year spot yield\n",
    "    r_10 = spotRate_10yr(r0, sd, k, r_mean, total_years, paths)\n",
    "     \n",
    "    for t in range(1 , N + 1):\n",
    "        # find CPRt\n",
    "        CPRt_numerix = Numerix_CPRt(t, WAC, r_10[:, t - 1], PV_previous, PV0)\n",
    "        # find cash flow at t\n",
    "        ct[:, t - 1] = cash_flow_t(t, total_years, PV_previous, r, N, CPRt_numerix)\n",
    "        # find total principal payment\n",
    "        TPPt = ct[:, t - 1] - PV_previous*r\n",
    "        # Update next period present value, PVt\n",
    "        PV_previous = PV_previous - TPPt\n",
    "    \n",
    "    mortage_value = mean(sum(dft*ct, axis = 1))\n",
    "    \n",
    "    return mortage_value"
   ]
  },
  {
   "cell_type": "markdown",
   "metadata": {},
   "source": [
    "Optimizing function "
   ]
  },
  {
   "cell_type": "code",
   "execution_count": 26,
   "metadata": {
    "collapsed": true
   },
   "outputs": [],
   "source": [
    "def f_opt(OAS, market_price):\n",
    "    # price difference= model price - market price\n",
    "    price_difference = NumerixPrepayModel_OAS(OAS = OAS, \n",
    "                                       PV0 = 100000, total_years = 30, WAC = 0.08, \n",
    "                                       r0 = 0.078, k = 0.6, r_mean = 0.08, sd = 0.12) - market_price\n",
    "    return price_difference"
   ]
  },
  {
   "cell_type": "markdown",
   "metadata": {},
   "source": [
    "Finding the OAS with Newton's Method"
   ]
  },
  {
   "cell_type": "code",
   "execution_count": 27,
   "metadata": {
    "collapsed": true
   },
   "outputs": [],
   "source": [
    "def find_OAS(market_price):\n",
    "    # using Newton's method to find the OAS by finding the zero of the optimizing function\n",
    "    OAS = newton(f_opt, 0, args = (market_price,), maxiter=100, tol=1e-50)\n",
    "    return OAS"
   ]
  },
  {
   "cell_type": "code",
   "execution_count": 28,
   "metadata": {},
   "outputs": [
    {
     "name": "stdout",
     "output_type": "stream",
     "text": [
      "The option adjusted spread for Numerix Model :  -0.01257\n"
     ]
    }
   ],
   "source": [
    "OAS_Numerix = find_OAS(market_price = 110000)\n",
    "print(\"The option adjusted spread for Numerix Model : \", round(OAS_Numerix, 5))"
   ]
  },
  {
   "cell_type": "markdown",
   "metadata": {},
   "source": [
    "The negative OAS shows that the model underpriced the MBS relative to the market"
   ]
  },
  {
   "cell_type": "markdown",
   "metadata": {},
   "source": [
    "**4.** Compute the OAS-adjusted Duration and Convexity of the MBS, considered in the previous question.\n"
   ]
  },
  {
   "cell_type": "markdown",
   "metadata": {
    "collapsed": true
   },
   "source": [
    "**Solution:**"
   ]
  },
  {
   "cell_type": "markdown",
   "metadata": {},
   "source": [
    "Find the MBS price after pertubing "
   ]
  },
  {
   "cell_type": "code",
   "execution_count": 29,
   "metadata": {
    "collapsed": true
   },
   "outputs": [],
   "source": [
    "def pertubPrice(OAS):\n",
    "\n",
    "    # pertub OAS to respective prices\n",
    "    dx = 5*(0.01/100)\n",
    "    # P+, P-, P0\n",
    "    P_up = NumerixPrepayModel_OAS(OAS = OAS + dx, \n",
    "                                       PV0 = 100000, total_years = 30, WAC = 0.08, \n",
    "                                       r0 = 0.078, k = 0.6, r_mean = 0.08, sd = 0.12)\n",
    "    P_down = NumerixPrepayModel_OAS(OAS = OAS - dx, \n",
    "                                       PV0 = 100000, total_years = 30, WAC = 0.08, \n",
    "                                       r0 = 0.078, k = 0.6, r_mean = 0.08, sd = 0.12)\n",
    "    P0 = NumerixPrepayModel_OAS(OAS = OAS, \n",
    "                                       PV0 = 100000, total_years = 30, WAC = 0.08, \n",
    "                                       r0 = 0.078, k = 0.6, r_mean = 0.08, sd = 0.12)\n",
    "    return [P0, P_up, P_down]"
   ]
  },
  {
   "cell_type": "markdown",
   "metadata": {},
   "source": [
    "$OAS-Duration = \\frac{P_- - P_+}{2\\Delta x \\cdot P_0}$\n",
    "\n"
   ]
  },
  {
   "cell_type": "code",
   "execution_count": 30,
   "metadata": {
    "collapsed": true
   },
   "outputs": [],
   "source": [
    "def OAS_duration(P_up, P_down, P0):\n",
    "    dx = 5*(0.01/100)\n",
    "    duration = (P_down - P_up)/(2*dx*P0)\n",
    "    \n",
    "    return duration"
   ]
  },
  {
   "cell_type": "markdown",
   "metadata": {},
   "source": [
    "$OAS-Convexity = \\frac{P_- + P_+ - 2P_0}{2(\\Delta x)^2 \\cdot P_0}$"
   ]
  },
  {
   "cell_type": "code",
   "execution_count": 31,
   "metadata": {
    "collapsed": true
   },
   "outputs": [],
   "source": [
    "def OAS_convexity(P_up, P_down, P0):\n",
    "    dx = 5*(0.01/100)\n",
    "    convexity = (P_down + P_up - 2*P0)/(2 * (dx)**2 * P0)\n",
    "    \n",
    "    return convexity"
   ]
  },
  {
   "cell_type": "code",
   "execution_count": 32,
   "metadata": {
    "collapsed": true
   },
   "outputs": [],
   "source": [
    "P0, P_up, P_down = pertubPrice(OAS_Numerix)\n",
    "durationOAS = OAS_duration(P_up, P_down, P0)\n",
    "convexityOAS = OAS_convexity(P_up, P_down, P0)"
   ]
  },
  {
   "cell_type": "code",
   "execution_count": 33,
   "metadata": {},
   "outputs": [
    {
     "name": "stdout",
     "output_type": "stream",
     "text": [
      "The duration of option adjusted spread for Numerix Model :  7.21669733156\n",
      "The conexity of option adjusted spread for Numerix Model :  45.7991160659\n"
     ]
    }
   ],
   "source": [
    "print(\"The duration of option adjusted spread for Numerix Model : \", durationOAS)\n",
    "print(\"The conexity of option adjusted spread for Numerix Model : \", convexityOAS)"
   ]
  },
  {
   "cell_type": "markdown",
   "metadata": {
    "collapsed": true
   },
   "source": [
    "**5.** Consider the MBS described above and the IO and PO tranches. Use the NumerixPrepayment Model and price the IO and PO tranches for: $\\bar{r}$ in 0.03 to 0.09 range, in increments of 0.01."
   ]
  },
  {
   "cell_type": "markdown",
   "metadata": {
    "collapsed": true
   },
   "source": [
    "**Solution:**"
   ]
  },
  {
   "cell_type": "markdown",
   "metadata": {},
   "source": [
    "For every cash flow at time t, break down the cash flow into IO and PO component"
   ]
  },
  {
   "cell_type": "code",
   "execution_count": 34,
   "metadata": {
    "collapsed": true
   },
   "outputs": [],
   "source": [
    "def Numerix_IO_PO(PV0, total_years, WAC, r0, k, r_mean, sd):\n",
    "   \n",
    "    # initialize parameters\n",
    "    r = WAC/12\n",
    "    N = total_years*12\n",
    "    paths = 10000\n",
    "    PV_previous = array([PV0]*paths)\n",
    "    ct = zeros((paths, N))\n",
    "    \n",
    "    # Initialize PO, IO portion of the MBS\n",
    "    Interest = zeros((paths, N))\n",
    "    Principal = zeros((paths, N))\n",
    "    \n",
    "    # find discount factor\n",
    "    dft = discount_factor(r0, sd, k, r_mean, total_years, paths)\n",
    "    \n",
    "    # find 10 year spot yield\n",
    "    r_10 = spotRate_10yr(r0, sd, k, r_mean, total_years, paths)\n",
    "     \n",
    "    for t in range(1 , N + 1):\n",
    "        # find CPRt\n",
    "        CPRt_Numerix = Numerix_CPRt(t, WAC, r_10[:, t - 1], PV_previous, PV0)\n",
    "        # find cash flow at t\n",
    "        ct[:, t - 1] = cash_flow_t(t, total_years, PV_previous, r, N, CPRt_Numerix)\n",
    "        # find total principal payment\n",
    "        Interest[:, t - 1] = PV_previous*r\n",
    "        TPPt = ct[:, t - 1] - PV_previous*r\n",
    "        Principal[:, t - 1] =  TPPt\n",
    "        # Update next period present value, PVt\n",
    "        PV_previous = PV_previous - TPPt\n",
    "\n",
    "   \n",
    "    IO = mean(sum(dft*Interest, axis = 1))\n",
    "    PO = mean(sum(dft*Principal, axis = 1))\n",
    "    \n",
    "    return [IO, PO]"
   ]
  },
  {
   "cell_type": "markdown",
   "metadata": {},
   "source": [
    "Find IO portion of the MBS"
   ]
  },
  {
   "cell_type": "code",
   "execution_count": 35,
   "metadata": {},
   "outputs": [
    {
     "data": {
      "text/html": [
       "<div>\n",
       "<style scoped>\n",
       "    .dataframe tbody tr th:only-of-type {\n",
       "        vertical-align: middle;\n",
       "    }\n",
       "\n",
       "    .dataframe tbody tr th {\n",
       "        vertical-align: top;\n",
       "    }\n",
       "\n",
       "    .dataframe thead th {\n",
       "        text-align: right;\n",
       "    }\n",
       "</style>\n",
       "<table border=\"1\" class=\"dataframe\">\n",
       "  <thead>\n",
       "    <tr style=\"text-align: right;\">\n",
       "      <th></th>\n",
       "      <th>long run mean (r)</th>\n",
       "      <th>Interest Only Price($)</th>\n",
       "    </tr>\n",
       "  </thead>\n",
       "  <tbody>\n",
       "    <tr>\n",
       "      <th>0</th>\n",
       "      <td>0.03000</td>\n",
       "      <td>27208.53551</td>\n",
       "    </tr>\n",
       "    <tr>\n",
       "      <th>1</th>\n",
       "      <td>0.04000</td>\n",
       "      <td>26837.11926</td>\n",
       "    </tr>\n",
       "    <tr>\n",
       "      <th>2</th>\n",
       "      <td>0.05000</td>\n",
       "      <td>27201.25987</td>\n",
       "    </tr>\n",
       "    <tr>\n",
       "      <th>3</th>\n",
       "      <td>0.06000</td>\n",
       "      <td>33711.41875</td>\n",
       "    </tr>\n",
       "    <tr>\n",
       "      <th>4</th>\n",
       "      <td>0.07000</td>\n",
       "      <td>51131.33774</td>\n",
       "    </tr>\n",
       "    <tr>\n",
       "      <th>5</th>\n",
       "      <td>0.08000</td>\n",
       "      <td>53631.82606</td>\n",
       "    </tr>\n",
       "    <tr>\n",
       "      <th>6</th>\n",
       "      <td>0.09000</td>\n",
       "      <td>52449.65583</td>\n",
       "    </tr>\n",
       "  </tbody>\n",
       "</table>\n",
       "</div>"
      ],
      "text/plain": [
       "   long run mean (r)  Interest Only Price($)\n",
       "0            0.03000             27208.53551\n",
       "1            0.04000             26837.11926\n",
       "2            0.05000             27201.25987\n",
       "3            0.06000             33711.41875\n",
       "4            0.07000             51131.33774\n",
       "5            0.08000             53631.82606\n",
       "6            0.09000             52449.65583"
      ]
     },
     "execution_count": 35,
     "metadata": {},
     "output_type": "execute_result"
    }
   ],
   "source": [
    "r_means = arange(0.03, 0.091, 0.01)\n",
    "IO = [(i, Numerix_IO_PO(PV0 = 100000, total_years = 30, WAC = 0.08, \n",
    "                                r0 = 0.078, k = 0.6, r_mean = i, sd = 0.12)[0]) for i in r_means]\n",
    "pd.DataFrame(IO, columns=['long run mean (r)',  'Interest Only Price($)'])"
   ]
  },
  {
   "cell_type": "markdown",
   "metadata": {},
   "source": [
    "Find PO portion of the MBS"
   ]
  },
  {
   "cell_type": "code",
   "execution_count": 36,
   "metadata": {},
   "outputs": [
    {
     "data": {
      "text/html": [
       "<div>\n",
       "<style scoped>\n",
       "    .dataframe tbody tr th:only-of-type {\n",
       "        vertical-align: middle;\n",
       "    }\n",
       "\n",
       "    .dataframe tbody tr th {\n",
       "        vertical-align: top;\n",
       "    }\n",
       "\n",
       "    .dataframe thead th {\n",
       "        text-align: right;\n",
       "    }\n",
       "</style>\n",
       "<table border=\"1\" class=\"dataframe\">\n",
       "  <thead>\n",
       "    <tr style=\"text-align: right;\">\n",
       "      <th></th>\n",
       "      <th>long run mean (r)</th>\n",
       "      <th>Principal Only Price($)</th>\n",
       "    </tr>\n",
       "  </thead>\n",
       "  <tbody>\n",
       "    <tr>\n",
       "      <th>0</th>\n",
       "      <td>0.03000</td>\n",
       "      <td>84220.02753</td>\n",
       "    </tr>\n",
       "    <tr>\n",
       "      <th>1</th>\n",
       "      <td>0.04000</td>\n",
       "      <td>82192.99875</td>\n",
       "    </tr>\n",
       "    <tr>\n",
       "      <th>2</th>\n",
       "      <td>0.05000</td>\n",
       "      <td>79643.83463</td>\n",
       "    </tr>\n",
       "    <tr>\n",
       "      <th>3</th>\n",
       "      <td>0.06000</td>\n",
       "      <td>71860.32871</td>\n",
       "    </tr>\n",
       "    <tr>\n",
       "      <th>4</th>\n",
       "      <td>0.07000</td>\n",
       "      <td>54316.91533</td>\n",
       "    </tr>\n",
       "    <tr>\n",
       "      <th>5</th>\n",
       "      <td>0.08000</td>\n",
       "      <td>47131.51487</td>\n",
       "    </tr>\n",
       "    <tr>\n",
       "      <th>6</th>\n",
       "      <td>0.09000</td>\n",
       "      <td>43190.45736</td>\n",
       "    </tr>\n",
       "  </tbody>\n",
       "</table>\n",
       "</div>"
      ],
      "text/plain": [
       "   long run mean (r)  Principal Only Price($)\n",
       "0            0.03000              84220.02753\n",
       "1            0.04000              82192.99875\n",
       "2            0.05000              79643.83463\n",
       "3            0.06000              71860.32871\n",
       "4            0.07000              54316.91533\n",
       "5            0.08000              47131.51487\n",
       "6            0.09000              43190.45736"
      ]
     },
     "execution_count": 36,
     "metadata": {},
     "output_type": "execute_result"
    }
   ],
   "source": [
    "PO = [(i, Numerix_IO_PO(PV0 = 100000, total_years = 30, WAC = 0.08, \n",
    "                                r0 = 0.078, k = 0.6, r_mean = i, sd = 0.12)[1]) for i in r_means]\n",
    "pd.DataFrame(PO, columns=['long run mean (r)',  'Principal Only Price($)'])"
   ]
  },
  {
   "cell_type": "markdown",
   "metadata": {},
   "source": [
    "Plot IO, PO portion vs. $\\bar{r}$"
   ]
  },
  {
   "cell_type": "code",
   "execution_count": 37,
   "metadata": {},
   "outputs": [
    {
     "data": {
      "image/png": "[encoded data removed]",
      "text/plain": [
       "<matplotlib.figure.Figure at 0x17100bd9cc0>"
      ]
     },
     "metadata": {},
     "output_type": "display_data"
    }
   ],
   "source": [
    "plt.figure(figsize=(10,7))\n",
    "plt.plot(*zip(*IO), 'C0', linestyle='--', \n",
    "         marker='o', label = 'IO Portion Price ($)')\n",
    "plt.plot(*zip(*PO), 'C3', linestyle='--', \n",
    "         marker='o', label = 'PO Portion Price ($)')\n",
    "\n",
    "plt.title(\"IO and PO Portion of Numerix Prepayment Model MBS Value vs $\\overline{r}$\")\n",
    "plt.xlabel(\"$\\kappa$\")\n",
    "plt.ylabel(\"MBS Price ($)\")\n",
    "plt.legend()\n",
    "plt.show()"
   ]
  }
 ],
 "metadata": {
  "kernelspec": {
   "display_name": "Python 3 (ipykernel)",
   "language": "python",
   "name": "python3"
  },
  "language_info": {
   "codemirror_mode": {
    "name": "ipython",
    "version": 3
   },
   "file_extension": ".py",
   "mimetype": "text/x-python",
   "name": "python",
   "nbconvert_exporter": "python",
   "pygments_lexer": "ipython3",
   "version": "3.9.12"
  },
  "varInspector": {
   "cols": {
    "lenName": 16,
    "lenType": 16,
    "lenVar": 40
   },
   "kernels_config": {
    "python": {
     "delete_cmd_postfix": "",
     "delete_cmd_prefix": "del ",
     "library": "var_list.py",
     "varRefreshCmd": "print(var_dic_list())"
    },
    "r": {
     "delete_cmd_postfix": ") ",
     "delete_cmd_prefix": "rm(",
     "library": "var_list.r",
     "varRefreshCmd": "cat(var_dic_list()) "
    }
   },
   "position": {
    "height": "378px",
    "left": "1086px",
    "right": "20px",
    "top": "115px",
    "width": "354px"
   },
   "types_to_exclude": [
    "module",
    "function",
    "builtin_function_or_method",
    "instance",
    "_Feature"
   ],
   "window_display": false
  }
 },
 "nbformat": 4,
 "nbformat_minor": 2
}
