{
 "cells": [
  {
   "cell_type": "markdown",
   "metadata": {},
   "source": [
    "# Project 7 - Finite Difference Method for PDEs"
   ]
  },
  {
   "cell_type": "code",
   "execution_count": 1,
   "metadata": {
    "collapsed": true
   },
   "outputs": [],
   "source": [
    "# python set up\n",
    "import matplotlib.pyplot as plt\n",
    "import math\n",
    "from numpy import*\n",
    "import pandas as pd\n",
    "from scipy.stats import norm \n",
    "set_printoptions(threshold=float('inf'), linewidth= 200, suppress = True)\n",
    "pd.set_option('display.float_format', lambda x: '%.5f' % x)"
   ]
  },
  {
   "cell_type": "markdown",
   "metadata": {},
   "source": [
    "## Question 1\n",
    "\n"
   ]
  },
  {
   "cell_type": "markdown",
   "metadata": {},
   "source": [
    "Consider the following situation on the stock of company XYZ: The current stock price is\n",
    "\\$10, and the volatility of the stock price is 𝜎 = 20 per annum. Assume the prevailing risk-free\n",
    "rate is r = 4% per annum. Use the $X = ln(S)$ transformation of the Black-Scholes PDE, and\n",
    "$\\Delta t$= 0.002, with $\\Delta = \\sigma \\sqrt{\\Delta t}$, with $\\Delta X = \\sigma \\sqrt{3 \\Delta t}$, with $\\Delta X = \\sigma \\sqrt{4 \\Delta t}$, and a uniform grid to price a European Put option with strike price of 𝐾 = \\$10, maturity of 0.5-years, and current stock prices for a range from \\$4 to \\$16; using the 3 different methods:\n",
    "\n"
   ]
  },
  {
   "cell_type": "markdown",
   "metadata": {},
   "source": [
    "**Solution:**"
   ]
  },
  {
   "cell_type": "markdown",
   "metadata": {},
   "source": [
    "Initialize Parameters. Generate different dx schemes"
   ]
  },
  {
   "cell_type": "code",
   "execution_count": 2,
   "metadata": {
    "collapsed": true
   },
   "outputs": [],
   "source": [
    "S0 = arange(4, 17, 1)\n",
    "dt =  0.002\n",
    "sd = 0.2\n",
    "r = 0.04\n",
    "K = 10\n",
    "T = 0.5\n",
    "dx1 = sd*sqrt(dt)\n",
    "dx2 = sd*sqrt(3*dt)\n",
    "dx3 = sd*sqrt(4*dt)"
   ]
  },
  {
   "cell_type": "markdown",
   "metadata": {},
   "source": [
    "The Black Sholes PDE for log stock price ($X_t$) is defined as "
   ]
  },
  {
   "cell_type": "markdown",
   "metadata": {},
   "source": [
    "$$\\frac{\\partial C_t}{\\partial t} + (r - \\frac{1}{2}\\sigma^2)\\frac{\\partial C_t}{\\partial X_t} + \\frac{1}{2}\\sigma^2 \\frac{\\partial ^2 C}{\\partial X_t ^2} - rC_t = 0$$"
   ]
  },
  {
   "cell_type": "markdown",
   "metadata": {
    "collapsed": true
   },
   "source": [
    "Generate grid of log stock price from \\$4 to \\$16 with increments of 1"
   ]
  },
  {
   "cell_type": "code",
   "execution_count": 3,
   "metadata": {
    "collapsed": true
   },
   "outputs": [],
   "source": [
    "def generate_grid(sd, dx):\n",
    "\n",
    "    return arange(log(16)+dx, log(4)-dx, -dx)"
   ]
  },
  {
   "cell_type": "markdown",
   "metadata": {},
   "source": [
    "**(a) Explicit Finite-Difference method **\n"
   ]
  },
  {
   "cell_type": "markdown",
   "metadata": {},
   "source": [
    "Using discretization techniques Explicit Finite-Difference method, find $P_u$, $P_d$ and $P_m$ with the following formula"
   ]
  },
  {
   "cell_type": "markdown",
   "metadata": {},
   "source": [
    "<img src=\"https://s13.postimg.org/nlvsjobg7/Capture.png\" ,style=\"height: 180px; width: 270px;\"/>"
   ]
  },
  {
   "cell_type": "code",
   "execution_count": 4,
   "metadata": {
    "collapsed": true
   },
   "outputs": [],
   "source": [
    "def Generate_Ps_EFD(dt, sd, r, dx):\n",
    "    Pu = dt*(sd**2 / (2 * dx**2) + (r - 0.5*sd**2)/(2 * dx))\n",
    "    Pm = 1 - dt*sd**2/dx**2 - r * dt\n",
    "    Pd =  dt*(sd**2 / (2 * dx**2) - (r - 0.5*sd**2)/(2 * dx))\n",
    "    return Pu, Pm, Pd"
   ]
  },
  {
   "cell_type": "markdown",
   "metadata": {},
   "source": [
    "The Explicit difference method for call could be implemented as "
   ]
  },
  {
   "cell_type": "markdown",
   "metadata": {},
   "source": [
    "<img src=\"https://s13.postimg.org/wgwmu7v3r/Capture1.png\" ,style=\"height: 360px; width: 690px;\"/>"
   ]
  },
  {
   "cell_type": "markdown",
   "metadata": {},
   "source": [
    "Generate the put parameter is very similiar"
   ]
  },
  {
   "cell_type": "markdown",
   "metadata": {},
   "source": [
    "Generate matrix A for Explicit Finte Difference Method, which is the same for every period"
   ]
  },
  {
   "cell_type": "code",
   "execution_count": 5,
   "metadata": {
    "collapsed": true
   },
   "outputs": [],
   "source": [
    "def A_Exlicit(Pu, Pm, Pd, grid_size):\n",
    "    \n",
    "    Pu_mtx = hstack((Pu*identity(grid_size - 2), \n",
    "                     zeros((grid_size - 2, 2))))\n",
    "\n",
    "    Pm_mtx = hstack((zeros((grid_size - 2, 1)), \n",
    "                     Pm*identity((grid_size - 2)),\n",
    "                     zeros((grid_size - 2, 1))))\n",
    "\n",
    "    Pd_mtx = hstack((zeros((grid_size - 2, 2)), \n",
    "                    Pd*identity(grid_size - 2)))\n",
    "    \n",
    "    A = Pu_mtx + Pm_mtx + Pd_mtx\n",
    "    A = vstack((A[0,:], A, A[-1,:]))\n",
    "    \n",
    "    return A"
   ]
  },
  {
   "cell_type": "markdown",
   "metadata": {
    "collapsed": true
   },
   "source": [
    "Build the function that solves the PDE using Explicit Finte Difference Methods"
   ]
  },
  {
   "cell_type": "code",
   "execution_count": 6,
   "metadata": {
    "collapsed": true
   },
   "outputs": [],
   "source": [
    "def ExplicitFinteDifferencePut(dt, sd, r, dx, S0, T):\n",
    "    \n",
    "    # Generate stock grids with the input parameters\n",
    "    log_stock_gird = generate_grid(sd, dx)\n",
    "    grid_size =  len(log_stock_gird)\n",
    "    \n",
    "    # select the index of the stocks that are closest to the $4 - $16 with $1 increment \n",
    "    idx = [abs(log_stock_gird - log(i)).argmin() for i in arange(3, 17, 1)]\n",
    "\n",
    "    # Generate Pu, Pm, Pd\n",
    "    Pu, Pm, Pd = Generate_Ps_EFD(dt, sd, r, dx)\n",
    "\n",
    "    # Backward loop through the entire grid, solve the entire stock grid\n",
    "    A = A_Exlicit(Pu, Pm, Pd, grid_size)\n",
    "    B =  hstack((zeros(grid_size - 1), \n",
    "         exp(log_stock_gird[ -2]) -  exp(log_stock_gird[- 1])))\n",
    "\n",
    "    F = maximum(K - exp(log_stock_gird), 0)\n",
    "    for i in range(int(T/dt)):\n",
    "            F = A.dot(F) + B\n",
    "    \n",
    "    # interporlate the stock prices that does not exsit in the grid\n",
    "    P = interp(arange(4, 17, 1), exp(log_stock_gird[idx]), F[idx])\n",
    "    \n",
    "    return P"
   ]
  },
  {
   "cell_type": "markdown",
   "metadata": {
    "collapsed": true
   },
   "source": [
    "**(b) Implicit Finite-Difference method**\n",
    "\n"
   ]
  },
  {
   "cell_type": "markdown",
   "metadata": {},
   "source": [
    "Using discretization techniques Implicit Finite-Difference method, find $P_u$, $P_d$ and $P_m$ with the following formula"
   ]
  },
  {
   "cell_type": "markdown",
   "metadata": {},
   "source": [
    "<img src=\"https://s13.postimg.org/nlvsjobg7/Capture.png\" ,style=\"height: 170px; width: 250px;\"/>"
   ]
  },
  {
   "cell_type": "code",
   "execution_count": 7,
   "metadata": {
    "collapsed": true
   },
   "outputs": [],
   "source": [
    "def Generate_Ps_IFD(dt, sd, r, dx):\n",
    "    Pu = -1/2* dt*(sd**2 / dx**2 + (r - 0.5*sd**2)/ dx)\n",
    "    Pm = 1 + dt*sd**2/dx**2 + r * dt\n",
    "    Pd =  -1/2 * dt*(sd**2 /dx**2 - (r - 0.5*sd**2)/dx)\n",
    "    return Pu, Pm, Pd"
   ]
  },
  {
   "cell_type": "markdown",
   "metadata": {},
   "source": [
    "The implicit finite difference method for could be implemented as "
   ]
  },
  {
   "cell_type": "markdown",
   "metadata": {},
   "source": [
    "<img src=\"https://s13.postimg.org/oo5z29jzr/Capture2.png\" ,style=\"height: 380px; width: 690px;\"/>"
   ]
  },
  {
   "cell_type": "markdown",
   "metadata": {},
   "source": [
    "Generate matrix A for Implicit Finte Difference Method, which is the same for every period"
   ]
  },
  {
   "cell_type": "code",
   "execution_count": 8,
   "metadata": {
    "collapsed": true
   },
   "outputs": [],
   "source": [
    "def A_Imlicit(Pu, Pm, Pd, grid_size):\n",
    "    \n",
    "    Pu_mtx = hstack((Pu*identity(grid_size - 2), \n",
    "                     zeros((grid_size - 2, 2))))\n",
    "\n",
    "    Pm_mtx = hstack((zeros((grid_size - 2, 1)), \n",
    "                     Pm*identity((grid_size - 2)),\n",
    "                     zeros((grid_size - 2, 1))))\n",
    "\n",
    "    Pd_mtx = hstack((zeros((grid_size - 2, 2)), \n",
    "                    Pd*identity(grid_size - 2)))\n",
    "    \n",
    "    A = Pu_mtx + Pm_mtx + Pd_mtx\n",
    "    A = vstack((hstack((1, -1, zeros(grid_size - 2))),\n",
    "                A, \n",
    "                hstack((zeros(grid_size - 2), -1, 1))))\n",
    "    \n",
    "    return A"
   ]
  },
  {
   "cell_type": "markdown",
   "metadata": {},
   "source": [
    "Build the function that solves the PDE using Implicit Finte Difference Methods"
   ]
  },
  {
   "cell_type": "code",
   "execution_count": 9,
   "metadata": {
    "collapsed": true
   },
   "outputs": [],
   "source": [
    "def ImplicitFinteDifferencePut(dt, sd, r, dx, S0, T):\n",
    "    \n",
    "    # Generate stock grids with the input parameters\n",
    "    log_stock_gird = generate_grid(sd, dx)\n",
    "    grid_size =  len(log_stock_gird)\n",
    "    \n",
    "    # select the index of the stocks that are closest to the $4 - $16 with $1 increment \n",
    "    idx = [abs(log_stock_gird - log(i)).argmin() for i in arange(1, 20, 1)]\n",
    "\n",
    "    # Generate Pu, Pm, Pd\n",
    "    Pu, Pm, Pd = Generate_Ps_IFD(dt, sd, r, dx)\n",
    "\n",
    "    # Backward loop through the entire grid, solve the entire stock grid\n",
    "    A_inv = linalg.inv(A_Imlicit(Pu, Pm, Pd, grid_size))\n",
    "    \n",
    "    # initialize matrix B\n",
    "    B =  hstack((0, maximum(K - exp(log_stock_gird), 0)[1:-1],\n",
    "                     exp(log_stock_gird[ -2]) -  exp(log_stock_gird[- 1])))\n",
    "\n",
    "    for i in range(int(T/dt)):\n",
    "       \n",
    "        F = A_inv.dot(B)\n",
    "        B =  hstack((0, F[1:-1],\n",
    "                     exp(log_stock_gird[ -2]) -  exp(log_stock_gird[- 1])))\n",
    "    \n",
    "    # interporlate the stock prices that does not exsit in the grid\n",
    "    P = interp(S0, exp(log_stock_gird[idx]), F[idx])\n",
    "    \n",
    "    return P"
   ]
  },
  {
   "cell_type": "markdown",
   "metadata": {},
   "source": [
    "**(c) Crank-Nicolson Finite-Difference method**"
   ]
  },
  {
   "cell_type": "markdown",
   "metadata": {},
   "source": [
    "Using discretization techniques Crank-Nicolson Finite-Difference method, find $P_u$, $P_d$ and $P_m$ with the following formula"
   ]
  },
  {
   "cell_type": "markdown",
   "metadata": {},
   "source": [
    "<img src=\"https://s13.postimg.org/xvy7ixoh3/Capture4.png\" ,style=\"height: 160px; width: 220px;\"/>"
   ]
  },
  {
   "cell_type": "code",
   "execution_count": 10,
   "metadata": {
    "collapsed": true
   },
   "outputs": [],
   "source": [
    "def Generate_Ps_CNFD(dt, sd, r, dx):\n",
    "    Pu = -1/4* dt*(sd**2 / dx**2 + (r - 0.5*sd**2)/ dx)\n",
    "    Pm = 1 + dt*sd**2/(2*dx**2) + 0.5* r * dt\n",
    "    Pd =  -1/4 * dt*(sd**2 /dx**2 - (r - 0.5*sd**2)/dx)\n",
    "    return Pu, Pm, Pd"
   ]
  },
  {
   "cell_type": "markdown",
   "metadata": {},
   "source": [
    "The Crank-Nicolson difference method for call could be implemented as "
   ]
  },
  {
   "cell_type": "markdown",
   "metadata": {},
   "source": [
    "<img src=\"https://s13.postimg.org/68li4uqfr/Capture5.png\" ,style=\"height: 390px; width: 620px;\"/>"
   ]
  },
  {
   "cell_type": "markdown",
   "metadata": {},
   "source": [
    "<img src=\"https://s13.postimg.org/qfyxx5g7b/Capture6.png\" ,style=\"height: 170px; width: 400px;\"/>"
   ]
  },
  {
   "cell_type": "markdown",
   "metadata": {},
   "source": [
    "A matrix is the same as the Implicit Finite Difference Method"
   ]
  },
  {
   "cell_type": "code",
   "execution_count": 11,
   "metadata": {
    "collapsed": true
   },
   "outputs": [],
   "source": [
    "def A_CNFD(Pu, Pm, Pd, grid_size):\n",
    "    \n",
    "    Pu_mtx = hstack((Pu*identity(grid_size - 2), \n",
    "                     zeros((grid_size - 2, 2))))\n",
    "\n",
    "    Pm_mtx = hstack((zeros((grid_size - 2, 1)), \n",
    "                     Pm*identity((grid_size - 2)),\n",
    "                     zeros((grid_size - 2, 1))))\n",
    "\n",
    "    Pd_mtx = hstack((zeros((grid_size - 2, 2)), \n",
    "                    Pd*identity(grid_size - 2)))\n",
    "    \n",
    "    A = Pu_mtx + Pm_mtx + Pd_mtx\n",
    "    A = vstack((hstack((1, -1, zeros(grid_size - 2))),\n",
    "                A, \n",
    "                hstack((zeros(grid_size - 2), -1, 1))))\n",
    "    \n",
    "    return A"
   ]
  },
  {
   "cell_type": "markdown",
   "metadata": {},
   "source": [
    "Build the function that solves the PDE using Crank-Nicolson Finte Difference Methods"
   ]
  },
  {
   "cell_type": "code",
   "execution_count": 12,
   "metadata": {
    "collapsed": true
   },
   "outputs": [],
   "source": [
    "def CrankNicolsonFinteDifferencePut(dt, sd, r, dx, S0, T):\n",
    "    \n",
    "    # Generate stock grids with the input parameters\n",
    "    log_stock_gird = generate_grid(sd, dx)\n",
    "    grid_size =  len(log_stock_gird)\n",
    "    \n",
    "    # select the index of the stocks that are closest to the $4 - $16 with $1 increment \n",
    "    idx = [abs(log_stock_gird - log(i)).argmin() for i in arange(1, 20, 1)]\n",
    "\n",
    "    # Generate Pu, Pm, Pd\n",
    "    Pu, Pm, Pd = Generate_Ps_CNFD(dt, sd, r, dx)\n",
    "\n",
    "    # Backward loop through the entire grid, solve the entire stock grid\n",
    "    A_inv = linalg.inv(A_CNFD(Pu, Pm, Pd, grid_size))\n",
    "    \n",
    "    # initialize matrix B\n",
    "    payoff = maximum(K - exp(log_stock_gird), 0)\n",
    "    Z = -Pu*payoff[:-2] - (Pm - 2) * payoff[1:-1] - Pd*payoff[2:]\n",
    "    B =  hstack((0, Z,\n",
    "                     exp(log_stock_gird[ -2]) -  exp(log_stock_gird[- 1])))\n",
    "\n",
    "    for i in range(int(T/dt)):\n",
    "       \n",
    "        F = A_inv.dot(B)\n",
    "        Zi = -Pu*F[:-2] - (Pm - 2) * F[1:-1] - Pd*F[2:]\n",
    "        B =  hstack((0, Zi,\n",
    "                     exp(log_stock_gird[ -2]) -  exp(log_stock_gird[- 1])))\n",
    "    \n",
    "    # interporlate the stock prices that does not exsit in the grid\n",
    "    P = interp(S0, exp(log_stock_gird[idx]), F[idx])\n",
    "    \n",
    "    return P"
   ]
  },
  {
   "cell_type": "markdown",
   "metadata": {},
   "source": [
    "**Black Sholes Model**\n",
    "\n",
    "Compare results with Black-Scholes results"
   ]
  },
  {
   "cell_type": "code",
   "execution_count": 13,
   "metadata": {
    "collapsed": true
   },
   "outputs": [],
   "source": [
    "def BlackSholes_put(S0, sd, T, K, r):\n",
    "    # find d1 and d2\n",
    "    d1 = (log(S0/K) + (r + 0.5*sd**2)*T)/(sd*sqrt(T))\n",
    "    d2 = d1 - sd*sqrt(T)\n",
    "\n",
    "    # find call option price\n",
    "    P =  K*exp(-r*T)*norm.cdf(-d2) - S0*norm.cdf(-d1) \n",
    "    \n",
    "    return (P)"
   ]
  },
  {
   "cell_type": "code",
   "execution_count": 14,
   "metadata": {
    "collapsed": true
   },
   "outputs": [],
   "source": [
    "bs_put = [BlackSholes_put(s0, 0.2, 0.5, 10, 0.04) for s0 in S0]\n",
    "bs_put = pd.DataFrame(bs_put, index= S0)\n",
    "bs_put.columns =['Black Scholes']"
   ]
  },
  {
   "cell_type": "markdown",
   "metadata": {},
   "source": [
    "**Generate Summary Table**"
   ]
  },
  {
   "cell_type": "markdown",
   "metadata": {},
   "source": [
    "Explicit Finite Difference Method"
   ]
  },
  {
   "cell_type": "code",
   "execution_count": 15,
   "metadata": {
    "collapsed": true
   },
   "outputs": [],
   "source": [
    "explicit_put_values = [ExplicitFinteDifferencePut(dt, sd, r, dx, S0, T) for dx in [dx1, dx2, dx3]]\n",
    "explicit_put_values = pd.DataFrame(explicit_put_values, columns= S0).T\n",
    "explicit_put_values = pd.concat([explicit_put_values, bs_put], axis=1)\n",
    "explicit_put_values.columns = ['Explicit FD dx1', 'Explicit FD dx2', 'Explicit FD dx3', 'Black Scholes']\n",
    "explicit_put_values['Error dx1'] = explicit_put_values.apply(lambda x: ((x['Explicit FD dx1'] \n",
    "                                                                           - x['Black Scholes'])), axis=1)\n",
    "                                                                          \n",
    "\n",
    "explicit_put_values['Error dx2'] = explicit_put_values.apply(lambda x: ((x['Explicit FD dx2'] \n",
    "                                                                         - x['Black Scholes'])), axis=1)\n",
    "\n",
    "explicit_put_values['Error dx3'] = explicit_put_values.apply(lambda x: ((x['Explicit FD dx3'] \n",
    "                                                                         - x['Black Scholes'])), axis=1)\n",
    "explicit_put_values.index.name = 'Stock Price (S0)'"
   ]
  },
  {
   "cell_type": "code",
   "execution_count": 16,
   "metadata": {},
   "outputs": [
    {
     "data": {
      "text/html": [
       "<div>\n",
       "<style scoped>\n",
       "    .dataframe tbody tr th:only-of-type {\n",
       "        vertical-align: middle;\n",
       "    }\n",
       "\n",
       "    .dataframe tbody tr th {\n",
       "        vertical-align: top;\n",
       "    }\n",
       "\n",
       "    .dataframe thead th {\n",
       "        text-align: right;\n",
       "    }\n",
       "</style>\n",
       "<table border=\"1\" class=\"dataframe\">\n",
       "  <thead>\n",
       "    <tr style=\"text-align: right;\">\n",
       "      <th></th>\n",
       "      <th>Explicit FD dx1</th>\n",
       "      <th>Explicit FD dx2</th>\n",
       "      <th>Explicit FD dx3</th>\n",
       "      <th>Black Scholes</th>\n",
       "      <th>Error dx1</th>\n",
       "      <th>Error dx2</th>\n",
       "      <th>Error dx3</th>\n",
       "    </tr>\n",
       "    <tr>\n",
       "      <th>Stock Price (S0)</th>\n",
       "      <th></th>\n",
       "      <th></th>\n",
       "      <th></th>\n",
       "      <th></th>\n",
       "      <th></th>\n",
       "      <th></th>\n",
       "      <th></th>\n",
       "    </tr>\n",
       "  </thead>\n",
       "  <tbody>\n",
       "    <tr>\n",
       "      <th>4</th>\n",
       "      <td>5.80198</td>\n",
       "      <td>5.80198</td>\n",
       "      <td>5.80198</td>\n",
       "      <td>5.80199</td>\n",
       "      <td>-0.00001</td>\n",
       "      <td>-0.00001</td>\n",
       "      <td>-0.00001</td>\n",
       "    </tr>\n",
       "    <tr>\n",
       "      <th>5</th>\n",
       "      <td>4.80198</td>\n",
       "      <td>4.80198</td>\n",
       "      <td>4.80198</td>\n",
       "      <td>4.80199</td>\n",
       "      <td>-0.00001</td>\n",
       "      <td>-0.00001</td>\n",
       "      <td>-0.00001</td>\n",
       "    </tr>\n",
       "    <tr>\n",
       "      <th>6</th>\n",
       "      <td>3.80210</td>\n",
       "      <td>3.80205</td>\n",
       "      <td>3.80211</td>\n",
       "      <td>3.80206</td>\n",
       "      <td>0.00004</td>\n",
       "      <td>-0.00000</td>\n",
       "      <td>0.00005</td>\n",
       "    </tr>\n",
       "    <tr>\n",
       "      <th>7</th>\n",
       "      <td>2.80550</td>\n",
       "      <td>2.80565</td>\n",
       "      <td>2.80558</td>\n",
       "      <td>2.80536</td>\n",
       "      <td>0.00014</td>\n",
       "      <td>0.00029</td>\n",
       "      <td>0.00022</td>\n",
       "    </tr>\n",
       "    <tr>\n",
       "      <th>8</th>\n",
       "      <td>1.84583</td>\n",
       "      <td>1.84737</td>\n",
       "      <td>1.84784</td>\n",
       "      <td>1.84427</td>\n",
       "      <td>0.00156</td>\n",
       "      <td>0.00311</td>\n",
       "      <td>0.00357</td>\n",
       "    </tr>\n",
       "    <tr>\n",
       "      <th>9</th>\n",
       "      <td>1.02760</td>\n",
       "      <td>1.02693</td>\n",
       "      <td>1.02773</td>\n",
       "      <td>1.02443</td>\n",
       "      <td>0.00317</td>\n",
       "      <td>0.00250</td>\n",
       "      <td>0.00330</td>\n",
       "    </tr>\n",
       "    <tr>\n",
       "      <th>10</th>\n",
       "      <td>0.46985</td>\n",
       "      <td>0.47229</td>\n",
       "      <td>0.47162</td>\n",
       "      <td>0.46469</td>\n",
       "      <td>0.00516</td>\n",
       "      <td>0.00759</td>\n",
       "      <td>0.00692</td>\n",
       "    </tr>\n",
       "    <tr>\n",
       "      <th>11</th>\n",
       "      <td>0.17249</td>\n",
       "      <td>0.17481</td>\n",
       "      <td>0.17234</td>\n",
       "      <td>0.17154</td>\n",
       "      <td>0.00095</td>\n",
       "      <td>0.00328</td>\n",
       "      <td>0.00080</td>\n",
       "    </tr>\n",
       "    <tr>\n",
       "      <th>12</th>\n",
       "      <td>0.05342</td>\n",
       "      <td>0.05495</td>\n",
       "      <td>0.05346</td>\n",
       "      <td>0.05246</td>\n",
       "      <td>0.00096</td>\n",
       "      <td>0.00249</td>\n",
       "      <td>0.00100</td>\n",
       "    </tr>\n",
       "    <tr>\n",
       "      <th>13</th>\n",
       "      <td>0.01408</td>\n",
       "      <td>0.01540</td>\n",
       "      <td>0.01460</td>\n",
       "      <td>0.01365</td>\n",
       "      <td>0.00043</td>\n",
       "      <td>0.00175</td>\n",
       "      <td>0.00094</td>\n",
       "    </tr>\n",
       "    <tr>\n",
       "      <th>14</th>\n",
       "      <td>0.00310</td>\n",
       "      <td>0.00332</td>\n",
       "      <td>0.00387</td>\n",
       "      <td>0.00311</td>\n",
       "      <td>-0.00001</td>\n",
       "      <td>0.00021</td>\n",
       "      <td>0.00076</td>\n",
       "    </tr>\n",
       "    <tr>\n",
       "      <th>15</th>\n",
       "      <td>0.00068</td>\n",
       "      <td>0.00071</td>\n",
       "      <td>0.00072</td>\n",
       "      <td>0.00063</td>\n",
       "      <td>0.00004</td>\n",
       "      <td>0.00008</td>\n",
       "      <td>0.00008</td>\n",
       "    </tr>\n",
       "    <tr>\n",
       "      <th>16</th>\n",
       "      <td>0.00021</td>\n",
       "      <td>0.00020</td>\n",
       "      <td>0.00020</td>\n",
       "      <td>0.00012</td>\n",
       "      <td>0.00009</td>\n",
       "      <td>0.00008</td>\n",
       "      <td>0.00008</td>\n",
       "    </tr>\n",
       "  </tbody>\n",
       "</table>\n",
       "</div>"
      ],
      "text/plain": [
       "                  Explicit FD dx1  Explicit FD dx2  Explicit FD dx3  \\\n",
       "Stock Price (S0)                                                      \n",
       "4                         5.80198          5.80198          5.80198   \n",
       "5                         4.80198          4.80198          4.80198   \n",
       "6                         3.80210          3.80205          3.80211   \n",
       "7                         2.80550          2.80565          2.80558   \n",
       "8                         1.84583          1.84737          1.84784   \n",
       "9                         1.02760          1.02693          1.02773   \n",
       "10                        0.46985          0.47229          0.47162   \n",
       "11                        0.17249          0.17481          0.17234   \n",
       "12                        0.05342          0.05495          0.05346   \n",
       "13                        0.01408          0.01540          0.01460   \n",
       "14                        0.00310          0.00332          0.00387   \n",
       "15                        0.00068          0.00071          0.00072   \n",
       "16                        0.00021          0.00020          0.00020   \n",
       "\n",
       "                  Black Scholes  Error dx1  Error dx2  Error dx3  \n",
       "Stock Price (S0)                                                  \n",
       "4                       5.80199   -0.00001   -0.00001   -0.00001  \n",
       "5                       4.80199   -0.00001   -0.00001   -0.00001  \n",
       "6                       3.80206    0.00004   -0.00000    0.00005  \n",
       "7                       2.80536    0.00014    0.00029    0.00022  \n",
       "8                       1.84427    0.00156    0.00311    0.00357  \n",
       "9                       1.02443    0.00317    0.00250    0.00330  \n",
       "10                      0.46469    0.00516    0.00759    0.00692  \n",
       "11                      0.17154    0.00095    0.00328    0.00080  \n",
       "12                      0.05246    0.00096    0.00249    0.00100  \n",
       "13                      0.01365    0.00043    0.00175    0.00094  \n",
       "14                      0.00311   -0.00001    0.00021    0.00076  \n",
       "15                      0.00063    0.00004    0.00008    0.00008  \n",
       "16                      0.00012    0.00009    0.00008    0.00008  "
      ]
     },
     "execution_count": 16,
     "metadata": {},
     "output_type": "execute_result"
    }
   ],
   "source": [
    "explicit_put_values"
   ]
  },
  {
   "cell_type": "markdown",
   "metadata": {},
   "source": [
    "Implicit Finite Difference Method"
   ]
  },
  {
   "cell_type": "code",
   "execution_count": 17,
   "metadata": {
    "collapsed": true
   },
   "outputs": [],
   "source": [
    "implicit_put_values = [ImplicitFinteDifferencePut(dt, sd, r, dx, S0, T) for dx in [dx1, dx2, dx3]]\n",
    "implicit_put_values = pd.DataFrame(implicit_put_values, columns= S0).T\n",
    "implicit_put_values = pd.concat([implicit_put_values, bs_put], axis=1)\n",
    "implicit_put_values.columns = ['Implicit FD dx1', 'Implicit FD dx2', 'Implicit FD dx3', 'Black Scholes']\n",
    "\n",
    "implicit_put_values['Error dx1'] = implicit_put_values.apply(lambda x: (x['Implicit FD dx1'] \n",
    "                                                                           - x['Black Scholes']), axis=1)\n",
    "                                                                          \n",
    "\n",
    "implicit_put_values['Error dx2'] = implicit_put_values.apply(lambda x: (x['Implicit FD dx2'] \n",
    "                                                                         - x['Black Scholes']), axis=1)\n",
    "\n",
    "implicit_put_values['Error dx3'] = implicit_put_values.apply(lambda x: (x['Implicit FD dx3'] \n",
    "                                                                         - x['Black Scholes']), axis=1)\n",
    "implicit_put_values.index.name = 'Stock Price (S0)'"
   ]
  },
  {
   "cell_type": "code",
   "execution_count": 18,
   "metadata": {},
   "outputs": [
    {
     "data": {
      "text/html": [
       "<div>\n",
       "<style scoped>\n",
       "    .dataframe tbody tr th:only-of-type {\n",
       "        vertical-align: middle;\n",
       "    }\n",
       "\n",
       "    .dataframe tbody tr th {\n",
       "        vertical-align: top;\n",
       "    }\n",
       "\n",
       "    .dataframe thead th {\n",
       "        text-align: right;\n",
       "    }\n",
       "</style>\n",
       "<table border=\"1\" class=\"dataframe\">\n",
       "  <thead>\n",
       "    <tr style=\"text-align: right;\">\n",
       "      <th></th>\n",
       "      <th>Implicit FD dx1</th>\n",
       "      <th>Implicit FD dx2</th>\n",
       "      <th>Implicit FD dx3</th>\n",
       "      <th>Black Scholes</th>\n",
       "      <th>Error dx1</th>\n",
       "      <th>Error dx2</th>\n",
       "      <th>Error dx3</th>\n",
       "    </tr>\n",
       "    <tr>\n",
       "      <th>Stock Price (S0)</th>\n",
       "      <th></th>\n",
       "      <th></th>\n",
       "      <th></th>\n",
       "      <th></th>\n",
       "      <th></th>\n",
       "      <th></th>\n",
       "      <th></th>\n",
       "    </tr>\n",
       "  </thead>\n",
       "  <tbody>\n",
       "    <tr>\n",
       "      <th>4</th>\n",
       "      <td>5.80199</td>\n",
       "      <td>5.80199</td>\n",
       "      <td>5.80199</td>\n",
       "      <td>5.80199</td>\n",
       "      <td>0.00001</td>\n",
       "      <td>0.00001</td>\n",
       "      <td>0.00000</td>\n",
       "    </tr>\n",
       "    <tr>\n",
       "      <th>5</th>\n",
       "      <td>4.80199</td>\n",
       "      <td>4.80199</td>\n",
       "      <td>4.80199</td>\n",
       "      <td>4.80199</td>\n",
       "      <td>0.00001</td>\n",
       "      <td>0.00000</td>\n",
       "      <td>0.00000</td>\n",
       "    </tr>\n",
       "    <tr>\n",
       "      <th>6</th>\n",
       "      <td>3.80213</td>\n",
       "      <td>3.80209</td>\n",
       "      <td>3.80214</td>\n",
       "      <td>3.80206</td>\n",
       "      <td>0.00007</td>\n",
       "      <td>0.00003</td>\n",
       "      <td>0.00008</td>\n",
       "    </tr>\n",
       "    <tr>\n",
       "      <th>7</th>\n",
       "      <td>2.80568</td>\n",
       "      <td>2.80583</td>\n",
       "      <td>2.80576</td>\n",
       "      <td>2.80536</td>\n",
       "      <td>0.00032</td>\n",
       "      <td>0.00047</td>\n",
       "      <td>0.00041</td>\n",
       "    </tr>\n",
       "    <tr>\n",
       "      <th>8</th>\n",
       "      <td>1.84620</td>\n",
       "      <td>1.84772</td>\n",
       "      <td>1.84818</td>\n",
       "      <td>1.84427</td>\n",
       "      <td>0.00193</td>\n",
       "      <td>0.00345</td>\n",
       "      <td>0.00391</td>\n",
       "    </tr>\n",
       "    <tr>\n",
       "      <th>9</th>\n",
       "      <td>1.02744</td>\n",
       "      <td>1.02682</td>\n",
       "      <td>1.02762</td>\n",
       "      <td>1.02443</td>\n",
       "      <td>0.00301</td>\n",
       "      <td>0.00240</td>\n",
       "      <td>0.00319</td>\n",
       "    </tr>\n",
       "    <tr>\n",
       "      <th>10</th>\n",
       "      <td>0.46936</td>\n",
       "      <td>0.47175</td>\n",
       "      <td>0.47108</td>\n",
       "      <td>0.46469</td>\n",
       "      <td>0.00466</td>\n",
       "      <td>0.00705</td>\n",
       "      <td>0.00638</td>\n",
       "    </tr>\n",
       "    <tr>\n",
       "      <th>11</th>\n",
       "      <td>0.17214</td>\n",
       "      <td>0.17450</td>\n",
       "      <td>0.17202</td>\n",
       "      <td>0.17154</td>\n",
       "      <td>0.00060</td>\n",
       "      <td>0.00297</td>\n",
       "      <td>0.00048</td>\n",
       "    </tr>\n",
       "    <tr>\n",
       "      <th>12</th>\n",
       "      <td>0.05347</td>\n",
       "      <td>0.05500</td>\n",
       "      <td>0.05352</td>\n",
       "      <td>0.05246</td>\n",
       "      <td>0.00101</td>\n",
       "      <td>0.00254</td>\n",
       "      <td>0.00106</td>\n",
       "    </tr>\n",
       "    <tr>\n",
       "      <th>13</th>\n",
       "      <td>0.01424</td>\n",
       "      <td>0.01556</td>\n",
       "      <td>0.01475</td>\n",
       "      <td>0.01365</td>\n",
       "      <td>0.00059</td>\n",
       "      <td>0.00191</td>\n",
       "      <td>0.00110</td>\n",
       "    </tr>\n",
       "    <tr>\n",
       "      <th>14</th>\n",
       "      <td>0.00321</td>\n",
       "      <td>0.00343</td>\n",
       "      <td>0.00398</td>\n",
       "      <td>0.00311</td>\n",
       "      <td>0.00010</td>\n",
       "      <td>0.00032</td>\n",
       "      <td>0.00087</td>\n",
       "    </tr>\n",
       "    <tr>\n",
       "      <th>15</th>\n",
       "      <td>0.00073</td>\n",
       "      <td>0.00076</td>\n",
       "      <td>0.00077</td>\n",
       "      <td>0.00063</td>\n",
       "      <td>0.00009</td>\n",
       "      <td>0.00013</td>\n",
       "      <td>0.00014</td>\n",
       "    </tr>\n",
       "    <tr>\n",
       "      <th>16</th>\n",
       "      <td>0.00024</td>\n",
       "      <td>0.00023</td>\n",
       "      <td>0.00023</td>\n",
       "      <td>0.00012</td>\n",
       "      <td>0.00012</td>\n",
       "      <td>0.00011</td>\n",
       "      <td>0.00011</td>\n",
       "    </tr>\n",
       "  </tbody>\n",
       "</table>\n",
       "</div>"
      ],
      "text/plain": [
       "                  Implicit FD dx1  Implicit FD dx2  Implicit FD dx3  \\\n",
       "Stock Price (S0)                                                      \n",
       "4                         5.80199          5.80199          5.80199   \n",
       "5                         4.80199          4.80199          4.80199   \n",
       "6                         3.80213          3.80209          3.80214   \n",
       "7                         2.80568          2.80583          2.80576   \n",
       "8                         1.84620          1.84772          1.84818   \n",
       "9                         1.02744          1.02682          1.02762   \n",
       "10                        0.46936          0.47175          0.47108   \n",
       "11                        0.17214          0.17450          0.17202   \n",
       "12                        0.05347          0.05500          0.05352   \n",
       "13                        0.01424          0.01556          0.01475   \n",
       "14                        0.00321          0.00343          0.00398   \n",
       "15                        0.00073          0.00076          0.00077   \n",
       "16                        0.00024          0.00023          0.00023   \n",
       "\n",
       "                  Black Scholes  Error dx1  Error dx2  Error dx3  \n",
       "Stock Price (S0)                                                  \n",
       "4                       5.80199    0.00001    0.00001    0.00000  \n",
       "5                       4.80199    0.00001    0.00000    0.00000  \n",
       "6                       3.80206    0.00007    0.00003    0.00008  \n",
       "7                       2.80536    0.00032    0.00047    0.00041  \n",
       "8                       1.84427    0.00193    0.00345    0.00391  \n",
       "9                       1.02443    0.00301    0.00240    0.00319  \n",
       "10                      0.46469    0.00466    0.00705    0.00638  \n",
       "11                      0.17154    0.00060    0.00297    0.00048  \n",
       "12                      0.05246    0.00101    0.00254    0.00106  \n",
       "13                      0.01365    0.00059    0.00191    0.00110  \n",
       "14                      0.00311    0.00010    0.00032    0.00087  \n",
       "15                      0.00063    0.00009    0.00013    0.00014  \n",
       "16                      0.00012    0.00012    0.00011    0.00011  "
      ]
     },
     "execution_count": 18,
     "metadata": {},
     "output_type": "execute_result"
    }
   ],
   "source": [
    "implicit_put_values"
   ]
  },
  {
   "cell_type": "markdown",
   "metadata": {},
   "source": [
    "Crank-Nicolson Finite Difference Method"
   ]
  },
  {
   "cell_type": "code",
   "execution_count": 19,
   "metadata": {
    "collapsed": true
   },
   "outputs": [],
   "source": [
    "CN_put_values = [CrankNicolsonFinteDifferencePut(dt, sd, r, dx, S0, T) for dx in [dx1, dx2, dx3]]\n",
    "CN_put_values = pd.DataFrame(CN_put_values, columns= S0).T\n",
    "CN_put_values = pd.concat([CN_put_values, bs_put], axis=1)\n",
    "CN_put_values.columns = ['C-N FD dx1', 'C-N FD dx2', 'C-N FD dx3', 'Black Scholes']\n",
    "\n",
    "CN_put_values['Error dx1'] = CN_put_values.apply(lambda x: x['C-N FD dx1'] - x['Black Scholes'], axis=1)\n",
    "                                                                          \n",
    "CN_put_values['Error dx2'] = CN_put_values.apply(lambda x: x['C-N FD dx2'] - x['Black Scholes'], axis=1)\n",
    "\n",
    "CN_put_values['Error dx3'] = CN_put_values.apply(lambda x: x['C-N FD dx3'] - x['Black Scholes'], axis=1)\n",
    "CN_put_values.index.name = 'Stock Price (S0)'"
   ]
  },
  {
   "cell_type": "code",
   "execution_count": 20,
   "metadata": {},
   "outputs": [
    {
     "data": {
      "text/html": [
       "<div>\n",
       "<style scoped>\n",
       "    .dataframe tbody tr th:only-of-type {\n",
       "        vertical-align: middle;\n",
       "    }\n",
       "\n",
       "    .dataframe tbody tr th {\n",
       "        vertical-align: top;\n",
       "    }\n",
       "\n",
       "    .dataframe thead th {\n",
       "        text-align: right;\n",
       "    }\n",
       "</style>\n",
       "<table border=\"1\" class=\"dataframe\">\n",
       "  <thead>\n",
       "    <tr style=\"text-align: right;\">\n",
       "      <th></th>\n",
       "      <th>C-N FD dx1</th>\n",
       "      <th>C-N FD dx2</th>\n",
       "      <th>C-N FD dx3</th>\n",
       "      <th>Black Scholes</th>\n",
       "      <th>Error dx1</th>\n",
       "      <th>Error dx2</th>\n",
       "      <th>Error dx3</th>\n",
       "    </tr>\n",
       "    <tr>\n",
       "      <th>Stock Price (S0)</th>\n",
       "      <th></th>\n",
       "      <th></th>\n",
       "      <th></th>\n",
       "      <th></th>\n",
       "      <th></th>\n",
       "      <th></th>\n",
       "      <th></th>\n",
       "    </tr>\n",
       "  </thead>\n",
       "  <tbody>\n",
       "    <tr>\n",
       "      <th>4</th>\n",
       "      <td>5.80199</td>\n",
       "      <td>5.80198</td>\n",
       "      <td>5.80198</td>\n",
       "      <td>5.80199</td>\n",
       "      <td>-0.00000</td>\n",
       "      <td>-0.00000</td>\n",
       "      <td>-0.00000</td>\n",
       "    </tr>\n",
       "    <tr>\n",
       "      <th>5</th>\n",
       "      <td>4.80199</td>\n",
       "      <td>4.80198</td>\n",
       "      <td>4.80198</td>\n",
       "      <td>4.80199</td>\n",
       "      <td>-0.00000</td>\n",
       "      <td>-0.00000</td>\n",
       "      <td>-0.00000</td>\n",
       "    </tr>\n",
       "    <tr>\n",
       "      <th>6</th>\n",
       "      <td>3.80212</td>\n",
       "      <td>3.80207</td>\n",
       "      <td>3.80212</td>\n",
       "      <td>3.80206</td>\n",
       "      <td>0.00006</td>\n",
       "      <td>0.00001</td>\n",
       "      <td>0.00006</td>\n",
       "    </tr>\n",
       "    <tr>\n",
       "      <th>7</th>\n",
       "      <td>2.80559</td>\n",
       "      <td>2.80574</td>\n",
       "      <td>2.80567</td>\n",
       "      <td>2.80536</td>\n",
       "      <td>0.00023</td>\n",
       "      <td>0.00038</td>\n",
       "      <td>0.00031</td>\n",
       "    </tr>\n",
       "    <tr>\n",
       "      <th>8</th>\n",
       "      <td>1.84603</td>\n",
       "      <td>1.84754</td>\n",
       "      <td>1.84801</td>\n",
       "      <td>1.84427</td>\n",
       "      <td>0.00176</td>\n",
       "      <td>0.00328</td>\n",
       "      <td>0.00374</td>\n",
       "    </tr>\n",
       "    <tr>\n",
       "      <th>9</th>\n",
       "      <td>1.02749</td>\n",
       "      <td>1.02688</td>\n",
       "      <td>1.02767</td>\n",
       "      <td>1.02443</td>\n",
       "      <td>0.00307</td>\n",
       "      <td>0.00245</td>\n",
       "      <td>0.00324</td>\n",
       "    </tr>\n",
       "    <tr>\n",
       "      <th>10</th>\n",
       "      <td>0.46963</td>\n",
       "      <td>0.47202</td>\n",
       "      <td>0.47135</td>\n",
       "      <td>0.46469</td>\n",
       "      <td>0.00494</td>\n",
       "      <td>0.00732</td>\n",
       "      <td>0.00665</td>\n",
       "    </tr>\n",
       "    <tr>\n",
       "      <th>11</th>\n",
       "      <td>0.17230</td>\n",
       "      <td>0.17466</td>\n",
       "      <td>0.17218</td>\n",
       "      <td>0.17154</td>\n",
       "      <td>0.00076</td>\n",
       "      <td>0.00312</td>\n",
       "      <td>0.00064</td>\n",
       "    </tr>\n",
       "    <tr>\n",
       "      <th>12</th>\n",
       "      <td>0.05344</td>\n",
       "      <td>0.05497</td>\n",
       "      <td>0.05349</td>\n",
       "      <td>0.05246</td>\n",
       "      <td>0.00098</td>\n",
       "      <td>0.00251</td>\n",
       "      <td>0.00103</td>\n",
       "    </tr>\n",
       "    <tr>\n",
       "      <th>13</th>\n",
       "      <td>0.01416</td>\n",
       "      <td>0.01548</td>\n",
       "      <td>0.01468</td>\n",
       "      <td>0.01365</td>\n",
       "      <td>0.00051</td>\n",
       "      <td>0.00183</td>\n",
       "      <td>0.00102</td>\n",
       "    </tr>\n",
       "    <tr>\n",
       "      <th>14</th>\n",
       "      <td>0.00315</td>\n",
       "      <td>0.00338</td>\n",
       "      <td>0.00392</td>\n",
       "      <td>0.00311</td>\n",
       "      <td>0.00005</td>\n",
       "      <td>0.00027</td>\n",
       "      <td>0.00082</td>\n",
       "    </tr>\n",
       "    <tr>\n",
       "      <th>15</th>\n",
       "      <td>0.00070</td>\n",
       "      <td>0.00074</td>\n",
       "      <td>0.00074</td>\n",
       "      <td>0.00063</td>\n",
       "      <td>0.00007</td>\n",
       "      <td>0.00010</td>\n",
       "      <td>0.00011</td>\n",
       "    </tr>\n",
       "    <tr>\n",
       "      <th>16</th>\n",
       "      <td>0.00022</td>\n",
       "      <td>0.00021</td>\n",
       "      <td>0.00021</td>\n",
       "      <td>0.00012</td>\n",
       "      <td>0.00010</td>\n",
       "      <td>0.00010</td>\n",
       "      <td>0.00009</td>\n",
       "    </tr>\n",
       "  </tbody>\n",
       "</table>\n",
       "</div>"
      ],
      "text/plain": [
       "                  C-N FD dx1  C-N FD dx2  C-N FD dx3  Black Scholes  \\\n",
       "Stock Price (S0)                                                      \n",
       "4                    5.80199     5.80198     5.80198        5.80199   \n",
       "5                    4.80199     4.80198     4.80198        4.80199   \n",
       "6                    3.80212     3.80207     3.80212        3.80206   \n",
       "7                    2.80559     2.80574     2.80567        2.80536   \n",
       "8                    1.84603     1.84754     1.84801        1.84427   \n",
       "9                    1.02749     1.02688     1.02767        1.02443   \n",
       "10                   0.46963     0.47202     0.47135        0.46469   \n",
       "11                   0.17230     0.17466     0.17218        0.17154   \n",
       "12                   0.05344     0.05497     0.05349        0.05246   \n",
       "13                   0.01416     0.01548     0.01468        0.01365   \n",
       "14                   0.00315     0.00338     0.00392        0.00311   \n",
       "15                   0.00070     0.00074     0.00074        0.00063   \n",
       "16                   0.00022     0.00021     0.00021        0.00012   \n",
       "\n",
       "                  Error dx1  Error dx2  Error dx3  \n",
       "Stock Price (S0)                                   \n",
       "4                  -0.00000   -0.00000   -0.00000  \n",
       "5                  -0.00000   -0.00000   -0.00000  \n",
       "6                   0.00006    0.00001    0.00006  \n",
       "7                   0.00023    0.00038    0.00031  \n",
       "8                   0.00176    0.00328    0.00374  \n",
       "9                   0.00307    0.00245    0.00324  \n",
       "10                  0.00494    0.00732    0.00665  \n",
       "11                  0.00076    0.00312    0.00064  \n",
       "12                  0.00098    0.00251    0.00103  \n",
       "13                  0.00051    0.00183    0.00102  \n",
       "14                  0.00005    0.00027    0.00082  \n",
       "15                  0.00007    0.00010    0.00011  \n",
       "16                  0.00010    0.00010    0.00009  "
      ]
     },
     "execution_count": 20,
     "metadata": {},
     "output_type": "execute_result"
    }
   ],
   "source": [
    "CN_put_values"
   ]
  },
  {
   "cell_type": "markdown",
   "metadata": {},
   "source": [
    "Three finite difference schemes yields very close results to the theoritical value (Black-Scholes Method). Some of the stock values does not exist in the grid, so the value of the corresponding option are interpolated. When the options are deep in-the-money or out-of-the-money, the finite difference method generated very accurate approximations of European Put Option. The largest errors of the finite difference approximations are inccured near at-the-money prices. The error generally increase with larger $\\Delta x$ chosen "
   ]
  },
  {
   "cell_type": "markdown",
   "metadata": {},
   "source": [
    "## Question 2"
   ]
  },
  {
   "cell_type": "markdown",
   "metadata": {
    "collapsed": true
   },
   "source": [
    "Consider the following situation on the stock of company XYZ: The current stock price is \\$10, and the volatility of the stock price is $\\sigma$ = 20 per annum. Assume the prevailing risk-free rate is r = 4 per annum. Use the Black-Scholes PDE (for S) to price **American Call** and **American Put options** with strike prices of K = \\$10, maturity of 0.5-years, and current stock prices for a range from \\$4 to \\$16; using the three different FD methods, \n",
    "\n",
    "Choose $\\Delta t$ = 0.002, with $\\Delta S$ = 0.5, or with $\\Delta S$ = 1, with $\\Delta S$ = 1.5"
   ]
  },
  {
   "cell_type": "markdown",
   "metadata": {},
   "source": [
    "**Solution:**"
   ]
  },
  {
   "cell_type": "markdown",
   "metadata": {},
   "source": [
    "The Black Sholes PDE for stock price is defined as"
   ]
  },
  {
   "cell_type": "markdown",
   "metadata": {},
   "source": [
    "$$\\frac{\\partial C_t}{\\partial t} + rS_t\\frac{\\partial C_t}{\\partial S_t} + \\frac{1}{2}\\sigma^2 S_t^2 \\frac{\\partial ^2 C}{\\partial S_t ^2} - rC_t = 0$$"
   ]
  },
  {
   "cell_type": "markdown",
   "metadata": {},
   "source": [
    "**American Call Option**"
   ]
  },
  {
   "cell_type": "markdown",
   "metadata": {},
   "source": [
    "Initialize parameters and generate different dS schemes"
   ]
  },
  {
   "cell_type": "code",
   "execution_count": 21,
   "metadata": {
    "collapsed": true
   },
   "outputs": [],
   "source": [
    "S0 = arange(4, 17, 1)\n",
    "dt =  0.002\n",
    "sd = 0.2\n",
    "r = 0.04\n",
    "K = 10\n",
    "T = 0.5\n",
    "dS1 = 0.5\n",
    "dS2 = 1\n",
    "dS3 = 1.5"
   ]
  },
  {
   "cell_type": "markdown",
   "metadata": {},
   "source": [
    "Generate grid"
   ]
  },
  {
   "cell_type": "code",
   "execution_count": 22,
   "metadata": {
    "collapsed": true
   },
   "outputs": [],
   "source": [
    "def generate_stock_gird(dS):\n",
    "    \n",
    "    return arange(0, 20, dS)"
   ]
  },
  {
   "cell_type": "markdown",
   "metadata": {},
   "source": [
    "Using the generalized method, define the following parameters"
   ]
  },
  {
   "cell_type": "markdown",
   "metadata": {},
   "source": [
    "<img src=\"https://s13.postimg.org/bwrsvr2hz/Capture7.png\" ,style=\"height: 300px; width: 420px;\"/>"
   ]
  },
  {
   "cell_type": "markdown",
   "metadata": {},
   "source": [
    "Generate $a_{ij}$"
   ]
  },
  {
   "cell_type": "code",
   "execution_count": 23,
   "metadata": {
    "collapsed": true
   },
   "outputs": [],
   "source": [
    "def Generate_aij_general(dt, sd, r, grid_size, alpha):\n",
    "    \n",
    "    # general a sequence from 1 to grid_size -1\n",
    "    j = arange(1, grid_size - 1, 1)\n",
    "    \n",
    "    a1 = (sd**2 * j**2 - r * j)*(1 - alpha) / 2\n",
    "    a2 = -1/dt - (sd**2 * j**2 + r)*(1 - alpha)\n",
    "    a3 = (sd**2 * j**2 + r * j)*(1 - alpha) / 2\n",
    "    \n",
    "    return a1, a2, a3"
   ]
  },
  {
   "cell_type": "markdown",
   "metadata": {},
   "source": [
    "Generate $b_{ij}$"
   ]
  },
  {
   "cell_type": "code",
   "execution_count": 24,
   "metadata": {
    "collapsed": true
   },
   "outputs": [],
   "source": [
    "def Generate_bij_general(dt, sd, r, grid_size, alpha):\n",
    "    \n",
    "    # general a sequence from 1 to grid_size -1\n",
    "    j = arange(1, grid_size - 1, 1)\n",
    "    \n",
    "    b1 = (sd**2 * j**2 - r * j)* alpha / 2\n",
    "    b2 =  1/dt - (sd**2 * j**2 + r)* alpha\n",
    "    b3 = (sd**2 * j**2 + r * j)* alpha / 2\n",
    "    \n",
    "    return b1, b2, b3"
   ]
  },
  {
   "cell_type": "markdown",
   "metadata": {},
   "source": [
    "Then solve the following equation in the matrix form"
   ]
  },
  {
   "cell_type": "markdown",
   "metadata": {},
   "source": [
    "$$a_1 \\cdot C_{i,j - 1} + a_2 \\cdot C_{i, j} + a_3 \\cdot C_{i, j + 1} = - b_1 \\cdot C_{i+1, j-1} - b_2 \\cdot C_{i+1, j} - b_3 \\cdot C_{i+1, j+1}$$\n",
    "\n",
    "\n",
    "That is $AC_{i} = BC_{i+1}$, where $C_{i + 1}$ is known"
   ]
  },
  {
   "cell_type": "markdown",
   "metadata": {},
   "source": [
    "Generate A matrix for the Generalized Finite Difference method. If the parameter $\\alpha$ = 1, it indicates that the explicit finite difference method is used, the A matrix on the left hand side must be idendity."
   ]
  },
  {
   "cell_type": "code",
   "execution_count": 25,
   "metadata": {
    "collapsed": true
   },
   "outputs": [],
   "source": [
    "def A_generalized(a1, a2, a3, grid_size):\n",
    "    \n",
    "    a1_mtx = hstack((diag(a1), \n",
    "                     zeros((grid_size - 2, 2))))\n",
    "\n",
    "    a2_mtx = hstack((zeros((grid_size - 2, 1)), \n",
    "                     diag(a2),\n",
    "                     zeros((grid_size - 2, 1))))\n",
    "\n",
    "    a3_mtx = hstack((zeros((grid_size - 2, 2)), \n",
    "                    diag(a3)))\n",
    "    \n",
    "    A = a1_mtx + a2_mtx + a3_mtx\n",
    "    A = vstack((hstack((a2[0], a3[0], zeros(grid_size - 2))),\n",
    "                        A, \n",
    "                        hstack((zeros(grid_size - 2), a1[-1], a2[-1]))))\n",
    "    return A"
   ]
  },
  {
   "cell_type": "markdown",
   "metadata": {},
   "source": [
    "Generate B matrix for the Generalized Finite Difference method. If the parameter $\\alpha$  = 0, it indicates that the Implicit finite difference method is used, the B matrix on the left hand side must be idendity."
   ]
  },
  {
   "cell_type": "code",
   "execution_count": 26,
   "metadata": {
    "collapsed": true
   },
   "outputs": [],
   "source": [
    "def B_generalized(b1, b2, b3, grid_size):\n",
    "    \n",
    "    b1_mtx = hstack((diag(-b1), \n",
    "                     zeros((grid_size - 2, 2))))\n",
    "\n",
    "    b2_mtx = hstack((zeros((grid_size - 2, 1)), \n",
    "                     diag(-b2),\n",
    "                     zeros((grid_size - 2, 1))))\n",
    "\n",
    "    b3_mtx = hstack((zeros((grid_size - 2, 2)), \n",
    "                    diag(-b3)))\n",
    "    \n",
    "    B = b1_mtx + b2_mtx + b3_mtx\n",
    "    B = vstack((hstack((-b2[0], -b3[0], zeros(grid_size - 2))),\n",
    "                        B, \n",
    "                        hstack((zeros(grid_size - 2), -b1[-1], -b2[-1]))))\n",
    "    return B"
   ]
  },
  {
   "cell_type": "markdown",
   "metadata": {
    "collapsed": true
   },
   "source": [
    "Build function that solves Black-Scholes Model for American call option using generalized finite difference method"
   ]
  },
  {
   "cell_type": "code",
   "execution_count": 27,
   "metadata": {
    "collapsed": true
   },
   "outputs": [],
   "source": [
    "def GeneralizedFinteDifferenceCall(dt, sd, r, dS, S0, T, alpha):\n",
    "    \n",
    "    # Generate stock grids with the input parameters\n",
    "    stock_gird = generate_stock_gird(dS)\n",
    "    grid_size =  len(stock_gird)\n",
    "    \n",
    "    # select the index of the stocks that are closest to the $4 - $16 with $1 increment \n",
    "    idx =  [abs(stock_gird - i).argmin() for i in arange(1, 20, 1)]\n",
    "    \n",
    "    # Generate the 6 parameters\n",
    "    a1, a2, a3 = Generate_aij_general(dt, sd, r, grid_size, alpha)\n",
    "    b1, b2, b3 = Generate_bij_general(dt, sd, r, grid_size, alpha)\n",
    "    \n",
    "    # Generate matrix A and B\n",
    "    A = A_generalized(a1, a2, a3, grid_size)\n",
    "    B = B_generalized(b1, b2, b3, grid_size)\n",
    "    \n",
    "    # Backward loop through the entire grid, solve the entire stock grid\n",
    "    A_inv = linalg.inv(A)\n",
    "    F =  maximum(stock_gird - K, 0)\n",
    "    \n",
    "    \n",
    "    for i in range(int(T/dt)):\n",
    "        F = maximum(A_inv.dot(B.dot(F)), stock_gird - K)\n",
    "        \n",
    "    C =  interp(S0, stock_gird[idx], F[idx])\n",
    "    return C, F"
   ]
  },
  {
   "cell_type": "markdown",
   "metadata": {},
   "source": [
    "Build function that solves Black-Scholes Model for American put option using generalized finite difference method"
   ]
  },
  {
   "cell_type": "code",
   "execution_count": 28,
   "metadata": {
    "collapsed": true
   },
   "outputs": [],
   "source": [
    "def GeneralizedFinteDifferencePut(dt, sd, r, dS, S0, T, alpha):\n",
    "    \n",
    "    # Generate stock grids with the input parameters\n",
    "    stock_gird = generate_stock_gird(dS)\n",
    "    grid_size =  len(stock_gird)\n",
    "    \n",
    "    # select the index of the stocks that are closest to the $4 - $16 with $1 increment \n",
    "    idx =  [abs(stock_gird - i).argmin() for i in arange(0, 21, 1)]\n",
    "    \n",
    "    # Generate the 6 parameters\n",
    "    a1, a2, a3 = Generate_aij_general(dt, sd, r, grid_size, alpha)\n",
    "    b1, b2, b3 = Generate_bij_general(dt, sd, r, grid_size, alpha)\n",
    "    \n",
    "    # Generate matrix A and B\n",
    "    A = A_generalized(a1, a2, a3, grid_size)\n",
    "    B = B_generalized(b1, b2, b3, grid_size)\n",
    "    \n",
    "    # Backward loop through the entire grid, solve the entire stock grid\n",
    "    A_inv = linalg.inv(A)\n",
    "    F =  maximum(K - stock_gird, 0)\n",
    "    \n",
    "    \n",
    "    for i in range(int(T/dt)):\n",
    "        F = maximum(A_inv.dot(B.dot(F)), K - stock_gird)\n",
    "        \n",
    "    P =  interp(S0, stock_gird[idx], F[idx])\n",
    "    return P, F"
   ]
  },
  {
   "cell_type": "markdown",
   "metadata": {},
   "source": [
    "**(a) Exlicit Finite Difference Method**"
   ]
  },
  {
   "cell_type": "markdown",
   "metadata": {},
   "source": [
    "The explicit finite difference method is used when the parameter $\\alpha$ = 1"
   ]
  },
  {
   "cell_type": "markdown",
   "metadata": {},
   "source": [
    "American Call"
   ]
  },
  {
   "cell_type": "code",
   "execution_count": 29,
   "metadata": {
    "collapsed": true
   },
   "outputs": [],
   "source": [
    "alpha = 1\n",
    "explicit_American_call = [GeneralizedFinteDifferenceCall(dt, sd, r, dS, S0, T, alpha)[0] for dS in [dS1, dS2, dS3]]\n",
    "explicit_American_call = pd.DataFrame(explicit_American_call, columns= S0).T\n",
    "explicit_American_call.columns = ['Explicit FD Call dS1', 'Explicit FD Call dS2', 'Explicit FD Call dS3']"
   ]
  },
  {
   "cell_type": "markdown",
   "metadata": {},
   "source": [
    "American Put"
   ]
  },
  {
   "cell_type": "code",
   "execution_count": 30,
   "metadata": {
    "collapsed": true
   },
   "outputs": [],
   "source": [
    "explicit_American_put = [GeneralizedFinteDifferencePut(dt, sd, r, dS, S0, T, alpha)[0] for dS in [dS1, dS2, dS3]]\n",
    "explicit_American_put = pd.DataFrame(explicit_American_put, columns= S0).T\n",
    "explicit_American_put.columns = ['Explicit FD Put dS1', 'Explicit FD Put dS2', 'Explicit FD Put dS3']"
   ]
  },
  {
   "cell_type": "markdown",
   "metadata": {},
   "source": [
    "**(b) Implicit Finite Difference Method**"
   ]
  },
  {
   "cell_type": "markdown",
   "metadata": {},
   "source": [
    "The (fully) implicit finite difference method is used when the parameter $\\alpha$ = 0"
   ]
  },
  {
   "cell_type": "markdown",
   "metadata": {},
   "source": [
    "American Call"
   ]
  },
  {
   "cell_type": "code",
   "execution_count": 31,
   "metadata": {
    "collapsed": true
   },
   "outputs": [],
   "source": [
    "alpha = 0\n",
    "implicit_American_call = [GeneralizedFinteDifferenceCall(dt, sd, r, dS, S0, T, alpha)[0] for dS in [dS1, dS2, dS3]]\n",
    "implicit_American_call = pd.DataFrame(implicit_American_call, columns= S0).T\n",
    "implicit_American_call.columns = ['Implicit FD Call dS1', 'Implicit FD Call dS2', 'Implicit FD Call dS3']"
   ]
  },
  {
   "cell_type": "markdown",
   "metadata": {},
   "source": [
    "American Put"
   ]
  },
  {
   "cell_type": "code",
   "execution_count": 32,
   "metadata": {
    "collapsed": true
   },
   "outputs": [],
   "source": [
    "implicit_American_put = [GeneralizedFinteDifferencePut(dt, sd, r, dS, S0, T, alpha)[0] for dS in [dS1, dS2, dS3]]\n",
    "implicit_American_put = pd.DataFrame(implicit_American_put, columns= S0).T\n",
    "implicit_American_put.columns = ['Implicit FD Put dS1', 'Implicit FD Put dS2', 'Implicit FD Put dS3']"
   ]
  },
  {
   "cell_type": "markdown",
   "metadata": {},
   "source": [
    "**(c) Crank-Nicolson Finite Difference Method**"
   ]
  },
  {
   "cell_type": "markdown",
   "metadata": {},
   "source": [
    "The Crank-Nicolson finite difference method is used when the parameter $\\alpha$ = 0.5"
   ]
  },
  {
   "cell_type": "markdown",
   "metadata": {},
   "source": [
    "American Call"
   ]
  },
  {
   "cell_type": "code",
   "execution_count": 33,
   "metadata": {
    "collapsed": true
   },
   "outputs": [],
   "source": [
    "alpha = 0.5\n",
    "CN_American_call = [GeneralizedFinteDifferenceCall(dt, sd, r, dS, S0, T, alpha)[0] for dS in [dS1, dS2, dS3]]\n",
    "CN_American_call = pd.DataFrame(CN_American_call, columns= S0).T\n",
    "CN_American_call.columns = ['C-N FD Call dS1', 'C-N FD Call dS2', 'C-N FD Call dS3']"
   ]
  },
  {
   "cell_type": "markdown",
   "metadata": {},
   "source": [
    "American Put"
   ]
  },
  {
   "cell_type": "code",
   "execution_count": 34,
   "metadata": {
    "collapsed": true
   },
   "outputs": [],
   "source": [
    "CN_American_put = [GeneralizedFinteDifferencePut(dt, sd, r, dS, S0, T, alpha)[0] for dS in [dS1, dS2, dS3]]\n",
    "CN_American_put = pd.DataFrame(CN_American_put, columns= S0).T\n",
    "CN_American_put.columns = ['C-N FD Put dS1', 'C-N FD Put dS2', 'C-N FD Put dS3']"
   ]
  },
  {
   "cell_type": "markdown",
   "metadata": {},
   "source": [
    "Generate Summary Table For American Call Options"
   ]
  },
  {
   "cell_type": "code",
   "execution_count": 35,
   "metadata": {},
   "outputs": [
    {
     "data": {
      "text/html": [
       "<div>\n",
       "<style scoped>\n",
       "    .dataframe tbody tr th:only-of-type {\n",
       "        vertical-align: middle;\n",
       "    }\n",
       "\n",
       "    .dataframe tbody tr th {\n",
       "        vertical-align: top;\n",
       "    }\n",
       "\n",
       "    .dataframe thead th {\n",
       "        text-align: right;\n",
       "    }\n",
       "</style>\n",
       "<table border=\"1\" class=\"dataframe\">\n",
       "  <thead>\n",
       "    <tr style=\"text-align: right;\">\n",
       "      <th></th>\n",
       "      <th>Explicit FD Call dS1</th>\n",
       "      <th>Explicit FD Call dS2</th>\n",
       "      <th>Explicit FD Call dS3</th>\n",
       "      <th>Implicit FD Call dS1</th>\n",
       "      <th>Implicit FD Call dS2</th>\n",
       "      <th>Implicit FD Call dS3</th>\n",
       "      <th>C-N FD Call dS1</th>\n",
       "      <th>C-N FD Call dS2</th>\n",
       "      <th>C-N FD Call dS3</th>\n",
       "    </tr>\n",
       "    <tr>\n",
       "      <th>Stock Price (S0)</th>\n",
       "      <th></th>\n",
       "      <th></th>\n",
       "      <th></th>\n",
       "      <th></th>\n",
       "      <th></th>\n",
       "      <th></th>\n",
       "      <th></th>\n",
       "      <th></th>\n",
       "      <th></th>\n",
       "    </tr>\n",
       "  </thead>\n",
       "  <tbody>\n",
       "    <tr>\n",
       "      <th>4</th>\n",
       "      <td>0.00000</td>\n",
       "      <td>0.00000</td>\n",
       "      <td>0.00004</td>\n",
       "      <td>0.00000</td>\n",
       "      <td>0.00000</td>\n",
       "      <td>0.00004</td>\n",
       "      <td>0.00000</td>\n",
       "      <td>0.00000</td>\n",
       "      <td>0.00004</td>\n",
       "    </tr>\n",
       "    <tr>\n",
       "      <th>5</th>\n",
       "      <td>0.00000</td>\n",
       "      <td>0.00003</td>\n",
       "      <td>0.00065</td>\n",
       "      <td>0.00000</td>\n",
       "      <td>0.00003</td>\n",
       "      <td>0.00066</td>\n",
       "      <td>0.00000</td>\n",
       "      <td>0.00003</td>\n",
       "      <td>0.00065</td>\n",
       "    </tr>\n",
       "    <tr>\n",
       "      <th>6</th>\n",
       "      <td>0.00017</td>\n",
       "      <td>0.00051</td>\n",
       "      <td>0.00183</td>\n",
       "      <td>0.00019</td>\n",
       "      <td>0.00053</td>\n",
       "      <td>0.00187</td>\n",
       "      <td>0.00018</td>\n",
       "      <td>0.00052</td>\n",
       "      <td>0.00185</td>\n",
       "    </tr>\n",
       "    <tr>\n",
       "      <th>7</th>\n",
       "      <td>0.00406</td>\n",
       "      <td>0.00589</td>\n",
       "      <td>0.02021</td>\n",
       "      <td>0.00421</td>\n",
       "      <td>0.00603</td>\n",
       "      <td>0.02034</td>\n",
       "      <td>0.00413</td>\n",
       "      <td>0.00596</td>\n",
       "      <td>0.02027</td>\n",
       "    </tr>\n",
       "    <tr>\n",
       "      <th>8</th>\n",
       "      <td>0.04206</td>\n",
       "      <td>0.04292</td>\n",
       "      <td>0.09832</td>\n",
       "      <td>0.04240</td>\n",
       "      <td>0.04323</td>\n",
       "      <td>0.09844</td>\n",
       "      <td>0.04223</td>\n",
       "      <td>0.04307</td>\n",
       "      <td>0.09838</td>\n",
       "    </tr>\n",
       "    <tr>\n",
       "      <th>9</th>\n",
       "      <td>0.21668</td>\n",
       "      <td>0.20104</td>\n",
       "      <td>0.23617</td>\n",
       "      <td>0.21658</td>\n",
       "      <td>0.20105</td>\n",
       "      <td>0.23616</td>\n",
       "      <td>0.21663</td>\n",
       "      <td>0.20105</td>\n",
       "      <td>0.23616</td>\n",
       "    </tr>\n",
       "    <tr>\n",
       "      <th>10</th>\n",
       "      <td>0.65404</td>\n",
       "      <td>0.62305</td>\n",
       "      <td>0.73152</td>\n",
       "      <td>0.65343</td>\n",
       "      <td>0.62228</td>\n",
       "      <td>0.73117</td>\n",
       "      <td>0.65374</td>\n",
       "      <td>0.62266</td>\n",
       "      <td>0.73134</td>\n",
       "    </tr>\n",
       "    <tr>\n",
       "      <th>11</th>\n",
       "      <td>1.36416</td>\n",
       "      <td>1.34811</td>\n",
       "      <td>1.40568</td>\n",
       "      <td>1.36383</td>\n",
       "      <td>1.34782</td>\n",
       "      <td>1.40528</td>\n",
       "      <td>1.36399</td>\n",
       "      <td>1.34796</td>\n",
       "      <td>1.40548</td>\n",
       "    </tr>\n",
       "    <tr>\n",
       "      <th>12</th>\n",
       "      <td>2.24880</td>\n",
       "      <td>2.24489</td>\n",
       "      <td>2.25866</td>\n",
       "      <td>2.24878</td>\n",
       "      <td>2.24475</td>\n",
       "      <td>2.25850</td>\n",
       "      <td>2.24879</td>\n",
       "      <td>2.24476</td>\n",
       "      <td>2.25858</td>\n",
       "    </tr>\n",
       "    <tr>\n",
       "      <th>13</th>\n",
       "      <td>3.21136</td>\n",
       "      <td>3.21110</td>\n",
       "      <td>3.22549</td>\n",
       "      <td>3.21108</td>\n",
       "      <td>3.21017</td>\n",
       "      <td>3.22469</td>\n",
       "      <td>3.21120</td>\n",
       "      <td>3.21038</td>\n",
       "      <td>3.22509</td>\n",
       "    </tr>\n",
       "    <tr>\n",
       "      <th>14</th>\n",
       "      <td>4.20027</td>\n",
       "      <td>4.19965</td>\n",
       "      <td>4.20422</td>\n",
       "      <td>4.19861</td>\n",
       "      <td>4.19599</td>\n",
       "      <td>4.20166</td>\n",
       "      <td>4.19929</td>\n",
       "      <td>4.19702</td>\n",
       "      <td>4.20294</td>\n",
       "    </tr>\n",
       "    <tr>\n",
       "      <th>15</th>\n",
       "      <td>5.19470</td>\n",
       "      <td>5.19179</td>\n",
       "      <td>5.19485</td>\n",
       "      <td>5.18927</td>\n",
       "      <td>5.18107</td>\n",
       "      <td>5.18942</td>\n",
       "      <td>5.19136</td>\n",
       "      <td>5.18452</td>\n",
       "      <td>5.19212</td>\n",
       "    </tr>\n",
       "    <tr>\n",
       "      <th>16</th>\n",
       "      <td>6.18520</td>\n",
       "      <td>6.17757</td>\n",
       "      <td>6.18158</td>\n",
       "      <td>6.17169</td>\n",
       "      <td>6.15194</td>\n",
       "      <td>6.16825</td>\n",
       "      <td>6.17650</td>\n",
       "      <td>6.16133</td>\n",
       "      <td>6.17488</td>\n",
       "    </tr>\n",
       "  </tbody>\n",
       "</table>\n",
       "</div>"
      ],
      "text/plain": [
       "                  Explicit FD Call dS1  Explicit FD Call dS2  \\\n",
       "Stock Price (S0)                                               \n",
       "4                              0.00000               0.00000   \n",
       "5                              0.00000               0.00003   \n",
       "6                              0.00017               0.00051   \n",
       "7                              0.00406               0.00589   \n",
       "8                              0.04206               0.04292   \n",
       "9                              0.21668               0.20104   \n",
       "10                             0.65404               0.62305   \n",
       "11                             1.36416               1.34811   \n",
       "12                             2.24880               2.24489   \n",
       "13                             3.21136               3.21110   \n",
       "14                             4.20027               4.19965   \n",
       "15                             5.19470               5.19179   \n",
       "16                             6.18520               6.17757   \n",
       "\n",
       "                  Explicit FD Call dS3  Implicit FD Call dS1  \\\n",
       "Stock Price (S0)                                               \n",
       "4                              0.00004               0.00000   \n",
       "5                              0.00065               0.00000   \n",
       "6                              0.00183               0.00019   \n",
       "7                              0.02021               0.00421   \n",
       "8                              0.09832               0.04240   \n",
       "9                              0.23617               0.21658   \n",
       "10                             0.73152               0.65343   \n",
       "11                             1.40568               1.36383   \n",
       "12                             2.25866               2.24878   \n",
       "13                             3.22549               3.21108   \n",
       "14                             4.20422               4.19861   \n",
       "15                             5.19485               5.18927   \n",
       "16                             6.18158               6.17169   \n",
       "\n",
       "                  Implicit FD Call dS2  Implicit FD Call dS3  C-N FD Call dS1  \\\n",
       "Stock Price (S0)                                                                \n",
       "4                              0.00000               0.00004          0.00000   \n",
       "5                              0.00003               0.00066          0.00000   \n",
       "6                              0.00053               0.00187          0.00018   \n",
       "7                              0.00603               0.02034          0.00413   \n",
       "8                              0.04323               0.09844          0.04223   \n",
       "9                              0.20105               0.23616          0.21663   \n",
       "10                             0.62228               0.73117          0.65374   \n",
       "11                             1.34782               1.40528          1.36399   \n",
       "12                             2.24475               2.25850          2.24879   \n",
       "13                             3.21017               3.22469          3.21120   \n",
       "14                             4.19599               4.20166          4.19929   \n",
       "15                             5.18107               5.18942          5.19136   \n",
       "16                             6.15194               6.16825          6.17650   \n",
       "\n",
       "                  C-N FD Call dS2  C-N FD Call dS3  \n",
       "Stock Price (S0)                                    \n",
       "4                         0.00000          0.00004  \n",
       "5                         0.00003          0.00065  \n",
       "6                         0.00052          0.00185  \n",
       "7                         0.00596          0.02027  \n",
       "8                         0.04307          0.09838  \n",
       "9                         0.20105          0.23616  \n",
       "10                        0.62266          0.73134  \n",
       "11                        1.34796          1.40548  \n",
       "12                        2.24476          2.25858  \n",
       "13                        3.21038          3.22509  \n",
       "14                        4.19702          4.20294  \n",
       "15                        5.18452          5.19212  \n",
       "16                        6.16133          6.17488  "
      ]
     },
     "execution_count": 35,
     "metadata": {},
     "output_type": "execute_result"
    }
   ],
   "source": [
    "summary2_call = pd.concat([explicit_American_call, implicit_American_call, CN_American_call], axis=1)\n",
    "summary2_call.index.name = 'Stock Price (S0)'\n",
    "summary2_call"
   ]
  },
  {
   "cell_type": "markdown",
   "metadata": {},
   "source": [
    "Generate Summary Table For American Put Options"
   ]
  },
  {
   "cell_type": "code",
   "execution_count": 36,
   "metadata": {},
   "outputs": [
    {
     "data": {
      "text/html": [
       "<div>\n",
       "<style scoped>\n",
       "    .dataframe tbody tr th:only-of-type {\n",
       "        vertical-align: middle;\n",
       "    }\n",
       "\n",
       "    .dataframe tbody tr th {\n",
       "        vertical-align: top;\n",
       "    }\n",
       "\n",
       "    .dataframe thead th {\n",
       "        text-align: right;\n",
       "    }\n",
       "</style>\n",
       "<table border=\"1\" class=\"dataframe\">\n",
       "  <thead>\n",
       "    <tr style=\"text-align: right;\">\n",
       "      <th></th>\n",
       "      <th>Explicit FD Put dS1</th>\n",
       "      <th>Explicit FD Put dS2</th>\n",
       "      <th>Explicit FD Put dS3</th>\n",
       "      <th>Implicit FD Put dS1</th>\n",
       "      <th>Implicit FD Put dS2</th>\n",
       "      <th>Implicit FD Put dS3</th>\n",
       "      <th>C-N FD Put dS1</th>\n",
       "      <th>C-N FD Put dS2</th>\n",
       "      <th>C-N FD Put dS3</th>\n",
       "    </tr>\n",
       "    <tr>\n",
       "      <th>Stock Price (S0)</th>\n",
       "      <th></th>\n",
       "      <th></th>\n",
       "      <th></th>\n",
       "      <th></th>\n",
       "      <th></th>\n",
       "      <th></th>\n",
       "      <th></th>\n",
       "      <th></th>\n",
       "      <th></th>\n",
       "    </tr>\n",
       "  </thead>\n",
       "  <tbody>\n",
       "    <tr>\n",
       "      <th>4</th>\n",
       "      <td>6.00000</td>\n",
       "      <td>6.00000</td>\n",
       "      <td>6.00000</td>\n",
       "      <td>6.00000</td>\n",
       "      <td>6.00000</td>\n",
       "      <td>6.00000</td>\n",
       "      <td>6.00000</td>\n",
       "      <td>6.00000</td>\n",
       "      <td>6.00000</td>\n",
       "    </tr>\n",
       "    <tr>\n",
       "      <th>5</th>\n",
       "      <td>5.00000</td>\n",
       "      <td>5.00000</td>\n",
       "      <td>5.00000</td>\n",
       "      <td>5.00000</td>\n",
       "      <td>5.00000</td>\n",
       "      <td>5.00000</td>\n",
       "      <td>5.00000</td>\n",
       "      <td>5.00000</td>\n",
       "      <td>5.00000</td>\n",
       "    </tr>\n",
       "    <tr>\n",
       "      <th>6</th>\n",
       "      <td>4.00000</td>\n",
       "      <td>4.00000</td>\n",
       "      <td>4.00000</td>\n",
       "      <td>4.00000</td>\n",
       "      <td>4.00000</td>\n",
       "      <td>4.00000</td>\n",
       "      <td>4.00000</td>\n",
       "      <td>4.00000</td>\n",
       "      <td>4.00000</td>\n",
       "    </tr>\n",
       "    <tr>\n",
       "      <th>7</th>\n",
       "      <td>3.00000</td>\n",
       "      <td>3.00000</td>\n",
       "      <td>3.00000</td>\n",
       "      <td>3.00000</td>\n",
       "      <td>3.00000</td>\n",
       "      <td>3.00000</td>\n",
       "      <td>3.00000</td>\n",
       "      <td>3.00000</td>\n",
       "      <td>3.00000</td>\n",
       "    </tr>\n",
       "    <tr>\n",
       "      <th>8</th>\n",
       "      <td>2.00000</td>\n",
       "      <td>2.00000</td>\n",
       "      <td>2.01982</td>\n",
       "      <td>2.00000</td>\n",
       "      <td>2.00000</td>\n",
       "      <td>2.01979</td>\n",
       "      <td>2.00000</td>\n",
       "      <td>2.00000</td>\n",
       "      <td>2.01981</td>\n",
       "    </tr>\n",
       "    <tr>\n",
       "      <th>9</th>\n",
       "      <td>1.07575</td>\n",
       "      <td>1.05163</td>\n",
       "      <td>1.05946</td>\n",
       "      <td>1.07521</td>\n",
       "      <td>1.05125</td>\n",
       "      <td>1.05938</td>\n",
       "      <td>1.07548</td>\n",
       "      <td>1.05144</td>\n",
       "      <td>1.05942</td>\n",
       "    </tr>\n",
       "    <tr>\n",
       "      <th>10</th>\n",
       "      <td>0.47333</td>\n",
       "      <td>0.43998</td>\n",
       "      <td>0.54231</td>\n",
       "      <td>0.47245</td>\n",
       "      <td>0.43908</td>\n",
       "      <td>0.54197</td>\n",
       "      <td>0.47289</td>\n",
       "      <td>0.43953</td>\n",
       "      <td>0.54214</td>\n",
       "    </tr>\n",
       "    <tr>\n",
       "      <th>11</th>\n",
       "      <td>0.17068</td>\n",
       "      <td>0.15445</td>\n",
       "      <td>0.20951</td>\n",
       "      <td>0.17027</td>\n",
       "      <td>0.15417</td>\n",
       "      <td>0.20921</td>\n",
       "      <td>0.17047</td>\n",
       "      <td>0.15431</td>\n",
       "      <td>0.20936</td>\n",
       "    </tr>\n",
       "    <tr>\n",
       "      <th>12</th>\n",
       "      <td>0.05187</td>\n",
       "      <td>0.04815</td>\n",
       "      <td>0.06105</td>\n",
       "      <td>0.05192</td>\n",
       "      <td>0.04825</td>\n",
       "      <td>0.06110</td>\n",
       "      <td>0.05189</td>\n",
       "      <td>0.04820</td>\n",
       "      <td>0.06107</td>\n",
       "    </tr>\n",
       "    <tr>\n",
       "      <th>13</th>\n",
       "      <td>0.01376</td>\n",
       "      <td>0.01388</td>\n",
       "      <td>0.02822</td>\n",
       "      <td>0.01391</td>\n",
       "      <td>0.01402</td>\n",
       "      <td>0.02830</td>\n",
       "      <td>0.01383</td>\n",
       "      <td>0.01395</td>\n",
       "      <td>0.02826</td>\n",
       "    </tr>\n",
       "    <tr>\n",
       "      <th>14</th>\n",
       "      <td>0.00329</td>\n",
       "      <td>0.00380</td>\n",
       "      <td>0.00859</td>\n",
       "      <td>0.00339</td>\n",
       "      <td>0.00389</td>\n",
       "      <td>0.00868</td>\n",
       "      <td>0.00334</td>\n",
       "      <td>0.00384</td>\n",
       "      <td>0.00863</td>\n",
       "    </tr>\n",
       "    <tr>\n",
       "      <th>15</th>\n",
       "      <td>0.00073</td>\n",
       "      <td>0.00100</td>\n",
       "      <td>0.00217</td>\n",
       "      <td>0.00077</td>\n",
       "      <td>0.00105</td>\n",
       "      <td>0.00222</td>\n",
       "      <td>0.00075</td>\n",
       "      <td>0.00103</td>\n",
       "      <td>0.00219</td>\n",
       "    </tr>\n",
       "    <tr>\n",
       "      <th>16</th>\n",
       "      <td>0.00015</td>\n",
       "      <td>0.00026</td>\n",
       "      <td>0.00098</td>\n",
       "      <td>0.00017</td>\n",
       "      <td>0.00028</td>\n",
       "      <td>0.00101</td>\n",
       "      <td>0.00016</td>\n",
       "      <td>0.00027</td>\n",
       "      <td>0.00100</td>\n",
       "    </tr>\n",
       "  </tbody>\n",
       "</table>\n",
       "</div>"
      ],
      "text/plain": [
       "                  Explicit FD Put dS1  Explicit FD Put dS2  \\\n",
       "Stock Price (S0)                                             \n",
       "4                             6.00000              6.00000   \n",
       "5                             5.00000              5.00000   \n",
       "6                             4.00000              4.00000   \n",
       "7                             3.00000              3.00000   \n",
       "8                             2.00000              2.00000   \n",
       "9                             1.07575              1.05163   \n",
       "10                            0.47333              0.43998   \n",
       "11                            0.17068              0.15445   \n",
       "12                            0.05187              0.04815   \n",
       "13                            0.01376              0.01388   \n",
       "14                            0.00329              0.00380   \n",
       "15                            0.00073              0.00100   \n",
       "16                            0.00015              0.00026   \n",
       "\n",
       "                  Explicit FD Put dS3  Implicit FD Put dS1  \\\n",
       "Stock Price (S0)                                             \n",
       "4                             6.00000              6.00000   \n",
       "5                             5.00000              5.00000   \n",
       "6                             4.00000              4.00000   \n",
       "7                             3.00000              3.00000   \n",
       "8                             2.01982              2.00000   \n",
       "9                             1.05946              1.07521   \n",
       "10                            0.54231              0.47245   \n",
       "11                            0.20951              0.17027   \n",
       "12                            0.06105              0.05192   \n",
       "13                            0.02822              0.01391   \n",
       "14                            0.00859              0.00339   \n",
       "15                            0.00217              0.00077   \n",
       "16                            0.00098              0.00017   \n",
       "\n",
       "                  Implicit FD Put dS2  Implicit FD Put dS3  C-N FD Put dS1  \\\n",
       "Stock Price (S0)                                                             \n",
       "4                             6.00000              6.00000         6.00000   \n",
       "5                             5.00000              5.00000         5.00000   \n",
       "6                             4.00000              4.00000         4.00000   \n",
       "7                             3.00000              3.00000         3.00000   \n",
       "8                             2.00000              2.01979         2.00000   \n",
       "9                             1.05125              1.05938         1.07548   \n",
       "10                            0.43908              0.54197         0.47289   \n",
       "11                            0.15417              0.20921         0.17047   \n",
       "12                            0.04825              0.06110         0.05189   \n",
       "13                            0.01402              0.02830         0.01383   \n",
       "14                            0.00389              0.00868         0.00334   \n",
       "15                            0.00105              0.00222         0.00075   \n",
       "16                            0.00028              0.00101         0.00016   \n",
       "\n",
       "                  C-N FD Put dS2  C-N FD Put dS3  \n",
       "Stock Price (S0)                                  \n",
       "4                        6.00000         6.00000  \n",
       "5                        5.00000         5.00000  \n",
       "6                        4.00000         4.00000  \n",
       "7                        3.00000         3.00000  \n",
       "8                        2.00000         2.01981  \n",
       "9                        1.05144         1.05942  \n",
       "10                       0.43953         0.54214  \n",
       "11                       0.15431         0.20936  \n",
       "12                       0.04820         0.06107  \n",
       "13                       0.01395         0.02826  \n",
       "14                       0.00384         0.00863  \n",
       "15                       0.00103         0.00219  \n",
       "16                       0.00027         0.00100  "
      ]
     },
     "execution_count": 36,
     "metadata": {},
     "output_type": "execute_result"
    }
   ],
   "source": [
    "summary2_put = pd.concat([explicit_American_put, implicit_American_put, CN_American_put], axis=1)\n",
    "summary2_put.index.name = 'Stock Price (S0)'\n",
    "summary2_put"
   ]
  },
  {
   "cell_type": "markdown",
   "metadata": {},
   "source": [
    "**Visualize the solution of the finite difference method with varying initial stock price**"
   ]
  },
  {
   "cell_type": "markdown",
   "metadata": {},
   "source": [
    "**American Call**"
   ]
  },
  {
   "cell_type": "code",
   "execution_count": 37,
   "metadata": {
    "collapsed": true
   },
   "outputs": [],
   "source": [
    "alpha = 1\n",
    "EFD_American_call = [GeneralizedFinteDifferenceCall(dt, sd, r, dS, S0, T, alpha)[1] for dS in [dS1, dS2, dS3]]\n",
    "stockgrid = [generate_stock_gird(dS) for dS in [dS1, dS2, dS3]]"
   ]
  },
  {
   "cell_type": "code",
   "execution_count": 38,
   "metadata": {
    "collapsed": true
   },
   "outputs": [],
   "source": [
    "alpha = 0\n",
    "IFD_American_call = [GeneralizedFinteDifferenceCall(dt, sd, r, dS, S0, T, alpha)[1] for dS in [dS1, dS2, dS3]]\n",
    "stockgrid = [generate_stock_gird(dS) for dS in [dS1, dS2, dS3]]"
   ]
  },
  {
   "cell_type": "code",
   "execution_count": 39,
   "metadata": {
    "collapsed": true
   },
   "outputs": [],
   "source": [
    "alpha = 0.5\n",
    "CNFD_American_call = [GeneralizedFinteDifferenceCall(dt, sd, r, dS, S0, T, alpha)[1] for dS in [dS1, dS2, dS3]]\n",
    "stockgrid = [generate_stock_gird(dS) for dS in [dS1, dS2, dS3]]"
   ]
  },
  {
   "cell_type": "markdown",
   "metadata": {},
   "source": [
    "dS = 0.5"
   ]
  },
  {
   "cell_type": "code",
   "execution_count": 40,
   "metadata": {},
   "outputs": [
    {
     "data": {
      "image/png": "[encoded data removed]",
      "text/plain": [
       "<matplotlib.figure.Figure at 0x190e46544e0>"
      ]
     },
     "metadata": {},
     "output_type": "display_data"
    }
   ],
   "source": [
    "plt.figure(figsize=(10, 7))\n",
    "\n",
    "plt.plot(stockgrid[0], EFD_American_call[0],  linestyle='-.', label = 'Explicit Finite Difference', \n",
    "         marker='s', markersize= 6)\n",
    "plt.plot(stockgrid[0], IFD_American_call[0],  linestyle=':', linewidth=3, label =  'Implicit Finite Difference', \n",
    "         marker='v', markersize= 6)\n",
    "plt.plot(stockgrid[0], CNFD_American_call[0],  linestyle='--', label = 'Crank-Nicolson Finite Difference', \n",
    "         marker='o', markersize= 3)\n",
    "\n",
    "plt.legend()\n",
    "plt.xlabel('S0 $')\n",
    "plt.ylabel('American Option Value ($)')\n",
    "plt.title('American Call Option Esitmated by 3 Finite Difference Methods with dS = 0.5')\n",
    "plt.show()"
   ]
  },
  {
   "cell_type": "markdown",
   "metadata": {},
   "source": [
    "dS = 1"
   ]
  },
  {
   "cell_type": "code",
   "execution_count": 41,
   "metadata": {},
   "outputs": [
    {
     "data": {
      "image/png": "[encoded data removed]",
      "text/plain": [
       "<matplotlib.figure.Figure at 0x190e65f6fd0>"
      ]
     },
     "metadata": {},
     "output_type": "display_data"
    }
   ],
   "source": [
    "plt.figure(figsize=(10, 7))\n",
    "\n",
    "plt.plot(stockgrid[1], EFD_American_call[1],  linestyle='-.', label = 'Explicit Finite Difference', \n",
    "         marker='s', markersize= 6)\n",
    "plt.plot(stockgrid[1], IFD_American_call[1],  linestyle=':', linewidth=3, label =  'Implicit Finite Difference', \n",
    "         marker='v', markersize= 6)\n",
    "plt.plot(stockgrid[1], CNFD_American_call[1],  linestyle='--', label = 'Crank-Nicolson Finite Difference', \n",
    "         marker='o', markersize= 3)\n",
    "\n",
    "plt.legend()\n",
    "plt.xlabel('S0 $')\n",
    "plt.ylabel('American Option Value ($)')\n",
    "plt.title('American Call Option Esitmated by 3 Finite Difference Methods with dS = 1')\n",
    "plt.show()"
   ]
  },
  {
   "cell_type": "markdown",
   "metadata": {},
   "source": [
    "dS = 1.5"
   ]
  },
  {
   "cell_type": "code",
   "execution_count": 42,
   "metadata": {
    "scrolled": false
   },
   "outputs": [
    {
     "data": {
      "image/png": "[encoded data removed]",
      "text/plain": [
       "<matplotlib.figure.Figure at 0x190e660eba8>"
      ]
     },
     "metadata": {},
     "output_type": "display_data"
    }
   ],
   "source": [
    "plt.figure(figsize=(10, 7))\n",
    "\n",
    "plt.plot(stockgrid[2], EFD_American_call[2],  linestyle='-.', label = 'Explicit Finite Difference', \n",
    "         marker='s', markersize= 6)\n",
    "plt.plot(stockgrid[2], IFD_American_call[2],  linewidth = 3, linestyle=':', label =  'Implicit Finite Difference', \n",
    "         marker='v', markersize= 7)\n",
    "plt.plot(stockgrid[2], CNFD_American_call[2],  linestyle='--', label = 'Crank-Nicolson Finite Difference', \n",
    "         marker='o', markersize= 3)\n",
    "\n",
    "plt.legend()\n",
    "plt.xlabel('S0 $')\n",
    "plt.ylabel('American Option Value ($)')\n",
    "plt.title('American Call Option Esitmated by 3 Finite Difference Methods with dS = 1.5')\n",
    "plt.show()"
   ]
  },
  {
   "cell_type": "markdown",
   "metadata": {},
   "source": [
    "Crank-Nicolson Finite Difference"
   ]
  },
  {
   "cell_type": "markdown",
   "metadata": {},
   "source": [
    "**American Put**"
   ]
  },
  {
   "cell_type": "code",
   "execution_count": 43,
   "metadata": {
    "collapsed": true
   },
   "outputs": [],
   "source": [
    "alpha = 1\n",
    "EFD_American_put = [GeneralizedFinteDifferencePut(dt, sd, r, dS, S0, T, alpha)[1] for dS in [dS1, dS2, dS3]]\n",
    "stockgrid = [generate_stock_gird(dS) for dS in [dS1, dS2, dS3]]"
   ]
  },
  {
   "cell_type": "code",
   "execution_count": 44,
   "metadata": {
    "collapsed": true
   },
   "outputs": [],
   "source": [
    "alpha = 0\n",
    "IFD_American_put = [GeneralizedFinteDifferencePut(dt, sd, r, dS, S0, T, alpha)[1] for dS in [dS1, dS2, dS3]]\n",
    "stockgrid = [generate_stock_gird(dS) for dS in [dS1, dS2, dS3]]"
   ]
  },
  {
   "cell_type": "code",
   "execution_count": 45,
   "metadata": {
    "collapsed": true
   },
   "outputs": [],
   "source": [
    "alpha = 0.5\n",
    "CNFD_American_put = [GeneralizedFinteDifferencePut(dt, sd, r, dS, S0, T, alpha)[1] for dS in [dS1, dS2, dS3]]\n",
    "stockgrid = [generate_stock_gird(dS) for dS in [dS1, dS2, dS3]]"
   ]
  },
  {
   "cell_type": "code",
   "execution_count": 46,
   "metadata": {},
   "outputs": [
    {
     "data": {
      "image/png": "[encoded data removed]",
      "text/plain": [
       "<matplotlib.figure.Figure at 0x190e660e518>"
      ]
     },
     "metadata": {},
     "output_type": "display_data"
    }
   ],
   "source": [
    "plt.figure(figsize=(10, 7))\n",
    "\n",
    "plt.plot(stockgrid[0], EFD_American_put[0],  linestyle='-.', label = 'Explicit Finite Difference', \n",
    "         marker='s', markersize= 6)\n",
    "plt.plot(stockgrid[0], IFD_American_put[0],  linestyle=':', linewidth=3, label =  'Implicit Finite Difference', \n",
    "         marker='v', markersize= 6)\n",
    "plt.plot(stockgrid[0], CNFD_American_put[0],  linestyle='--', label = 'Crank-Nicolson Finite Difference', \n",
    "         marker='o', markersize= 3)\n",
    "\n",
    "plt.legend()\n",
    "plt.xlabel('S0 $')\n",
    "plt.ylabel('American Option Value ($)')\n",
    "plt.title('American Put Option Esitmated by 3 Finite Difference Methods with dS = 0.5')\n",
    "plt.show()"
   ]
  },
  {
   "cell_type": "code",
   "execution_count": 47,
   "metadata": {},
   "outputs": [
    {
     "data": {
      "image/png": "[encoded data removed]",
      "text/plain": [
       "<matplotlib.figure.Figure at 0x190e6d71d68>"
      ]
     },
     "metadata": {},
     "output_type": "display_data"
    }
   ],
   "source": [
    "plt.figure(figsize=(10, 7))\n",
    "\n",
    "plt.plot(stockgrid[1], EFD_American_put[1],  linestyle='-.', label = 'Explicit Finite Difference', \n",
    "         marker='s', markersize= 6)\n",
    "plt.plot(stockgrid[1], IFD_American_put[1],  linestyle=':', linewidth=3, label =  'Implicit Finite Difference', \n",
    "         marker='v', markersize= 6)\n",
    "plt.plot(stockgrid[1], CNFD_American_put[1],  linestyle='--', label = 'Crank-Nicolson Finite Difference', \n",
    "         marker='o', markersize= 3)\n",
    "\n",
    "plt.legend()\n",
    "plt.xlabel('S0 $')\n",
    "plt.ylabel('American Option Value ($)')\n",
    "plt.title('American Put Option Esitmated by Three Finite Difference Methods with dS = 1')\n",
    "plt.show()"
   ]
  },
  {
   "cell_type": "code",
   "execution_count": 48,
   "metadata": {},
   "outputs": [
    {
     "data": {
      "image/png": "[encoded data removed]",
      "text/plain": [
       "<matplotlib.figure.Figure at 0x190e6c48b00>"
      ]
     },
     "metadata": {},
     "output_type": "display_data"
    }
   ],
   "source": [
    "plt.figure(figsize=(10, 7))\n",
    "\n",
    "plt.plot(stockgrid[2], EFD_American_put[2],  linestyle='-.', label = 'Explicit Finite Difference', \n",
    "         marker='s', markersize= 6)\n",
    "plt.plot(stockgrid[2], IFD_American_put[2],  linestyle=':', linewidth=3, label =  'Implicit Finite Difference', \n",
    "         marker='v', markersize= 6)\n",
    "plt.plot(stockgrid[2], CNFD_American_put[2],  linestyle='--', label = 'Crank-Nicolson Finite Difference', \n",
    "         marker='o', markersize= 3)\n",
    "\n",
    "plt.legend()\n",
    "plt.xlabel('S0 $')\n",
    "plt.ylabel('American Option Value ($)')\n",
    "plt.title('American Put Option Esitmated by Three Finite Difference Methods with dS = 1.5')\n",
    "plt.show()"
   ]
  },
  {
   "cell_type": "markdown",
   "metadata": {},
   "source": [
    "The accuracy tend to decrease a lot when dS = 1.5 is chosen to be the parameter"
   ]
  }
 ],
 "metadata": {
  "kernelspec": {
   "display_name": "Python 3 (ipykernel)",
   "language": "python",
   "name": "python3"
  },
  "language_info": {
   "codemirror_mode": {
    "name": "ipython",
    "version": 3
   },
   "file_extension": ".py",
   "mimetype": "text/x-python",
   "name": "python",
   "nbconvert_exporter": "python",
   "pygments_lexer": "ipython3",
   "version": "3.9.12"
  }
 },
 "nbformat": 4,
 "nbformat_minor": 2
}
