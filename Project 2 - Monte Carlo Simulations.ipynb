{
 "cells": [
  {
   "cell_type": "markdown",
   "metadata": {},
   "source": [
    "# Monte Carlo Simulations\n",
    "\n",
    "**Name:** Bowen Chen\n",
    "\n",
    "**Section:** 1\n",
    "\n",
    "**Date:** Jan 23, 2018 "
   ]
  },
  {
   "cell_type": "code",
   "execution_count": 1,
   "metadata": {
    "collapsed": true
   },
   "outputs": [],
   "source": [
    "# python set up\n",
    "import matplotlib.pyplot as plt\n",
    "import math as m\n",
    "from scipy.stats import norm \n",
    "import numpy as np"
   ]
  },
  {
   "cell_type": "markdown",
   "metadata": {},
   "source": [
    "###  Question 1\n",
    "\n",
    "Generate a series ($X_i$, $Y_i$) for i = 1,...,n of Bivariate-Normally distributed random vectors, with the\n",
    "mean vector of (0,0) and the variance – covariance matrix of $\\begin{pmatrix} \n",
    "1 & a \\\\\n",
    "a & 1 \n",
    "\\end{pmatrix}$. Compute the following by simulation: \n",
    "\n",
    "$$\\rho = \\frac{\\frac{1}{n-1}\\sum^{n}_{i=1}(X_i - \\bar{X})(Y_i - \\bar{Y})}{\\sqrt{\\frac{1}{n-1} \\sum{(X_i - \\bar{X})^2}}\\sqrt{\\frac{1}{n-1} \\sum{(Y_i - \\bar{Y})^2}}}$$\n",
    "\n",
    "Take n = 1000 and a = −0.7"
   ]
  },
  {
   "cell_type": "markdown",
   "metadata": {},
   "source": [
    "**Solution**:\n",
    "\n",
    "To simulate bivariate normal distributions, we first need to simulate 2 independent random normals. To accomplish that, we will start will simulating independent uniform random numbers."
   ]
  },
  {
   "cell_type": "markdown",
   "metadata": {},
   "source": [
    "Use Box-Muller Algorithm, the two independent random normals could be obtained"
   ]
  },
  {
   "cell_type": "markdown",
   "metadata": {},
   "source": [
    "Obtain two sequences of 1000 random draws from U[0, 1] by dividing the sequence  $X_n$  by m, name the sequence U"
   ]
  },
  {
   "cell_type": "markdown",
   "metadata": {},
   "source": [
    "Divide both whole sequences by $2^{31}$ - 1, scale the sequence to U [0, 1], store the generated uniform random numbers in U1 and U2"
   ]
  },
  {
   "cell_type": "markdown",
   "metadata": {},
   "source": [
    "Assume {$U_i^2$} ~ i.i.d $U[0, 1]$, define \n",
    "\n",
    "\n",
    "\\begin{equation*}\n",
    "       \\begin{cases}\n",
    "            Z_1 = \\sqrt{-2 ln(U_1)} cos(2\\pi U_2)\\\\\n",
    "            Z_2 = \\sqrt{-2 ln(U_1)} sin(2\\pi U_2)\\\\\n",
    "         \\end{cases}\n",
    "\\end{equation*}\n",
    "\n",
    "$Z_1$ and $Z_2$ will be two independent standard normal N [0 , 1] distributions \n"
   ]
  },
  {
   "cell_type": "code",
   "execution_count": 2,
   "metadata": {
    "collapsed": true
   },
   "outputs": [],
   "source": [
    "def generate_random_sequence(seed, n):\n",
    "    \"\"\"\n",
    "        Generate the random sequence Xi whose range is 0 to (2^31 - 1)\n",
    "    \"\"\"\n",
    "    rand_sequence = [seed]\n",
    "    for i in range(1, n + 1):\n",
    "        rand_sequence.append(7**5 * rand_sequence[i-1] % (2**31 - 1))\n",
    "        \n",
    "    return rand_sequence[1:]"
   ]
  },
  {
   "cell_type": "code",
   "execution_count": 3,
   "metadata": {
    "collapsed": true
   },
   "outputs": [],
   "source": [
    "def generate_normal(seed, n):\n",
    "    \"\"\"\n",
    "        Generate a sequence of N(0, 1) pairs\n",
    "    \"\"\"\n",
    "    rand = generate_random_sequence(seed, n * 2)\n",
    "    \n",
    "    # construct uniform random samples from the random sequence above\n",
    "    U1 = list(map(lambda x1: (x1 + 0.5) / (2**31 - 1), rand[:n]))\n",
    "    U2 = list(map(lambda x2: (x2 + 0.5) / (2**31 - 1), rand[n:]))\n",
    "\n",
    "    # define X, Y with the uniform random numbers U1 and U2\n",
    "    Z1 = list(map(lambda u1, u2: m.sqrt(-2*m.log(u1)) * m.cos(2*m.pi*u2), U1, U2))\n",
    "    Z2 = list(map(lambda u1, u2: m.sqrt(-2*m.log(u1)) * m.sin(2*m.pi*u2), U1, U2))\n",
    "    \n",
    "    return Z1,Z2"
   ]
  },
  {
   "cell_type": "code",
   "execution_count": 4,
   "metadata": {
    "collapsed": true
   },
   "outputs": [],
   "source": [
    "# define Z1, Z2 with the uniform random numbers U1 and U2\n",
    "Z1, Z2 = generate_normal(7, 10000)"
   ]
  },
  {
   "cell_type": "markdown",
   "metadata": {},
   "source": [
    "Given the covariance between $Z_1$ and $Z_2$ as -0.7, variance along each axis is 1, we could know that the correlation between $Z_1$ and $Z_2$ is also -0.7. \n",
    "\n",
    "$\\begin{pmatrix} \n",
    "x  \\\\\n",
    "y \n",
    "\\end{pmatrix}$ = $\\begin{pmatrix} \n",
    "\\mu_1 + \\sigma_1 Z_1 \\\\\n",
    "\\mu_2+  + \\rho\\sigma_2 Z_1 + \\sqrt{1 - \\rho^2}\\sigma_2 Z_2 \n",
    "\\end{pmatrix}$ \n",
    "\n",
    "where $\\mu_1$ = $\\mu_2$ = 0, $\\sigma_1$ = $\\sigma_2$ = 1, $\\rho$ = -0.7"
   ]
  },
  {
   "cell_type": "code",
   "execution_count": 5,
   "metadata": {
    "collapsed": true
   },
   "outputs": [],
   "source": [
    "# Define parameters\n",
    "mu1 = mu2 = 0\n",
    "sigma1 = sigma2 = 1\n",
    "corr = - 0.7"
   ]
  },
  {
   "cell_type": "code",
   "execution_count": 6,
   "metadata": {
    "collapsed": true
   },
   "outputs": [],
   "source": [
    "# Generate x and y sequence by mapping the corresponding function onto Z1, Z2 (only choose 1000)\n",
    "x = list(map(lambda z1: mu1 + z1 * sigma1, Z1[:1000]))\n",
    "y = list(map(lambda z1, z2: mu2 + corr * sigma2 * z1 + \n",
    "             m.sqrt(1 - corr**2) * sigma2 * z2, Z1[:1000], Z2[:1000]))"
   ]
  },
  {
   "cell_type": "markdown",
   "metadata": {
    "collapsed": true
   },
   "source": [
    "With the multi-variate normal generated, we could find the correlation $\\rho = \\frac{\\frac{1}{n-1}\\sum^{n}_{i=1}(X_i - \\bar{X})(Y_i - \\bar{Y})}{\\sqrt{\\frac{1}{n-1} \\sum{(X_i - \\bar{X})^2}}\\sqrt{\\frac{1}{n-1} \\sum{(Y_i - \\bar{Y})^2}}}$ by the following"
   ]
  },
  {
   "cell_type": "markdown",
   "metadata": {},
   "source": [
    "Find the mean for both X and Y"
   ]
  },
  {
   "cell_type": "code",
   "execution_count": 7,
   "metadata": {
    "collapsed": true
   },
   "outputs": [],
   "source": [
    "mean_x = sum(x)/len(x)\n",
    "mean_y = sum(y)/len(y)"
   ]
  },
  {
   "cell_type": "markdown",
   "metadata": {},
   "source": [
    "Calculate the emprical correlation from the data"
   ]
  },
  {
   "cell_type": "code",
   "execution_count": 8,
   "metadata": {
    "collapsed": true
   },
   "outputs": [],
   "source": [
    "# find the numerator of the correlation\n",
    "cov = sum(map(lambda x, y: (x - mean_x)*(y - mean_y), x, y))/(len(x) - 1)"
   ]
  },
  {
   "cell_type": "code",
   "execution_count": 9,
   "metadata": {
    "collapsed": true
   },
   "outputs": [],
   "source": [
    "# find the denominator of correlation\n",
    "sd_x = m.sqrt(sum(map(lambda x: (x - mean_x)**2, x))/len(x))\n",
    "sd_y = m.sqrt(sum(map(lambda y: (y - mean_y)**2, y))/len(y))"
   ]
  },
  {
   "cell_type": "markdown",
   "metadata": {},
   "source": [
    "The default correlation is -0.7, the emprical correlation should be very close to -0.7, which it is (-0.694)"
   ]
  },
  {
   "cell_type": "code",
   "execution_count": 10,
   "metadata": {},
   "outputs": [
    {
     "name": "stdout",
     "output_type": "stream",
     "text": [
      "The emprical correlation between X and Y from the simulated bivariate normal:  -0.693989\n"
     ]
    }
   ],
   "source": [
    "corr = cov/(sd_x*sd_y)\n",
    "print ('The emprical correlation between X and Y from the simulated bivariate normal: ', round(corr, 6))"
   ]
  },
  {
   "cell_type": "markdown",
   "metadata": {},
   "source": [
    "###  Question 2\n",
    "\n",
    "Evaluate the following expected values by using Monte Carlo simulation:\n",
    "\n",
    "$$Ε [max(0, X^3 + sin(Y) + X^2Y)]$$\n",
    "\n",
    "where X and Y have N(0,1) distribution and a correlation of $\\rho$ = 0.6\n"
   ]
  },
  {
   "cell_type": "markdown",
   "metadata": {},
   "source": [
    "** Solution **:\n",
    "\n",
    "Start with simulating 10,000 samples from $Z_1$ and $Z_2$ independent random normals N(0, 1), following the same steps as Question 1"
   ]
  },
  {
   "cell_type": "markdown",
   "metadata": {},
   "source": [
    "Generate X, Y with correlation of 0.6"
   ]
  },
  {
   "cell_type": "code",
   "execution_count": 11,
   "metadata": {
    "collapsed": true
   },
   "outputs": [],
   "source": [
    "# Define parameters\n",
    "mu1 = mu2 = 0\n",
    "sigma1 = sigma2 = 1\n",
    "corr = 0.6"
   ]
  },
  {
   "cell_type": "code",
   "execution_count": 12,
   "metadata": {
    "collapsed": true
   },
   "outputs": [],
   "source": [
    "X = list(map(lambda z1: mu1 + z1 * sigma1, Z1))\n",
    "Y = list(map(lambda z1, z2: mu2 + corr * sigma2 * z1 \n",
    "             + m.sqrt(1 - corr**2) * sigma2 * z2, Z1, Z2))"
   ]
  },
  {
   "cell_type": "markdown",
   "metadata": {},
   "source": [
    "Define function h(X, Y), where $ h(X, Y) = max(0, X^3 + sin(Y) + X^2Y)$, evaluate each h(x,y) with the simulated 10,000 samples of $(x_i,y_i)$"
   ]
  },
  {
   "cell_type": "code",
   "execution_count": 13,
   "metadata": {
    "collapsed": true
   },
   "outputs": [],
   "source": [
    "# define function h(X, Y), map that function to X and Y\n",
    "h = list(map(lambda x, y: x**3 + m.sin(y) + x**2*y \n",
    "             if  x**3 + m.sin(y) + x**2*y > 0\n",
    "             else 0, \n",
    "             X, Y))"
   ]
  },
  {
   "cell_type": "markdown",
   "metadata": {},
   "source": [
    "Find the emprical expectation of the 10,000 simulated value for $ h(X, Y) = max(0, X^3 + sin(Y) + X^2Y)$, which gives the value of the expectation $Ε [max(0,  X^3 + sin(Y) + X^2Y)]$"
   ]
  },
  {
   "cell_type": "code",
   "execution_count": 14,
   "metadata": {},
   "outputs": [
    {
     "name": "stdout",
     "output_type": "stream",
     "text": [
      "The estimated value the expecation is:  1.5406\n"
     ]
    }
   ],
   "source": [
    "E = sum(h)/len(h)\n",
    "print('The estimated value the expecation is: ', round(E, 5))"
   ]
  },
  {
   "cell_type": "markdown",
   "metadata": {},
   "source": [
    "### Question 3\n",
    "\n",
    "(a) Estimate the following expected values by simulation: \n",
    "* $E_1 = E\\bigg(W_5^2 + sin(W_5)\\bigg)$  \n",
    "\n",
    "* $E_2 = E \\bigg(e^{\\frac{1}{2} t} cos(W_t)\\bigg)$, for *t* = 0.5, 3.2, 6.5 \n",
    "\n",
    "$W_t$ is a Standard Wiener Process. "
   ]
  },
  {
   "cell_type": "markdown",
   "metadata": {},
   "source": [
    "** Solution:**\n",
    "\n",
    "$E_1 = E\\bigg(W_5^2 + sin(W_5)\\bigg)$\n",
    "\n",
    "Since standard Wiener Process $W_t$ follows normal distribution, $N(0, \\sqrt{t})$, $W_5$ will have distribution $N(0, \\sqrt{5})$\n",
    "\n",
    "$N(0, \\sqrt{5})$ = $\\sqrt{5} \\cdot N(0, 1)$, where $N(0, 1)$ simulated from the box-muller method described in Question 1. For the purpose of this calculation, the sequence $Z_1$ is reused "
   ]
  },
  {
   "cell_type": "code",
   "execution_count": 15,
   "metadata": {
    "collapsed": true
   },
   "outputs": [],
   "source": [
    "W5 = list(map(lambda z: z* m.sqrt(5), Z1[:5000]))"
   ]
  },
  {
   "cell_type": "markdown",
   "metadata": {},
   "source": [
    "Define a function $f(W_5) = W_5^2 + sin(W_5)$ and evaluate *f* by mapping on $W_5$"
   ]
  },
  {
   "cell_type": "code",
   "execution_count": 16,
   "metadata": {
    "collapsed": true
   },
   "outputs": [],
   "source": [
    "f_W5 = list(map(lambda w: w**2 + m.sin(w), W5))"
   ]
  },
  {
   "cell_type": "markdown",
   "metadata": {},
   "source": [
    "Find the emprical mean of $f(W_5)$, which gives $ E(W_5^2 + sin(W_5))$  "
   ]
  },
  {
   "cell_type": "code",
   "execution_count": 17,
   "metadata": {
    "collapsed": true
   },
   "outputs": [],
   "source": [
    "E1 = sum(f_W5)/len(f_W5)"
   ]
  },
  {
   "cell_type": "markdown",
   "metadata": {},
   "source": [
    "Find the emprical standard deviation of $f(W_5)$"
   ]
  },
  {
   "cell_type": "code",
   "execution_count": 18,
   "metadata": {
    "collapsed": true
   },
   "outputs": [],
   "source": [
    "sd1 = m.sqrt(sum(map(lambda x: (x - E1)**2 , f_W5))/len(f_W5))"
   ]
  },
  {
   "cell_type": "markdown",
   "metadata": {},
   "source": [
    "* $E \\bigg(e^{\\frac{1}{2} t} cos(W_t)\\bigg)$ , for t = 0.5, 3.2, 6.5 \n",
    "\n",
    "By the same techniques used to find $E_1$, $W_{0.5}$, $W_{3.2}$ and $W_{6.5}$ could be found by multiplying 0.5, 3.2 and 6.5 to $Z_1$"
   ]
  },
  {
   "cell_type": "code",
   "execution_count": 19,
   "metadata": {
    "collapsed": true
   },
   "outputs": [],
   "source": [
    "Wt1 = list(map(lambda z: z* m.sqrt(0.5), Z1[:5000]))\n",
    "Wt2 = list(map(lambda z: z* m.sqrt(3.2), Z1[:5000]))\n",
    "Wt3 = list(map(lambda z: z* m.sqrt(6.5), Z1[:5000]))"
   ]
  },
  {
   "cell_type": "markdown",
   "metadata": {},
   "source": [
    "Define a function $f(t, W_t) = e^\\frac{t}{2}cos(W_t)$ and evaluate *f* by mapping on $W_t$ where *t* = 0.5, 3.2, 6.5 "
   ]
  },
  {
   "cell_type": "code",
   "execution_count": 20,
   "metadata": {
    "collapsed": true
   },
   "outputs": [],
   "source": [
    "f_Wt1 = list(map(lambda w: m.exp(0.5/2) * m.cos(w), Wt1))\n",
    "f_Wt2 = list(map(lambda w: m.exp(3.2/2) * m.cos(w), Wt2))\n",
    "f_Wt3 = list(map(lambda w: m.exp(6.5/2) * m.cos(w), Wt3))"
   ]
  },
  {
   "cell_type": "markdown",
   "metadata": {},
   "source": [
    "Find the emprical mean of $f(W_t)$, which gives $E (e^\\frac{t}{2}cos(W_t))$"
   ]
  },
  {
   "cell_type": "code",
   "execution_count": 21,
   "metadata": {
    "collapsed": true
   },
   "outputs": [],
   "source": [
    "E2_t1 = sum(f_Wt1)/len(f_Wt1)\n",
    "E2_t2 = sum(f_Wt2)/len(f_Wt2)\n",
    "E2_t3 = sum(f_Wt3)/len(f_Wt3)"
   ]
  },
  {
   "cell_type": "markdown",
   "metadata": {},
   "source": [
    "Find the empirical standard deviation of $f(W_t)$"
   ]
  },
  {
   "cell_type": "code",
   "execution_count": 22,
   "metadata": {
    "collapsed": true
   },
   "outputs": [],
   "source": [
    "sd_t1 = m.sqrt(sum(map(lambda x: (x - E2_t1)**2 , f_Wt1))/len(f_Wt1))\n",
    "sd_t2 = m.sqrt(sum(map(lambda x: (x - E2_t2)**2 , f_Wt2))/len(f_Wt2))\n",
    "sd_t3 = m.sqrt(sum(map(lambda x: (x - E2_t3)**2 , f_Wt3))/len(f_Wt3))"
   ]
  },
  {
   "cell_type": "markdown",
   "metadata": {},
   "source": [
    "(b) How are the values of the last three integrals (for the cases t = 0.5, 3.2, 6.5) related?"
   ]
  },
  {
   "cell_type": "markdown",
   "metadata": {},
   "source": [
    "**Solution:**\n",
    "\n",
    "For the expectation value $E_2 = E \\bigg(e^{\\frac{1}{2} t} cos(W_t)\\bigg)$, define a function $f(t, W_t) = e^\\frac{t}{2}cos(W_t)$, using Ito's Lemma,\n",
    "\n",
    "$$ \\begin{align}\n",
    "df(t,W_t) &= \\frac{\\partial f}{\\partial t}dt + \\frac{\\partial f}{\\partial W_t}dW_t + \n",
    "\\frac{1}{2}\\frac{\\partial ^2 f}{\\partial W_t ^2} (dW_t)^2\\\\ \n",
    "          \\\\\n",
    "          &= \\frac{1}{2}e^\\frac{t}{2}\\ cos(W_t)\\ dt - e^\\frac{t}{2}\\ sin(W_t)\\ dW_t - \n",
    "          \\frac{1}{2}e^\\frac{t}{2}\\ cos(W_t)\\ dt\\\\\n",
    "          \\\\\n",
    "          &= - e^\\frac{t}{2}\\ sin(W_t)\\ dW_t\n",
    "\\end{align} $$\n",
    "\n",
    "Solving the integral, \n",
    "\n",
    "$$ \\begin{align}\n",
    "f(t,W_t) - f(0,W_0) &= \\int^{t}_{0}- e^\\frac{s}{2}\\ sin(W_s)\\ dW_s \\\\\n",
    "                        \\\\\n",
    "e^\\frac{t}{2}cos(W_t)- 1 &= \\int^{t}_{0}- e^\\frac{s}{2}\\ sin(W_s)\\ dW_s \\\\\n",
    "\\\\\n",
    "e^\\frac{t}{2}cos(W_t) &= 1 + \\int^{t}_{0}- e^\\frac{s}{2}\\ sin(W_s)\\ dW_s \n",
    "\\end{align} $$\n",
    "\n",
    "Then, the expectation of $f(t, W_t) = e^\\frac{t}{2}cos(W_t)$ is\n",
    "\n",
    "$$ \\begin{align}\n",
    "E\\bigg(e^\\frac{t}{2}cos(W_t)\\bigg) &= E\\bigg(1 + \\int^{t}_{0}- e^\\frac{s}{2}\\ sin(W_s)\\ dW_s \\bigg)  \\\\\n",
    "                                    \\\\\n",
    "                                   & = 1 + E\\bigg(\\int^{t}_{0}- e^\\frac{s}{2}\\ sin(W_s)\\ dW_s \\bigg) \\\\\n",
    "                                   \\\\\n",
    "                                   & = 1 \n",
    "\\end{align} $$\n",
    "\n",
    "since $E\\bigg(\\int^{t}_{0}- e^\\frac{s}{2}\\ sin(W_s)\\ dW_s \\bigg) = 0$\n",
    "\n",
    "Therefore, we should expect all of the last 3 intergral to be equal to 1, since \n",
    "$E \\bigg(e^{\\frac{1}{2} t} cos(W_t)\\bigg) = 1$ for all *t*. \n",
    "\n",
    "From the three estimations performed in (a), the estimated values are not exactly close to the theoritical value."
   ]
  },
  {
   "cell_type": "markdown",
   "metadata": {},
   "source": [
    "(c) Now use a variance reduction technique to compute the expected values in part (a). Do you see any improvements? Comment.\n"
   ]
  },
  {
   "cell_type": "markdown",
   "metadata": {},
   "source": [
    "**Solution:**\n",
    "\n",
    "Apply the antithetic values as the variance reduction technique,\n",
    "\n",
    "find normally distributed $X$ that has a negative correlation with $W_t$ (similar to question 2)\n"
   ]
  },
  {
   "cell_type": "code",
   "execution_count": 23,
   "metadata": {
    "collapsed": true
   },
   "outputs": [],
   "source": [
    "corr = - 0.6\n",
    "X5 = list(map(lambda z1, z2: corr * m.sqrt(5) * z1 \n",
    "              + m.sqrt(1 - corr**2) * m.sqrt(5) * z2, Z1[:5000], Z2[:5000]))"
   ]
  },
  {
   "cell_type": "code",
   "execution_count": 24,
   "metadata": {
    "collapsed": true
   },
   "outputs": [],
   "source": [
    "Xt1 = list(map(lambda z1, z2: corr * m.sqrt(0.5) * z1 \n",
    "               + m.sqrt(1 - corr**2) * m.sqrt(0.5) * z2, Z1[:5000], Z2[:5000]))\n",
    "\n",
    "Xt2 = list(map(lambda z1, z2: corr * m.sqrt(3.2) * z1 \n",
    "               + m.sqrt(1 - corr**2) * m.sqrt(3.2) * z2, Z1[:5000], Z2[:5000]))\n",
    "\n",
    "Xt3 = list(map(lambda z1, z2: corr * m.sqrt(6.5) * z1 \n",
    "               + m.sqrt(1 - corr**2) * m.sqrt(6.5) * z2, Z1[:5000], Z2[:5000]))"
   ]
  },
  {
   "cell_type": "markdown",
   "metadata": {},
   "source": [
    "Evaluate $f(X)$ on $X$"
   ]
  },
  {
   "cell_type": "code",
   "execution_count": 25,
   "metadata": {
    "collapsed": true
   },
   "outputs": [],
   "source": [
    "f_X5 = list(map(lambda w: w**2 + m.sin(w), X5))\n",
    "f_Xt1 = list(map(lambda w: m.exp(0.5/2) * m.cos(w), Xt1))\n",
    "f_Xt2 = list(map(lambda w: m.exp(3.2/2) * m.cos(w), Xt2))\n",
    "f_Xt3 = list(map(lambda w: m.exp(6.5/2) * m.cos(w), Xt3))"
   ]
  },
  {
   "cell_type": "markdown",
   "metadata": {},
   "source": [
    "Define $h(W_t)$ as the average of $f(W_t)$ find $f(X)$, $h(W_t)= \\frac{f(W_t) + f(X)}{2}$"
   ]
  },
  {
   "cell_type": "code",
   "execution_count": 26,
   "metadata": {
    "collapsed": true
   },
   "outputs": [],
   "source": [
    "h_W5 = list(map(lambda x, y: (x + y)/2, f_W5, f_X5))\n",
    "h_Wt1 = list(map(lambda x, y: (x + y)/2, f_Wt1, f_Xt1))\n",
    "h_Wt2 = list(map(lambda x, y: (x + y)/2, f_Wt2, f_Xt2))\n",
    "h_Wt3 = list(map(lambda x, y: (x + y)/2, f_Wt3, f_Xt3))"
   ]
  },
  {
   "cell_type": "markdown",
   "metadata": {},
   "source": [
    "Find the emprical mean of f($W_t$) after variance reduction"
   ]
  },
  {
   "cell_type": "code",
   "execution_count": 27,
   "metadata": {
    "collapsed": true
   },
   "outputs": [],
   "source": [
    "E1h = sum(h_W5)/len(h_W5)\n",
    "E2h_t1 = sum(h_Wt1)/len(h_Wt1)\n",
    "E2h_t2 = sum(h_Wt2)/len(h_Wt2)\n",
    "E2h_t3 = sum(h_Wt3)/len(h_Wt3)"
   ]
  },
  {
   "cell_type": "markdown",
   "metadata": {},
   "source": [
    "Find the emprical standard deviation of f($W_t$) after variance reduction"
   ]
  },
  {
   "cell_type": "code",
   "execution_count": 28,
   "metadata": {
    "collapsed": true
   },
   "outputs": [],
   "source": [
    "sd_h5 = m.sqrt(sum(map(lambda x: (x - E1h)**2 , h_W5))/len(h_W5))\n",
    "sd_ht1 = m.sqrt(sum(map(lambda x: (x - E2h_t1)**2 , h_Wt1))/len(h_Wt1))\n",
    "sd_ht2 = m.sqrt(sum(map(lambda x: (x - E2h_t2)**2 , h_Wt2))/len(h_Wt2))\n",
    "sd_ht3 = m.sqrt(sum(map(lambda x: (x - E2h_t3)**2 , h_Wt3))/len(h_Wt3))"
   ]
  },
  {
   "cell_type": "code",
   "execution_count": 29,
   "metadata": {},
   "outputs": [
    {
     "name": "stdout",
     "output_type": "stream",
     "text": [
      "Before variance reduction: \n",
      "\n",
      "E1[W5]=  5.11719\n",
      "sd1[W(5)] =  7.31812\n",
      "\n",
      "\n",
      "E2[W(0.5)] =  0.99427\n",
      "sd2[W(0.5)] =  0.36314\n",
      "\n",
      "\n",
      "E2[W(3.2)] =  0.95391\n",
      "sd2[W(3.2)] =  3.36936\n",
      "\n",
      "\n",
      "E2[W(6.5)] =  0.77507\n",
      "sd2E[W(6.5)] =  18.43589\n"
     ]
    }
   ],
   "source": [
    "print('Before variance reduction: \\n')\n",
    "print ('E1[W5]= ', round(E1, 5))\n",
    "print ('sd1[W(5)] = ', round(sd1, 5))\n",
    "print('\\n')\n",
    "print ('E2[W(0.5)] = ', round(E2_t1, 5))\n",
    "print ('sd2[W(0.5)] = ', round(sd_t1, 5))\n",
    "print('\\n')\n",
    "print ('E2[W(3.2)] = ', round(E2_t2, 5))\n",
    "print ('sd2[W(3.2)] = ', round(sd_t2, 5))\n",
    "print('\\n')\n",
    "print ('E2[W(6.5)] = ', round(E2_t3, 5))\n",
    "print ('sd2E[W(6.5)] = ', round(sd_t3, 5))"
   ]
  },
  {
   "cell_type": "code",
   "execution_count": 30,
   "metadata": {},
   "outputs": [
    {
     "name": "stdout",
     "output_type": "stream",
     "text": [
      "After applying antithetic values, \n",
      "\n",
      "E1[W(5)] =  5.08429\n",
      "sd1[W(0.5)] =  6.07287\n",
      "\n",
      "\n",
      "E2[W(0.5)] =  0.99688\n",
      "sd2[W(0.5)] =  0.30002\n",
      "\n",
      "\n",
      "E2[W(3.2)] =  0.99328\n",
      "sd2[W(3.2)] =  2.63211\n",
      "\n",
      "\n",
      "E2[W(6.5)] =  0.87095\n",
      "sd2[W(6.5)] =  13.45402\n"
     ]
    }
   ],
   "source": [
    "print ('After applying antithetic values, \\n')\n",
    "\n",
    "print ('E1[W(5)] = ', round(E1h, 5))\n",
    "print ('sd1[W(0.5)] = ', round(sd_h5, 5))\n",
    "print('\\n')\n",
    "\n",
    "print ('E2[W(0.5)] = ', round(E2h_t1, 5))\n",
    "print ('sd2[W(0.5)] = ', round(sd_ht1, 5))\n",
    "print('\\n')\n",
    "\n",
    "print ('E2[W(3.2)] = ', round(E2h_t2, 5))\n",
    "print ('sd2[W(3.2)] = ', round(sd_ht2, 5))\n",
    "print('\\n')\n",
    "\n",
    "print ('E2[W(6.5)] = ', round(E2h_t3, 5))\n",
    "print ('sd2[W(6.5)] = ', round(sd_ht3, 5))"
   ]
  },
  {
   "cell_type": "markdown",
   "metadata": {},
   "source": [
    "**Comment:** There are small improvements on the four integrals we are trying to find, the estimated value is closer to the true value, indicating the simulation is converging faster than before. The standard deviation of the monte carlo simulations are also smaller than they used to be for all expectations. "
   ]
  },
  {
   "cell_type": "markdown",
   "metadata": {},
   "source": [
    "### Question 4\n",
    "\n",
    "Let 𝑆𝑡 be a Geometric Brownian Motion process: : $S_t = S_0 e^{\\sigma W_t + ( r − \\frac{ 1 }{ 2 } \\sigma^2)t}$, where r = 0.04, $\\sigma$ = 0.2, $S_0$ = \\$88,  $W_t$ is a Standard Brownian Motion process (Standard Wiener process). \n",
    "\n",
    "(a) Estimate the price c of a European Call option on the stock with T = 5, K = $100 by using Monte Carlo simulation.\n",
    "\n"
   ]
  },
  {
   "cell_type": "markdown",
   "metadata": {
    "collapsed": true
   },
   "source": [
    "**Solution:**\n",
    "\n",
    "Simulate the standard brownian motion, $W_T$ where *T* = 5. $W_5 = 5\\cdot Z_1$"
   ]
  },
  {
   "cell_type": "code",
   "execution_count": 31,
   "metadata": {
    "collapsed": true
   },
   "outputs": [],
   "source": [
    "T = 5\n",
    "S0 = 88\n",
    "r = 0.04\n",
    "sd = 0.2\n",
    "K = 100"
   ]
  },
  {
   "cell_type": "code",
   "execution_count": 32,
   "metadata": {
    "collapsed": true
   },
   "outputs": [],
   "source": [
    "WT = list(map(lambda z: m.sqrt(T)*z, Z1[:5000])) "
   ]
  },
  {
   "cell_type": "markdown",
   "metadata": {},
   "source": [
    "Simulate the stock process, $S_t = S_0 e^{\\sigma W_t + ( r − \\frac{ 1 }{ 2 } \\sigma^2)t}$"
   ]
  },
  {
   "cell_type": "code",
   "execution_count": 33,
   "metadata": {
    "collapsed": true
   },
   "outputs": [],
   "source": [
    "ST = list(map(lambda w: S0*m.exp(sd*w + (r - 0.5*sd**2)*T), WT))"
   ]
  },
  {
   "cell_type": "markdown",
   "metadata": {},
   "source": [
    "Find the evaluations of European Call option by finding the discount expectated value of the call option payoffs, C =  $e^{-rt} E\\bigg(max(S_t - K, 0)\\bigg)$"
   ]
  },
  {
   "cell_type": "code",
   "execution_count": 34,
   "metadata": {
    "collapsed": true
   },
   "outputs": [],
   "source": [
    "call_payoffs = list(map(lambda s: s - K if (s - K) > 0 else 0, ST))\n",
    "call_price = m.exp(-r*T)*sum(call_payoffs)/len(call_payoffs)"
   ]
  },
  {
   "cell_type": "code",
   "execution_count": 35,
   "metadata": {},
   "outputs": [
    {
     "name": "stdout",
     "output_type": "stream",
     "text": [
      "The price of the European Call : 18.382943974312404\n"
     ]
    }
   ],
   "source": [
    "print(\"The price of the European Call :\", call_price)"
   ]
  },
  {
   "cell_type": "markdown",
   "metadata": {},
   "source": [
    "(b) Compute the exact value of the option c by the Black-Scholes formula. Now use variance reduction techniques (whichever you want) to estimate the price in part (a) again. Did the accuracy improve? Comment.\n"
   ]
  },
  {
   "cell_type": "markdown",
   "metadata": {},
   "source": [
    "**Solution:**\n",
    "\n",
    "By Black Scholes Model, the call price could be computed as \n",
    "\n",
    "$$C = S_0 N(d_1) - K e^{-rt}N(d_2)$$\n",
    "\n",
    "where\n",
    "\n",
    "$$ \\begin{align}\n",
    "d_1 &= \\frac{ln(\\frac{S_0}{K}) + (r + \\frac{1}{2}\\sigma^2)T}{\\sigma\\sqrt{T}}\\\\\n",
    "    \\\\\n",
    "    &= \\frac{ln(\\frac{88}{100}) + (0.04 + \\frac{1}{2}(0.2)^2)5}{0.2\\cdot\\sqrt{5}}\\\\\n",
    "    \\\\\n",
    "    &= 0.385\\\\\n",
    "    \\\\\n",
    "d_2 &= d_1 - \\sigma\\sqrt{T}\\\\\n",
    "    \\\\\n",
    "    &=  1.925 - 0.2\\cdot\\sqrt{5}\\\\\n",
    "    \\\\\n",
    "    &= -0.0622\n",
    "\\end{align}$$\n",
    "\n",
    "Therefore, the theoritical call option price is\n",
    "\n",
    "$$\\begin{align} C &= 88 \\cdot N(0.385) + 100 e^{-0.2 \\cdot 5 }N(-0.0622) \\\\\n",
    "\\\\\n",
    "                   &= 18.2838\n",
    "\\end{align}\n",
    "$$"
   ]
  },
  {
   "cell_type": "code",
   "execution_count": 36,
   "metadata": {
    "collapsed": true,
    "scrolled": true
   },
   "outputs": [],
   "source": [
    "# find d1 and d2\n",
    "d1 = (m.log(S0/K) + (r + 0.5*sd**2)*T)/(sd*m.sqrt(T))\n",
    "d2 = d1 - sd*m.sqrt(T)\n",
    "\n",
    "# find call option price\n",
    "C = S0*norm.cdf(d1) - K*m.exp(-r*T)*norm.cdf(d2)"
   ]
  },
  {
   "cell_type": "code",
   "execution_count": 37,
   "metadata": {},
   "outputs": [
    {
     "name": "stdout",
     "output_type": "stream",
     "text": [
      "The European call option price calculated by black-sholes model:  18.2837657049\n"
     ]
    }
   ],
   "source": [
    "print (\"The European call option price calculated by black-sholes model: \", C)"
   ]
  },
  {
   "cell_type": "markdown",
   "metadata": {
    "collapsed": true
   },
   "source": [
    "**Apply the antithetic variates technique**, \n",
    "\n",
    "Again, use the normal random sample $Z_1$, and find $Z_1^{-1}$,the negative value of each element of $Z_1$, find $W_5^{-1}$ by mutiply $Z_1^{-1}$ by $\\sqrt{5}$"
   ]
  },
  {
   "cell_type": "code",
   "execution_count": 38,
   "metadata": {
    "collapsed": true
   },
   "outputs": [],
   "source": [
    "Z1_inv = list(map(lambda z: -z, Z1))\n",
    "WT_inv = list(map(lambda z: z*m.sqrt(5), Z1_inv))"
   ]
  },
  {
   "cell_type": "markdown",
   "metadata": {},
   "source": [
    "Evaluate $S_t^{-1} = S_0 e^{\\sigma W_T^{-1} +(r −\\frac{\\sigma^2}{2})T}$ on $W_t^{-1}$, Find the $ C^{-1} =  e^{-rt} E\\bigg(max(S_T^{-1} - K, 0)\\bigg)$ using the $S_T^{-1}$"
   ]
  },
  {
   "cell_type": "code",
   "execution_count": 39,
   "metadata": {
    "collapsed": true
   },
   "outputs": [],
   "source": [
    "ST_inv = list(map(lambda w: S0*m.exp(sd*w + (r - 0.5*sd**2)*T), WT_inv))\n",
    "call_payoffs_inv = list(map(lambda s: s - K if (s - K) > 0 else 0, ST_inv))"
   ]
  },
  {
   "cell_type": "markdown",
   "metadata": {},
   "source": [
    "Find the average of $C$ and $C^{-1}$, which will give the variance reduced European call price"
   ]
  },
  {
   "cell_type": "code",
   "execution_count": 40,
   "metadata": {
    "collapsed": true
   },
   "outputs": [],
   "source": [
    "call_payoff_corrected = list(map(lambda x, y: (x+y)/2, call_payoffs, call_payoffs_inv))\n",
    "call_price_corrected = m.exp(-r*T)*sum(call_payoff_corrected)/len(call_payoff_corrected)"
   ]
  },
  {
   "cell_type": "code",
   "execution_count": 41,
   "metadata": {},
   "outputs": [
    {
     "name": "stdout",
     "output_type": "stream",
     "text": [
      "The call price calculated from the Monte Carlo after variance reduction:  18.590969240977547\n"
     ]
    }
   ],
   "source": [
    "print(\"The call price calculated from the Monte Carlo after variance reduction: \", call_price_corrected)"
   ]
  },
  {
   "cell_type": "markdown",
   "metadata": {},
   "source": [
    "Compare standard deviation before and after variance reduction "
   ]
  },
  {
   "cell_type": "code",
   "execution_count": 42,
   "metadata": {
    "collapsed": true
   },
   "outputs": [],
   "source": [
    "c_sd_before = m.sqrt(sum(map(lambda p: (p - call_price)**2 , \n",
    "                             call_payoffs))/len(call_payoffs))\n",
    "\n",
    "c_sd_after =  m.sqrt(sum(map(lambda p: (p - call_price_corrected)**2 , \n",
    "                             call_payoff_corrected))/len(call_payoff_corrected))"
   ]
  },
  {
   "cell_type": "code",
   "execution_count": 43,
   "metadata": {},
   "outputs": [
    {
     "name": "stdout",
     "output_type": "stream",
     "text": [
      "Before variance reduction:\n",
      "\n",
      "Standard deviation of call price Monte Carlo Simulation:  40.42242338580401\n",
      "\n",
      "\n",
      "After variance reduction:\n",
      "\n",
      "Standard deviation of call price Monte Carlo Simulation:  23.662524188201854\n"
     ]
    }
   ],
   "source": [
    "print(\"Before variance reduction:\\n\")\n",
    "print(\"Standard deviation of call price Monte Carlo Simulation: \", c_sd_before)\n",
    "print('\\n')\n",
    "print(\"After variance reduction:\\n\")\n",
    "print(\"Standard deviation of call price Monte Carlo Simulation: \", c_sd_after)"
   ]
  },
  {
   "cell_type": "markdown",
   "metadata": {},
   "source": [
    "**Comment:** The call price after variance reduction is closer to the theoritical value of 18.28 - the accuracy is improved, meaning the variance reduction technique has made the simulation to converge faster"
   ]
  },
  {
   "cell_type": "markdown",
   "metadata": {},
   "source": [
    "## Question 5\n",
    "\n",
    "(a) For each integer number 𝑛 from 1 to 10, use 1000 simulations of $S_n$ to estimate $E[S_n]$, where $S_t$ is a Geometric Brownian Motion process: $S_t = S_0 e^{\\sigma W_t +(r −\\frac{\\sigma^2}{2})t}$, where r = 0.04, 𝜎 = 0.2, $𝑆_0$ = \\$88. Plot all of the above $E[S_n]$, for 𝑛 ranging from 1 to 10,  in one graph. "
   ]
  },
  {
   "cell_type": "markdown",
   "metadata": {},
   "source": [
    "**Solution:**\n",
    "\n",
    "Using the same technique in question 4, we can simulate $S_n$ using simulated $W_n$ for n from 1 to 10. First define a function that could simulate stock distribution from the time period *t* given"
   ]
  },
  {
   "cell_type": "code",
   "execution_count": 44,
   "metadata": {
    "collapsed": true
   },
   "outputs": [],
   "source": [
    "# define X, Y with the uniform random numbers U1 and U2\n",
    "Z = Z1[:1000]"
   ]
  },
  {
   "cell_type": "code",
   "execution_count": 45,
   "metadata": {
    "collapsed": true
   },
   "outputs": [],
   "source": [
    "# define paramenters\n",
    "S0 = 88\n",
    "r = 0.04\n",
    "sd = 0.18"
   ]
  },
  {
   "cell_type": "code",
   "execution_count": 46,
   "metadata": {
    "collapsed": true
   },
   "outputs": [],
   "source": [
    "def expected_stock_value(sd, t):\n",
    "    \"\"\"\n",
    "    Simulate stock from standard normal distributions\n",
    "    \"\"\"\n",
    "    Wt = list(map(lambda z: m.sqrt(t)*z, Z)) \n",
    "    St = list(map(lambda w: S0*m.exp(sd*w + (r - 0.5*sd**2)*t), Wt))\n",
    "    ESt = sum(St)/len(St)\n",
    "    \n",
    "    return ESt"
   ]
  },
  {
   "cell_type": "markdown",
   "metadata": {},
   "source": [
    "Map the function *expected_stock_value* onto time list *n*"
   ]
  },
  {
   "cell_type": "code",
   "execution_count": 47,
   "metadata": {
    "collapsed": true
   },
   "outputs": [],
   "source": [
    "n = list(range(1, 11))\n",
    "ESn_list =  [S0] + list(map(lambda t: expected_stock_value(sd, t), n))"
   ]
  },
  {
   "cell_type": "markdown",
   "metadata": {},
   "source": [
    "Plot all the $E[S_n]$, for n ranging from 1 to 10"
   ]
  },
  {
   "cell_type": "code",
   "execution_count": 48,
   "metadata": {},
   "outputs": [
    {
     "data": {
      "image/png": "[encoded data removed]",
      "text/plain": [
       "<matplotlib.figure.Figure at 0x12000abf588>"
      ]
     },
     "metadata": {},
     "output_type": "display_data"
    }
   ],
   "source": [
    "plt.figure(figsize=(8,5))\n",
    "plt.plot(ESn_list)\n",
    "plt.title('$E[S_n]$, for n ranging from 1 to 10')\n",
    "plt.xlabel('$n$')\n",
    "plt.ylabel('$E[S_n]$')\n",
    "plt.show()"
   ]
  },
  {
   "cell_type": "markdown",
   "metadata": {},
   "source": [
    "(b) Now simulate 6 paths of $S_t$ for *0 ≤ t ≤ 10* (defined in part (a)) by dividing up the interval [0, 10] into 1,000 equal parts.  "
   ]
  },
  {
   "cell_type": "markdown",
   "metadata": {},
   "source": [
    "**Solution:**\n",
    "\n",
    "Start with defining the parameters, *0 ≤ t ≤ 10* divide into 1000 equal parts will result is a 0.01 increment interval"
   ]
  },
  {
   "cell_type": "code",
   "execution_count": 49,
   "metadata": {
    "collapsed": true
   },
   "outputs": [],
   "source": [
    "dt = 10/1000\n",
    "t = list(map(lambda x: x/100, range(1, 1001)))"
   ]
  },
  {
   "cell_type": "markdown",
   "metadata": {},
   "source": [
    "The returns of the stock will follow geometric brownian $dS_t = rdt + \\sigma dW_t$, which could be simulated as $dS_t = rdt + \\sigma \\sqrt{dt}Z$."
   ]
  },
  {
   "cell_type": "markdown",
   "metadata": {},
   "source": [
    "Generate 6000 random normal numbers and slice into 6 parts"
   ]
  },
  {
   "cell_type": "code",
   "execution_count": 50,
   "metadata": {
    "collapsed": true
   },
   "outputs": [],
   "source": [
    "# Generate 6000 random normal number pairs, only choose one of them\n",
    "Z6 = generate_normal(7, 6000)[0]\n",
    "\n",
    "# slice into 6 parts \n",
    "split_points= list(range(0, 6000, 1000))\n",
    "Z_list = [Z6[i: i + 1000] for i in split_points]"
   ]
  },
  {
   "cell_type": "markdown",
   "metadata": {
    "collapsed": true
   },
   "source": [
    "Simulate returns of the stock for 6 different paths"
   ]
  },
  {
   "cell_type": "code",
   "execution_count": 51,
   "metadata": {
    "collapsed": true
   },
   "outputs": [],
   "source": [
    "r_St = [list(map(lambda z: r*dt + sd*m.sqrt(dt)*z, Z_list[i])) for i in range(len(Z_list))]"
   ]
  },
  {
   "cell_type": "markdown",
   "metadata": {},
   "source": [
    "Build a function that converts the returns of stock to stock prices"
   ]
  },
  {
   "cell_type": "code",
   "execution_count": 52,
   "metadata": {
    "collapsed": true
   },
   "outputs": [],
   "source": [
    "def stock_prices(r_St, t):\n",
    "    \"\"\" convert stock returns to stock price\n",
    "    \"\"\"\n",
    "    St = [S0]\n",
    "    for i in range(1, len(r_St) + 1):\n",
    "        St.append(St[i - 1]*m.exp(r_St[i - 1]))\n",
    "    St = list(zip(t, St))\n",
    "    return St"
   ]
  },
  {
   "cell_type": "code",
   "execution_count": 53,
   "metadata": {
    "collapsed": true
   },
   "outputs": [],
   "source": [
    "stock_paths = [stock_prices(r_St[i], t) for i in range(len(r_St))]"
   ]
  },
  {
   "cell_type": "markdown",
   "metadata": {},
   "source": [
    "(c) Plot your data from parts (a) and (b) in one graph\n",
    "\n",
    "**Solution:**"
   ]
  },
  {
   "cell_type": "markdown",
   "metadata": {},
   "source": [
    "Plot the 6 paths of the simulated stock prices and the expected stock prices"
   ]
  },
  {
   "cell_type": "code",
   "execution_count": 54,
   "metadata": {},
   "outputs": [
    {
     "data": {
      "image/png": "[encoded data removed]",
      "text/plain": [
       "<matplotlib.figure.Figure at 0x12000f4fa58>"
      ]
     },
     "metadata": {},
     "output_type": "display_data"
    }
   ],
   "source": [
    "plt.figure(figsize=(8,5))\n",
    "plt.plot(ESn_list)\n",
    "for i in stock_paths:\n",
    "    plt.plot(*zip(*i))\n",
    "plt.title('6 Paths of Stock Prices and Their Expected Value ')\n",
    "plt.xlabel('$t$')\n",
    "plt.ylabel('$Stock Paths S_t$')\n",
    "plt.show()"
   ]
  },
  {
   "cell_type": "markdown",
   "metadata": {
    "collapsed": true
   },
   "source": [
    "(d) What would happen to the $E[S_n]$ graph if you increased $\\sigma$ from 18% to 35%? What would\n",
    "happen to the 6 plots of $S_t$ for 0 ≤ 𝑡 ≤ 10, if you increased $\\sigma$ from 18% to 35%?\n"
   ]
  },
  {
   "cell_type": "markdown",
   "metadata": {},
   "source": [
    "**Solution:**\n",
    "\n",
    "The graph for $E[S_n]$ should have no change at all. According to no arbitrage princinples, the expected value of the stock returns should be exactly the same as the returns of the bond market, which is equal to the risk free rate r. The expected stock price will equal to  $E[S_n] = S_0 e^{rn}$, which has nothing to do with the volitality $\\sigma$. The emprical expectation of stock prices for 10 periods are very close to the level before volitality change."
   ]
  },
  {
   "cell_type": "code",
   "execution_count": 55,
   "metadata": {
    "collapsed": true
   },
   "outputs": [],
   "source": [
    "# define new paramenters\n",
    "S0 = 88\n",
    "r = 0.04\n",
    "sd_new = 0.35"
   ]
  },
  {
   "cell_type": "code",
   "execution_count": 56,
   "metadata": {
    "collapsed": true
   },
   "outputs": [],
   "source": [
    "ESn_list_new =  [S0] + list(map(lambda t: expected_stock_value(sd_new, t), n))"
   ]
  },
  {
   "cell_type": "markdown",
   "metadata": {
    "collapsed": true
   },
   "source": [
    "On the other hand, if $\\sigma$ is increased from 18% to 35%, more flucturation will be present in the paths, as brownian motion's distribution at each point in time depends on the volitality supplied"
   ]
  },
  {
   "cell_type": "code",
   "execution_count": 57,
   "metadata": {
    "collapsed": true
   },
   "outputs": [],
   "source": [
    "r_St_new = [list(map(lambda z: r*dt + sd_new*m.sqrt(dt)*z, Z_list[i])) for i in range(len(Z_list))]"
   ]
  },
  {
   "cell_type": "code",
   "execution_count": 58,
   "metadata": {
    "collapsed": true
   },
   "outputs": [],
   "source": [
    "stock_paths_new = [stock_prices(r_St_new[i], t) for i in range(len(r_St))]"
   ]
  },
  {
   "cell_type": "code",
   "execution_count": 59,
   "metadata": {},
   "outputs": [
    {
     "data": {
      "image/png": "[encoded data removed]",
      "text/plain": [
       "<matplotlib.figure.Figure at 0x1200235ea90>"
      ]
     },
     "metadata": {},
     "output_type": "display_data"
    }
   ],
   "source": [
    "plt.figure(figsize=(8,5))\n",
    "plt.plot(ESn_list_new)\n",
    "for i in stock_paths_new:\n",
    "    plt.plot(*zip(*i))\n",
    "plt.title('6 Paths of Stock Prices after Volitality Increase and Their Expected Value')\n",
    "plt.xlabel('$t$')\n",
    "plt.ylabel('$Stock Paths S_t$')\n",
    "plt.show()"
   ]
  },
  {
   "cell_type": "markdown",
   "metadata": {
    "collapsed": true
   },
   "source": [
    "## Question 6\n",
    "\n",
    "Consider the following integral for computing the number 𝜋: $4\\int^{1}_{0}\\sqrt{1 - x^2}dx = \\pi$\n",
    "\n",
    "(a) The integral above can be estimated by a simple numerical integration using, say Euler’s discretization (or any other discretization) scheme.   Estimate the integral by using the Euler’s discretization scheme.  "
   ]
  },
  {
   "cell_type": "markdown",
   "metadata": {},
   "source": [
    "**Solution:**\n",
    "\n",
    "The Euler's Method is the method that recurrsively linearly estimating the entire function value with the previous value\n",
    "\n",
    "Set the step size to be 0.01, there will be 1000 steps in total.\n",
    "\n",
    "$$y(t+\\Delta_t) = y(t) + y'(t)\\cdot \\Delta t$$\n",
    "\n",
    "Where $y(t) = \\int^t_0\\sqrt{1 - x^2}$, $0 \\leq t \\leq 1$\n",
    "\n",
    "Find the derivative of function y\n",
    "\n",
    "$$y' = \\frac{d}{dt}(\\int^t_0\\sqrt{1 - x^2}) = \\sqrt{1 - t^2}$$\n",
    "\n",
    "Then we could build a list of change in values of y (named $I$) and find the cumulative sum of the list, start with 0 (since $\\int^0_0\\sqrt{1 - x^2} = 0$)"
   ]
  },
  {
   "cell_type": "code",
   "execution_count": 60,
   "metadata": {
    "collapsed": true
   },
   "outputs": [],
   "source": [
    "# build a list of change in function y\n",
    "n = 1000 # number of steps\n",
    "I = [0]  # list of Euler integral values\n",
    "dt = 1/n # step size\n",
    "\n",
    "t = list(map(lambda t: t*dt, range(int(n + 1))))\n",
    "\n",
    "for i in range(1, len(t)):\n",
    "    I.append(I[i-1] + m.sqrt(1-t[i-1]**2)*dt)   "
   ]
  },
  {
   "cell_type": "markdown",
   "metadata": {
    "collapsed": true
   },
   "source": [
    "The estimated value of function y is stored as the last value of the $I$ list, and the value of the intergral $4\\int^{1}_{0}\\sqrt{1 - x^2}dx$ is 4 times of the function of value y"
   ]
  },
  {
   "cell_type": "code",
   "execution_count": 61,
   "metadata": {},
   "outputs": [
    {
     "name": "stdout",
     "output_type": "stream",
     "text": [
      "The integral estimated by Euler's Method: 3.143555466911028\n"
     ]
    }
   ],
   "source": [
    "estimated_y = I[-1]\n",
    "integral = 4 * estimated_y\n",
    "print (\"The integral estimated by Euler's Method:\", integral)"
   ]
  },
  {
   "cell_type": "markdown",
   "metadata": {
    "collapsed": true
   },
   "source": [
    "(b) Estimate the integral by Monte Carlo simulation"
   ]
  },
  {
   "cell_type": "markdown",
   "metadata": {},
   "source": [
    "**Solution:**"
   ]
  },
  {
   "cell_type": "markdown",
   "metadata": {},
   "source": [
    "Generate 1000 uniform random numbers"
   ]
  },
  {
   "cell_type": "code",
   "execution_count": 62,
   "metadata": {
    "collapsed": true
   },
   "outputs": [],
   "source": [
    "rand2 = generate_random_sequence(9, 1000)\n",
    "U = list(map(lambda x1: (x1 + 0.5) / (2**31 - 1), rand2))"
   ]
  },
  {
   "cell_type": "markdown",
   "metadata": {},
   "source": [
    "Evaluate the function $f(x) = 4\\sqrt{1 - x^2}$ and take the average of the results of evaluation"
   ]
  },
  {
   "cell_type": "code",
   "execution_count": 63,
   "metadata": {},
   "outputs": [
    {
     "name": "stdout",
     "output_type": "stream",
     "text": [
      "The integral estimated by Monte Carlo Simulation Method: 3.1480716328273215\n"
     ]
    }
   ],
   "source": [
    "integral_mc = sum(map(lambda u: 4*m.sqrt(1-u**2), U))/len(U)\n",
    "print(\"The integral estimated by Monte Carlo Simulation Method:\", integral_mc)"
   ]
  },
  {
   "cell_type": "markdown",
   "metadata": {},
   "source": [
    "(c) Now try the Importance Sampling method to improve the estimate of $\\pi$ in part (b). Comment on errors and improvements"
   ]
  },
  {
   "cell_type": "markdown",
   "metadata": {},
   "source": [
    "**Solution:**\n",
    "\n",
    "let $t(x) = \\frac{1 - ax^2}{1 - \\frac{a}{3}}$, where a = 0.74\n",
    "\n",
    "define $g(x) = maximum\\ of\\ t(x)$, therefore $g(x) = max(\\frac{1 - 0.74x^2}{1 - \\frac{0.74}{3}})$\n",
    "\n",
    "g(x) takes maximum value when x = 0, g(x) will be a constant number"
   ]
  },
  {
   "cell_type": "code",
   "execution_count": 64,
   "metadata": {
    "collapsed": true
   },
   "outputs": [],
   "source": [
    "# define g(x)\n",
    "g = 1 / (1- (0.74/3))"
   ]
  },
  {
   "cell_type": "code",
   "execution_count": 65,
   "metadata": {
    "collapsed": true
   },
   "outputs": [],
   "source": [
    "# define h(x)\n",
    "t = lambda x: (1 - 0.74*x**2)/(1- 0.74/3) if 0 <= x <= 1 else 0"
   ]
  },
  {
   "cell_type": "markdown",
   "metadata": {},
   "source": [
    "Use acceptance rejection method, generate 1000 samples of X, following density function $h(x) = Uniform(0,1)$\n",
    "\n",
    "Generate another 1000 samples of $U$~$U(0, 1)$ that is independent of X. For simplicity, use numpy built in function to generate random uniforms"
   ]
  },
  {
   "cell_type": "code",
   "execution_count": 66,
   "metadata": {
    "collapsed": true
   },
   "outputs": [],
   "source": [
    "def accept_reject(n):\n",
    "    \"\"\"\n",
    "        Generate sample of X with acceptance-rejection method\n",
    "    \"\"\"\n",
    "    np.random.seed(9)\n",
    "    sample = []\n",
    "    while n > 0:\n",
    "        # generate sample for U\n",
    "        u = np.random.uniform(0, 1)\n",
    "        # generate sample of Y\n",
    "        y = np.random.uniform(0, 1)\n",
    "        \n",
    "        if u <= t(y)/g:\n",
    "            sample.append(y)\n",
    "            n -= 1\n",
    "        else:\n",
    "            pass\n",
    "    return sample"
   ]
  },
  {
   "cell_type": "markdown",
   "metadata": {},
   "source": [
    "Use the generated sample to evaluate $f(x) = 4\\sqrt{1 - x^2}$ and take the average of the results of evaluation"
   ]
  },
  {
   "cell_type": "code",
   "execution_count": 67,
   "metadata": {
    "collapsed": true
   },
   "outputs": [],
   "source": [
    "sample = accept_reject(1000)\n",
    "integral_importance = sum(map(lambda x: 4*m.sqrt(1-x**2)/t(x), sample))/len(sample)"
   ]
  },
  {
   "cell_type": "code",
   "execution_count": 68,
   "metadata": {},
   "outputs": [
    {
     "name": "stdout",
     "output_type": "stream",
     "text": [
      "The integral estimated by Monte Carlo Simulation Method: 3.143273475357075\n"
     ]
    }
   ],
   "source": [
    "print(\"The integral estimated by Monte Carlo Simulation Method:\", integral_importance)"
   ]
  },
  {
   "cell_type": "markdown",
   "metadata": {},
   "source": [
    "The accuracy of estimation improved a little, now compute the standard deviation before and after importance sampling is applied"
   ]
  },
  {
   "cell_type": "code",
   "execution_count": 69,
   "metadata": {
    "collapsed": true
   },
   "outputs": [],
   "source": [
    "pi_seq = list(map(lambda u: 4*m.sqrt(1-u**2), U))\n",
    "pi_seq2 = list(map(lambda x: 4*m.sqrt(1-x**2)/t(x), sample))\n",
    "\n",
    "pi_sd_before = m.sqrt(sum(map(lambda p: (p - integral_mc)**2 , \n",
    "                             pi_seq))/len(pi_seq))\n",
    "\n",
    "pi_sd_after =  m.sqrt(sum(map(lambda p: (p - integral_importance)**2 , \n",
    "                             pi_seq2))/len(pi_seq2))"
   ]
  },
  {
   "cell_type": "code",
   "execution_count": 70,
   "metadata": {},
   "outputs": [
    {
     "name": "stdout",
     "output_type": "stream",
     "text": [
      "Before variance reduction:\n",
      "\n",
      "Standard deviation of the integral Monte Carlo Simulation:  0.88963\n",
      "\n",
      "\n",
      "After variance reduction:\n",
      "\n",
      "Standard deviation of call price Monte Carlo Simulation:  0.20842\n"
     ]
    }
   ],
   "source": [
    "print(\"Before variance reduction:\\n\")\n",
    "print(\"Standard deviation of the integral Monte Carlo Simulation: \", round(pi_sd_before, 5))\n",
    "print('\\n')\n",
    "print(\"After variance reduction:\\n\")\n",
    "print(\"Standard deviation of call price Monte Carlo Simulation: \", round(pi_sd_after, 5))"
   ]
  },
  {
   "cell_type": "markdown",
   "metadata": {},
   "source": [
    "**Comment:** The accuracy improved as the estimated value is closer to the true value. The standard deviation is also reduced as well"
   ]
  }
 ],
 "metadata": {
  "kernelspec": {
   "display_name": "Python 3",
   "language": "python",
   "name": "python3"
  },
  "language_info": {
   "codemirror_mode": {
    "name": "ipython",
    "version": 3
   },
   "file_extension": ".py",
   "mimetype": "text/x-python",
   "name": "python",
   "nbconvert_exporter": "python",
   "pygments_lexer": "ipython3",
   "version": "3.6.3"
  }
 },
 "nbformat": 4,
 "nbformat_minor": 2
}
