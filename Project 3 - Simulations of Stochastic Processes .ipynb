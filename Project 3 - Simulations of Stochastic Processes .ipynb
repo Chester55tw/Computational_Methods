{
 "cells": [
  {
   "cell_type": "markdown",
   "metadata": {},
   "source": [
    "# Simulations of Stochastic Processes \n"
   ]
  },
  {
   "cell_type": "code",
   "execution_count": 1,
   "metadata": {
    "collapsed": true
   },
   "outputs": [],
   "source": [
    "# python set up\n",
    "import matplotlib.pyplot as plt\n",
    "import math as m\n",
    "from scipy.stats import norm \n",
    "import numpy as np"
   ]
  },
  {
   "cell_type": "markdown",
   "metadata": {},
   "source": [
    "### Question 1\n",
    "\n",
    "Evaluate the following expected values and probabilities: \n",
    "\n",
    "* $P(Y_2)> 5$\n",
    "\n",
    "\n",
    "* $E\\big(X_2^{\\frac{1}{3}}\\big)$\n",
    "\n",
    "\n",
    "* $E(Y_3)$\n",
    "\n",
    "\n",
    "* $E(X_2Y_2I(X_2 > 1))$\n",
    "\n",
    "where the Ito processes X and Y evolve according to the following SDEs:\n",
    "\n",
    "$dX_t = (\\frac{1}{5} - \\frac{1}{2}X_t)dt + \\frac{2}{3}dW_t ,\\ X_0 = 1$\n",
    "\n",
    "$dY_t = \\bigg(\\big(\\frac{2}{1+t}\\big) Y_t + \\frac{1 + t^3}{3} \\bigg)dt + \\frac{1 + t^3}{3}dW_t,\\ Y_0 = \\frac{3}{4}$"
   ]
  },
  {
   "cell_type": "markdown",
   "metadata": {},
   "source": [
    "**Solution:**\n",
    "\n",
    "Build functions to find $X_t$ and $Y_t$. For memory purposes, only save the end points of a path, when a new time step is added, the previous time step is removed"
   ]
  },
  {
   "cell_type": "code",
   "execution_count": 2,
   "metadata": {
    "collapsed": true
   },
   "outputs": [],
   "source": [
    "def find_Xt_1(t, steps, paths):\n",
    "    # initialize parameters\n",
    "    dt = t/steps\n",
    "    X0 = 1\n",
    "    Xt = [np.array([X0]*paths)]\n",
    "\n",
    "    for i in range(steps):\n",
    "        # remove the current level of Xt, and append the level of Xt next time step\n",
    "        Xt_current = Xt.pop()\n",
    "        Xt.append(Xt_current + ((1/5) - (1/2)*Xt_current)*dt \n",
    "                  + (2/3)*m.sqrt(dt)* np.random.normal(0,1, paths))\n",
    "        \n",
    "    return Xt[0]"
   ]
  },
  {
   "cell_type": "code",
   "execution_count": 3,
   "metadata": {
    "collapsed": true
   },
   "outputs": [],
   "source": [
    "def find_Yt_1(t, steps, paths):\n",
    "    # initialize parameters\n",
    "    dt = t/steps\n",
    "    Y0 = 3/4\n",
    "    Yt = [np.array([Y0]*paths)]\n",
    "\n",
    "    for i in range(1, steps + 1):\n",
    "        # remove the current level of Yt, and append the level of Yt next time step\n",
    "        Yt_current = Yt.pop()\n",
    "        Yt.append(Yt_current + ((2/((i*dt) + 1))* Yt_current + ((i*dt)**3 + 1)/3)*dt \n",
    "                    + ((i*dt) **3 + 1)/3 *m.sqrt(dt) * np.random.normal(0, 1, paths))\n",
    "            \n",
    "    return Yt[0]"
   ]
  },
  {
   "cell_type": "markdown",
   "metadata": {},
   "source": [
    "Python's Numpy library ensures the normal generated are independent if the np.random.seed() is called only once"
   ]
  },
  {
   "cell_type": "code",
   "execution_count": 66,
   "metadata": {
    "collapsed": true
   },
   "outputs": [],
   "source": [
    "# set seed for question 1 to ensure each generated normals draws are independent with each other\n",
    "np.random.seed(7)"
   ]
  },
  {
   "cell_type": "markdown",
   "metadata": {},
   "source": [
    "$P(Y_2)> 5$ could be found by counting the number of paths that ended above 5"
   ]
  },
  {
   "cell_type": "code",
   "execution_count": 67,
   "metadata": {},
   "outputs": [
    {
     "name": "stdout",
     "output_type": "stream",
     "text": [
      "P(Y2 > 5) =  0.9764\n"
     ]
    }
   ],
   "source": [
    "# Find the level of all simulated paths of Y2\n",
    "Y2 = find_Yt_1(t = 2, steps = 2000, paths = 10000)\n",
    "\n",
    "# Find the probability of P(Y2) > 5\n",
    "P = (Y2 > 5).sum()/10000\n",
    "print(\"P(Y2 > 5) = \", P)"
   ]
  },
  {
   "cell_type": "markdown",
   "metadata": {},
   "source": [
    "$E\\big(f(X_2)\\big) = E\\big(X_2^{\\frac{1}{3}}\\big)$ could be found by taking the cubic root of all $X_2$ paths and find the average of all of the numbers"
   ]
  },
  {
   "cell_type": "code",
   "execution_count": 68,
   "metadata": {},
   "outputs": [
    {
     "name": "stdout",
     "output_type": "stream",
     "text": [
      "E(f1(X2)) =  0.639727\n"
     ]
    }
   ],
   "source": [
    "# Find the level of all simulated paths of Y2\n",
    "X2 = find_Xt_1(t = 2, steps = 2000, paths = 10000)\n",
    "\n",
    "# Find the transformed X2 and its expectations\n",
    "EfX2 = sum(np.sign(X2) * np.absolute(X2)**(1./3.))/10000\n",
    "print(\"E(f1(X2)) = \", round(EfX2, 6))"
   ]
  },
  {
   "cell_type": "markdown",
   "metadata": {},
   "source": [
    "$E(Y_3)$ could be found by similar techniques"
   ]
  },
  {
   "cell_type": "code",
   "execution_count": 7,
   "metadata": {},
   "outputs": [
    {
     "name": "stdout",
     "output_type": "stream",
     "text": [
      "E(Y3) =  25.8421048891\n"
     ]
    }
   ],
   "source": [
    "# Find the level of all simulated paths of Y2\n",
    "Y3 = find_Yt_1(t = 3, steps = 3000, paths = 10000)\n",
    "\n",
    "# Find the transformed X2 and its expectations\n",
    "EY3 = sum(Y3)/10000\n",
    "print(\"E(Y3) = \", EY3)"
   ]
  },
  {
   "cell_type": "markdown",
   "metadata": {},
   "source": [
    "$E(X_2Y_2I(X_2 > 1))$ could be found by conditioning on the level of $X_2$, the value of $X_2Y_2I(X_2 > 1)$ will be 0 if $X_2 < 1$. Start with simulating X2 and Y2 "
   ]
  },
  {
   "cell_type": "code",
   "execution_count": 71,
   "metadata": {
    "collapsed": true
   },
   "outputs": [],
   "source": [
    "# Find X2 and Y2 with \n",
    "X2 = list(find_Xt_1(t = 2, steps = 2000, paths = 10000))\n",
    "Y2 = list(find_Yt_1(t = 2, steps = 2000, paths = 10000))"
   ]
  },
  {
   "cell_type": "markdown",
   "metadata": {},
   "source": [
    "Build the function $f(X_2, Y_2) = X_2Y_2\\cdot I(X_2 > 1)$, and find its expectation, which gives $E(X_2Y_2I(X_2 > 1))$"
   ]
  },
  {
   "cell_type": "code",
   "execution_count": 72,
   "metadata": {},
   "outputs": [
    {
     "name": "stdout",
     "output_type": "stream",
     "text": [
      "E(X2Y2 I(X2 > 1)) =  3.96796812282\n"
     ]
    }
   ],
   "source": [
    "# Find the f(X2, Y2) and its expectations\n",
    "f_XY = list(map(lambda x2, y2: x2*y2 if x2 > 1 else 0, X2, Y2))\n",
    "Ef_XY = sum(f_XY)/10000 \n",
    "print (\"E(X2Y2 I(X2 > 1)) = \", Ef_XY)"
   ]
  },
  {
   "cell_type": "markdown",
   "metadata": {},
   "source": [
    "### Question 2\n",
    "\n",
    "Estimate the following expected values:\n",
    "\n",
    "* $E(1 + X_3)^{\\frac{1}{3}}$\n",
    "\n",
    "* $E(1 + Y_3)^{\\frac{1}{3}}$\n",
    "\n",
    "\n",
    "Where \n",
    "\n",
    "$dX_t = \\frac{1}{4}X_t dt + \\frac{1}{3}X_t dW_t - \\frac{3}{4}X_tdZ_t ,\\ X_0 = 1$\n",
    "\n",
    "$Y_t  = e^{−0.08 t + \\frac{1}{3} W_t +\\frac{3}{4}Z_t}$\n",
    "\n",
    "and W, Z are independent random normals"
   ]
  },
  {
   "cell_type": "markdown",
   "metadata": {},
   "source": [
    "**Solution:**\n",
    "\n",
    "Build functions that generate paths for $X_t$, $Y_t$. \n",
    "\n",
    "$X_t$ is given as a stochastic differential equation, which need to be generated by similiar steps as the SDEs in question 1"
   ]
  },
  {
   "cell_type": "code",
   "execution_count": 10,
   "metadata": {
    "collapsed": true
   },
   "outputs": [],
   "source": [
    "def find_Xt_2(t, steps, paths):\n",
    "    # initialize parameters\n",
    "    dt = t/steps\n",
    "    X0 = 1\n",
    "    Xt = [np.array([X0]*paths)]\n",
    "\n",
    "    for i in range(steps):\n",
    "        # remove the current level of Xt, and append the level of Xt next time step\n",
    "        Xt_current = Xt.pop()\n",
    "        Xt.append(Xt_current + ((1/4)*Xt_current) *dt \n",
    "                  + (1/3)*Xt_current * m.sqrt(dt)* np.random.normal(0, 1, paths)\n",
    "                  - (3/4)*Xt_current * m.sqrt(dt)* np.random.normal(0, 1, paths))       \n",
    "    return Xt[0]"
   ]
  },
  {
   "cell_type": "markdown",
   "metadata": {},
   "source": [
    "$Y_t$ is given as a analytical expression, the random component could be approximated by $\\sqrt{t}\\cdot N(0, 1)$"
   ]
  },
  {
   "cell_type": "code",
   "execution_count": 11,
   "metadata": {
    "collapsed": true
   },
   "outputs": [],
   "source": [
    "def find_Yt_2(t, paths):\n",
    "    Yt = np.exp(-0.08*t \n",
    "             + (1/3)* m.sqrt(t)* np.random.normal(0, 1, paths)\n",
    "             + (3/4)* m.sqrt(t)* np.random.normal(0, 1, paths))\n",
    "    return Yt"
   ]
  },
  {
   "cell_type": "markdown",
   "metadata": {},
   "source": [
    "Set seed for question 2"
   ]
  },
  {
   "cell_type": "code",
   "execution_count": 73,
   "metadata": {
    "collapsed": true
   },
   "outputs": [],
   "source": [
    "np.random.seed(7)"
   ]
  },
  {
   "cell_type": "markdown",
   "metadata": {},
   "source": [
    "Find $E(1 + X_3)^{\\frac{1}{3}}$ with 2000 steps and 10,000 paths"
   ]
  },
  {
   "cell_type": "code",
   "execution_count": 74,
   "metadata": {},
   "outputs": [
    {
     "name": "stdout",
     "output_type": "stream",
     "text": [
      "E(f2(x2)) =  1.33708496992\n"
     ]
    }
   ],
   "source": [
    "# Find the transformed X2 and its expectations\n",
    "fX3 = 1 + find_Xt_2(t = 3, steps = 3000, paths = 10000)\n",
    "EfX3 = sum(np.sign(fX3) * np.absolute(fX3)**(1./3.))/10000\n",
    "print(\"E(f2(x2)) = \", EfX3)"
   ]
  },
  {
   "cell_type": "markdown",
   "metadata": {},
   "source": [
    "Find $E(1 + Y_3)^{\\frac{1}{3}}$ with 10,000 paths"
   ]
  },
  {
   "cell_type": "code",
   "execution_count": 75,
   "metadata": {},
   "outputs": [
    {
     "name": "stdout",
     "output_type": "stream",
     "text": [
      "E(f2(Y2)) =  1.34030333788\n"
     ]
    }
   ],
   "source": [
    "# Find the transformed X2 and its expectations\n",
    "fY3 = 1 + find_Yt_2(t = 3, paths = 10000)\n",
    "EfY3 = sum(np.sign(fY3) * np.absolute(fY3)**(1./3.))/10000\n",
    "print(\"E(f2(Y2)) = \", EfY3)"
   ]
  },
  {
   "cell_type": "markdown",
   "metadata": {},
   "source": [
    "### Question 3\n",
    "\n",
    "(a) Write code to compute the prices of European Call options via Monte Carlo simulation.\n",
    "Use variance reduction techniques (e.g. Antithetic variates) in your estimation. The\n",
    "function should be generic: for any input of the 5 parameters - $S_0$, $\\sigma$, $T$, $X$, $r$ - the output\n",
    "is the corresponding price of the European call option.\n"
   ]
  },
  {
   "cell_type": "markdown",
   "metadata": {},
   "source": [
    "**Solution:**\n",
    "\n",
    "Build the function that prices the European call option, use 10,000 paths"
   ]
  },
  {
   "cell_type": "code",
   "execution_count": 76,
   "metadata": {
    "collapsed": true
   },
   "outputs": [],
   "source": [
    "def euro_call(S0, sd, T, K, r):\n",
    "    # generate Wt and evaluate ST - K\n",
    "    Wt = m.sqrt(T)*np.random.normal(0, 1, 50000)\n",
    "    ST = S0*np.exp(sd*Wt + (r - 0.5*sd**2)*T)\n",
    "    payoffs = np.array(list(map(lambda st: st - K if st - K > 0 else 0, ST)))\n",
    "    \n",
    "    # generate -Wt and evaluate ST(-) - K\n",
    "    Wt_ = - Wt\n",
    "    ST_ = S0*np.exp(sd* Wt_ + (r - 0.5*sd**2)*T)\n",
    "    payoffs_ = np.array(list(map(lambda st_: st_ - K if st_ - K > 0 else 0, ST_)))\n",
    "    \n",
    "    # find the average of payoffs and payoffs(-), and then find its expecation\n",
    "    payoffs = (payoffs + payoffs_)/2\n",
    "    C = m.exp(-r*T) * sum(payoffs)/len(payoffs)\n",
    "    \n",
    "    return (C)"
   ]
  },
  {
   "cell_type": "code",
   "execution_count": 77,
   "metadata": {
    "collapsed": true
   },
   "outputs": [],
   "source": [
    "np.random.seed(9)"
   ]
  },
  {
   "cell_type": "code",
   "execution_count": 78,
   "metadata": {},
   "outputs": [
    {
     "name": "stdout",
     "output_type": "stream",
     "text": [
      "The European call option value calculated by Monte Carlo Simulation:  18.2575163749\n"
     ]
    }
   ],
   "source": [
    "T = 5\n",
    "S0 = 88\n",
    "r = 0.04\n",
    "sd = 0.2\n",
    "K = 100\n",
    "\n",
    "print(\"The European call option value calculated by Monte Carlo Simulation: \", euro_call(S0, sd, T, K, r))"
   ]
  },
  {
   "cell_type": "markdown",
   "metadata": {},
   "source": [
    "(b) Write code to compute the prices of European Call options by using the Black-Scholes\n",
    "formula. Use the approximation of N($\\cdot$) described in this chapter. The code should be\n",
    "generic: for any input values of the 5 parameters - $S_0$, $\\sigma$, $T$, $X$, $r$ - the output\n",
    "is the corresponding price of the European call option."
   ]
  },
  {
   "cell_type": "markdown",
   "metadata": {},
   "source": [
    "** Solution: **\n",
    "\n",
    "Use numerical approximation of normal CDF, \n",
    "\n",
    "$N(x) = 1 - \\frac{1}{2}(1 + d_1 x + d_2 x^2 + d_3 x^3 + d_4 x^4 + d_5 x_5 + d_6 x^6)^{-16} $, if x > 0\n",
    "\n",
    "$N(x) = 1 - N(-x)$, if x < 0\n",
    "\n",
    "Build a function of normal CDF"
   ]
  },
  {
   "cell_type": "code",
   "execution_count": 18,
   "metadata": {
    "collapsed": true
   },
   "outputs": [],
   "source": [
    "def N(x):\n",
    "    d1 = 0.0498673470\n",
    "    d2 = 0.0211410061 \n",
    "    d3 = 0.0032776263\n",
    "    d4 = 0.0000380036 \n",
    "    d5 = 0.0000488906 \n",
    "    d6 = 0.0000053830\n",
    "    \n",
    "    if x > 0:\n",
    "        N = 1 - (1/2)*(1 + d1*x + d2*x**2 + d3*x**3 \n",
    "                       + d4*x**4 + d5*x**5 + d6*x**6) **(-16) \n",
    "    else:\n",
    "        N =  1 - (1 - (1/2)*(1 + d1*(-x) + d2*(-x)**2 + d3*(-x)**3 \n",
    "                       + d4*(-x)**4 + d5*(-x)**5 + d6*(-x)**6) **(-16) )\n",
    "\n",
    "    \n",
    "    return N"
   ]
  },
  {
   "cell_type": "code",
   "execution_count": 19,
   "metadata": {
    "collapsed": true
   },
   "outputs": [],
   "source": [
    "def BlackSholes_call(S0, sd, T, K, r):\n",
    "    # find d1 and d2\n",
    "    d1 = (m.log(S0/K) + (r + 0.5*sd**2)*T)/(sd*m.sqrt(T))\n",
    "    d2 = d1 - sd*m.sqrt(T)\n",
    "\n",
    "    # find call option price\n",
    "    C = S0*N(d1) - K*m.exp(-r*T)*N(d2)\n",
    "    \n",
    "    return (C)"
   ]
  },
  {
   "cell_type": "code",
   "execution_count": 20,
   "metadata": {},
   "outputs": [
    {
     "name": "stdout",
     "output_type": "stream",
     "text": [
      "The European call option price calculated by black-sholes model:  18.283767108827043\n"
     ]
    }
   ],
   "source": [
    "T = 5\n",
    "S0 = 88\n",
    "r = 0.04\n",
    "sd = 0.2\n",
    "K = 100\n",
    "\n",
    "print (\"The European call option price calculated by black-sholes model: \", BlackSholes_call(S0, sd, T, K, r))"
   ]
  },
  {
   "cell_type": "markdown",
   "metadata": {},
   "source": [
    "(c) Estimate the hedging parameters of European Call options (all five Greeks) and graph\n",
    "them as functions of the initial stock price $S_0$. \n",
    "\n",
    "Use K = 20, $\\sigma$ = 0.25, r = 0.04 and\n",
    "T = 0.5 in your estimations. Use the range [15, 25] for $S_0$, with a step size of 1."
   ]
  },
  {
   "cell_type": "markdown",
   "metadata": {},
   "source": [
    "**Solution:**\n",
    "\n",
    "Initialize parameters"
   ]
  },
  {
   "cell_type": "code",
   "execution_count": 21,
   "metadata": {
    "collapsed": true
   },
   "outputs": [],
   "source": [
    "K = 20\n",
    "sd = 0.25\n",
    "r = 0.04\n",
    "T = 0.5\n",
    "S0_range = list(range(15, 26))"
   ]
  },
  {
   "cell_type": "markdown",
   "metadata": {},
   "source": [
    "$Delta = \\frac{\\partial C_t}{\\partial S_t} \\cong \\large\\frac{C(S\\ + \\epsilon,T,\\sigma,r,K)\\ -\\ C(S ,T,\\sigma,r,K)}{\\epsilon}$"
   ]
  },
  {
   "cell_type": "code",
   "execution_count": 22,
   "metadata": {
    "collapsed": true
   },
   "outputs": [],
   "source": [
    "eps = 0.0001\n",
    "delta = [(BlackSholes_call(S0_range[i] + eps, sd, T, K, r) \n",
    "          -  BlackSholes_call(S0_range[i], sd, T, K, r)) / eps\n",
    "         for i in list(range(len(S0_range)))]"
   ]
  },
  {
   "cell_type": "markdown",
   "metadata": {},
   "source": [
    "$Gamma = \\frac{\\partial^2 C_t}{\\partial S_t^2}\\cong \\large\\frac{C(S+ \\epsilon,T,\\sigma,r,K)\\ -\\ 2C(S ,T,\\sigma,r,K)\\ +\\ C(S - \\epsilon,T,\\sigma,r,K)}{(\\epsilon)^2}$"
   ]
  },
  {
   "cell_type": "code",
   "execution_count": 23,
   "metadata": {
    "collapsed": true
   },
   "outputs": [],
   "source": [
    "gamma = [(BlackSholes_call(S0_range[i] + eps, sd, T, K, r) \n",
    "          -  2* BlackSholes_call(S0_range[i], sd, T, K, r)\n",
    "         + BlackSholes_call(S0_range[i] - eps, sd, T, K, r))/ (eps)**2\n",
    "         for i in list(range(len(S0_range)))]"
   ]
  },
  {
   "cell_type": "markdown",
   "metadata": {},
   "source": [
    "$Vega = \\frac{\\partial C_t}{\\partial \\sigma} \\large = \\frac{C(S,T,\\sigma + \\epsilon,r,K)\\ -\\ C(S ,T,\\sigma,r,K)\\ }{\\epsilon}$"
   ]
  },
  {
   "cell_type": "code",
   "execution_count": 24,
   "metadata": {
    "collapsed": true
   },
   "outputs": [],
   "source": [
    "vega = [(BlackSholes_call(S0_range[i], sd + eps, T, K, r) \n",
    "          -  BlackSholes_call(S0_range[i], sd, T, K, r)) / eps\n",
    "         for i in list(range(len(S0_range)))]"
   ]
  },
  {
   "cell_type": "markdown",
   "metadata": {},
   "source": [
    "$Theta = - \\frac{\\partial C_t}{\\partial \\sigma} \\large = - \\frac{C(S,T+ \\epsilon,\\sigma ,r,K)\\ -\\ C(S ,T,\\sigma,r,K)\\ }{\\epsilon}$"
   ]
  },
  {
   "cell_type": "code",
   "execution_count": 25,
   "metadata": {
    "collapsed": true
   },
   "outputs": [],
   "source": [
    "theta = [(BlackSholes_call(S0_range[i], sd, T - eps, K, r) \n",
    "          -  BlackSholes_call(S0_range[i], sd, T, K, r)) / eps\n",
    "         for i in list(range(len(S0_range)))]"
   ]
  },
  {
   "cell_type": "markdown",
   "metadata": {},
   "source": [
    "$Rho =  \\frac{\\partial C_t}{\\partial r} \\large = \\frac{C(S,T,\\sigma ,r + \\epsilon,K)\\ -\\ C(S ,T,\\sigma,r,K)\\ }{\\epsilon}$"
   ]
  },
  {
   "cell_type": "code",
   "execution_count": 26,
   "metadata": {
    "collapsed": true
   },
   "outputs": [],
   "source": [
    "rho = [(BlackSholes_call(S0_range[i], sd, T, K, r + eps) \n",
    "          -  BlackSholes_call(S0_range[i], sd, T, K, r)) / eps\n",
    "         for i in list(range(len(S0_range)))]"
   ]
  },
  {
   "cell_type": "markdown",
   "metadata": {},
   "source": [
    "Plot greeks as functions of the initial stock price $S_0$"
   ]
  },
  {
   "cell_type": "code",
   "execution_count": 27,
   "metadata": {
    "collapsed": true
   },
   "outputs": [],
   "source": [
    "delta = list(zip(S0_range, delta))\n",
    "gamma = list(zip(S0_range, gamma))\n",
    "vega = list(zip(S0_range, vega))\n",
    "theta = list(zip(S0_range, theta))\n",
    "rho = list(zip(S0_range, rho))"
   ]
  },
  {
   "cell_type": "code",
   "execution_count": 28,
   "metadata": {},
   "outputs": [
    {
     "data": {
      "image/png": "[encoded data removed]",
      "text/plain": [
       "<matplotlib.figure.Figure at 0x236f20df588>"
      ]
     },
     "metadata": {},
     "output_type": "display_data"
    }
   ],
   "source": [
    "plt.figure(figsize=(10,7))\n",
    "plt.plot(*zip(*delta), label=\"$\\Delta$\")\n",
    "plt.plot(*zip(*gamma), label = \"$\\Gamma$\")\n",
    "plt.plot(*zip(*vega), label = \"$\\\\upsilon$\")\n",
    "plt.plot(*zip(*theta), label = \"$\\Theta$\")\n",
    "plt.plot(*zip(*rho), label = \"$\\\\rho$\")\n",
    "plt.title(\"Greeks vs. $S_0$ between (15, 25)\")\n",
    "plt.legend()\n",
    "plt.show()"
   ]
  },
  {
   "cell_type": "markdown",
   "metadata": {},
   "source": [
    "### Question 4\n",
    "\n",
    "Consider the following 2-factor model for stock prices with stochastic volatility: \n",
    "\n",
    "$dS_t = rS_tdt + \\sqrt{V_t}S_t dW_t^1$\n",
    "\n",
    "$dV_t = \\alpha(\\beta - V_t)dt + \\sigma\\sqrt{V_t}dW_t^2$\n",
    "\n",
    "where the Brownian Motion processes above are correlated: $dW_t^1dW_t^2 = \\rho dt$, where the\n",
    "correlation $\\rho$ is a constant in [−1,1]. Compute the price of a European Call option (via\n",
    "Monte Carlo simulation) that has a strike price of K and matures in T years. \n",
    "\n",
    "Use the following parameters of the model: 𝜌 = −0.6, 𝑟 = 0.03, $S_0$ = \\$48, $V_0$ = 0.05, $\\sigma$ = 0.42, 𝛼 = 5.8, 𝛽 = 0.0625. Use the Full Truncation, Partial Truncation and Reflection methods, and provide 3 price\n",
    "estimates by using the tree methods."
   ]
  },
  {
   "cell_type": "markdown",
   "metadata": {},
   "source": [
    "**Solution:**\n",
    "\n",
    "Start with generating two random normals that has correlation $\\rho$ = -0.6"
   ]
  },
  {
   "cell_type": "code",
   "execution_count": 29,
   "metadata": {
    "collapsed": true
   },
   "outputs": [],
   "source": [
    "def bivariate_normals(paths):\n",
    "    Z1 = np.random.normal(0,1, paths)\n",
    "    Z2 = np.random.normal(0,1, paths)\n",
    "    Z = np.array([Z1, Z2])\n",
    "    cov = np.array([[1,-0.6],[-0.6, 1]])\n",
    "    L = np.linalg.cholesky(cov)\n",
    "    V1, V2 = L.dot(Z)\n",
    "    \n",
    "    return V1, V2"
   ]
  },
  {
   "cell_type": "markdown",
   "metadata": {},
   "source": [
    "Find $S_t$ by $dS_t = rS_tdt + \\sqrt{V_t}S_t dW_t^1$, where $V_t$ is found by reflection method"
   ]
  },
  {
   "cell_type": "code",
   "execution_count": 30,
   "metadata": {
    "collapsed": true
   },
   "outputs": [],
   "source": [
    "def St_reflection(t, steps, paths, a, b, V0, S0, r, sd):\n",
    "    # initialize sequence\n",
    "    dt = t/steps\n",
    "    Vt = [np.array([V0]*paths)]\n",
    "    St = [np.array([S0]*paths)]\n",
    "\n",
    "    for i in range(1, steps + 1):\n",
    "        # generate correlated dWt1, dWt2\n",
    "        dWt1 = np.sqrt(dt)* bivariate_normals(paths)[0]\n",
    "        dWt2 = np.sqrt(dt)* bivariate_normals(paths)[1]\n",
    "        Vt_current = Vt.pop()\n",
    "        St_current = St.pop()\n",
    "        St.append(St_current + r*St_current*dt \n",
    "                             + np.sqrt(abs(Vt_current))*St_current*dWt1)\n",
    "        \n",
    "        Vt.append(abs(Vt_current) + (a* (b - abs(Vt_current)))*dt \n",
    "                                  + sd*np.sqrt(abs(Vt_current))*dWt2)\n",
    "        \n",
    "    return St[0]"
   ]
  },
  {
   "cell_type": "markdown",
   "metadata": {},
   "source": [
    "Find $S_t$ by $dS_t = rS_tdt + \\sqrt{V_t}S_t dW_t^1$, where $V_t$ is found by full truncation method"
   ]
  },
  {
   "cell_type": "code",
   "execution_count": 31,
   "metadata": {
    "collapsed": true
   },
   "outputs": [],
   "source": [
    "def St_full_trunc(t, steps, paths, a, b, V0, S0, r, sd):\n",
    "\n",
    "    # initialize sequence\n",
    "    dt = t/steps\n",
    "    Vt = [np.array([V0]*paths)]\n",
    "    St = [np.array([S0]*paths)]\n",
    "\n",
    "    for i in range(1, steps + 1):\n",
    "        # generate correlated dWt1, dWt2\n",
    "        dWt1 = np.sqrt(dt)* bivariate_normals(paths)[0]\n",
    "        dWt2 = np.sqrt(dt)* bivariate_normals(paths)[1]\n",
    "        # truncate Vt to 0 if < 0\n",
    "        Vt_current = Vt.pop()\n",
    "        Vt_current[Vt_current < 0] = 0\n",
    "        \n",
    "        St_current = St.pop()\n",
    "        St.append(St_current + r*St_current*dt \n",
    "                                      + np.sqrt(Vt_current)*St_current*dWt1)\n",
    "        \n",
    "        Vt.append(Vt_current + (a* (b - Vt_current))*dt \n",
    "                  + sd*np.sqrt(Vt_current)*dWt2)\n",
    "        \n",
    "    return St[0]"
   ]
  },
  {
   "cell_type": "markdown",
   "metadata": {},
   "source": [
    "Find $S_t$ by $dS_t = rS_tdt + \\sqrt{V_t}S_t dW_t^1$, where $V_t$ is found by partial truncation method"
   ]
  },
  {
   "cell_type": "code",
   "execution_count": 32,
   "metadata": {
    "collapsed": true
   },
   "outputs": [],
   "source": [
    "def St_partial_trunc(t, steps, paths, a, b, V0, S0, r, sd):\n",
    "\n",
    "    # initialize sequence\n",
    "    dt = t/steps\n",
    "    Vt = [np.array([V0]*paths)]\n",
    "    St = [np.array([S0]*paths)]\n",
    "\n",
    "    for i in range(1, steps + 1):\n",
    "        # generate correlated dWt1, dWt2\n",
    "        dWt1 = np.sqrt(dt)* bivariate_normals(paths)[0]\n",
    "        dWt2 = np.sqrt(dt)* bivariate_normals(paths)[1]\n",
    "        # truncate Vt to 0 if < 0\n",
    "        Vt_current = Vt.pop()\n",
    "        Vt_current_plus = Vt_current.copy()\n",
    "        Vt_current_plus[Vt_current_plus < 0] = 0\n",
    "\n",
    "        St_current = St.pop()\n",
    "        St.append(St_current + r*St_current*dt \n",
    "                                      + np.sqrt(Vt_current_plus)*St_current*dWt1)\n",
    "        \n",
    "        Vt.append(Vt_current + (a* (b - Vt_current_plus))*dt \n",
    "                  + sd*np.sqrt(Vt_current_plus)*dWt2)\n",
    "        \n",
    "    return St[0]"
   ]
  },
  {
   "cell_type": "markdown",
   "metadata": {},
   "source": [
    "Find the option value by three methods"
   ]
  },
  {
   "cell_type": "code",
   "execution_count": 33,
   "metadata": {
    "collapsed": true
   },
   "outputs": [],
   "source": [
    "def euro_call_Helston(t, steps, paths, a, b, V0, S0, r, sd, K):\n",
    "    # generate ST with 3 methods and evaluate ST - K\n",
    "    st1 =  St_reflection(t, steps, paths, a, b, V0, S0, r, sd)\n",
    "    st2 = St_full_trunc(t, steps, paths, a, b, V0, S0, r, sd)\n",
    "    st3 = St_partial_trunc(t, steps, paths, a, b, V0, S0, r, sd)\n",
    "    \n",
    "    # find the payoffs\n",
    "    payoffs_1 = st1 - K \n",
    "    payoffs_2 = st2 - K\n",
    "    payoffs_3 = st3 - K\n",
    "    \n",
    "    payoffs_1[payoffs_1 < 0] = 0\n",
    "    payoffs_2[payoffs_2 < 0] = 0\n",
    "    payoffs_3[payoffs_3 < 0] = 0\n",
    "    \n",
    "    C1 = m.exp(-r*t) * sum(payoffs_1)/len(payoffs_1)\n",
    "    C2 = m.exp(-r*t) * sum(payoffs_2)/len(payoffs_2)\n",
    "    C3 = m.exp(-r*t) * sum(payoffs_3)/len(payoffs_3)\n",
    "    \n",
    "    return C1, C2, C3"
   ]
  },
  {
   "cell_type": "markdown",
   "metadata": {},
   "source": [
    "Set seed for question 4"
   ]
  },
  {
   "cell_type": "code",
   "execution_count": 34,
   "metadata": {
    "collapsed": true
   },
   "outputs": [],
   "source": [
    "np.random.seed(7)"
   ]
  },
  {
   "cell_type": "markdown",
   "metadata": {},
   "source": [
    "Calculate the price of European options using 3 methods"
   ]
  },
  {
   "cell_type": "code",
   "execution_count": 35,
   "metadata": {
    "collapsed": true
   },
   "outputs": [],
   "source": [
    "# initialize parameters\n",
    "a = 5.8\n",
    "b = 0.0625\n",
    "\n",
    "V0 = 0.05\n",
    "S0 = 48\n",
    "r = 0.03\n",
    "sd = 0.42\n",
    "t = 5\n",
    "K = 50\n",
    "steps = 500\n",
    "paths = 10000"
   ]
  },
  {
   "cell_type": "code",
   "execution_count": 36,
   "metadata": {
    "collapsed": true
   },
   "outputs": [],
   "source": [
    "C1, C2, C3 = euro_call_Helston(t, steps, paths, a, b, V0, S0, r, sd, K)"
   ]
  },
  {
   "cell_type": "code",
   "execution_count": 37,
   "metadata": {},
   "outputs": [
    {
     "name": "stdout",
     "output_type": "stream",
     "text": [
      "The Halston Model European option found by reflection method:  12.3523071464\n",
      "The Halston Model European option found by full truncation method:  12.3908225624\n",
      "The Halston Model European option found by partial truncation method:  12.7982311675\n"
     ]
    }
   ],
   "source": [
    "print(\"The Halston Model European option found by reflection method: \", C1)\n",
    "print(\"The Halston Model European option found by full truncation method: \", C2)\n",
    "print(\"The Halston Model European option found by partial truncation method: \", C3)"
   ]
  },
  {
   "cell_type": "markdown",
   "metadata": {},
   "source": [
    "### Question 5\n",
    "\n",
    "Compare a sample of pseudo-random numbers with a sample of quasi-MC numbers of Uniform[0,1]x[0,1]\n",
    "\n",
    "a) Generate 100 2-dimensional vectors of Uniform [0,1]x[0,1] by using any one of the algorithms for random number generation\n",
    "\n",
    "**Solution:**\n",
    "\n",
    "Using the LGM method generate 100 Uniformly distributed random pairs on [0,1] "
   ]
  },
  {
   "cell_type": "code",
   "execution_count": 38,
   "metadata": {
    "collapsed": true
   },
   "outputs": [],
   "source": [
    "def generate_random_sequence(seed, n):\n",
    "    \n",
    "    rand_sequence = [seed]\n",
    "    for i in range(1, n + 1):\n",
    "        rand_sequence.append(7**5 * rand_sequence[i-1] % (2**31 - 1))\n",
    "        \n",
    "    return rand_sequence[1:]"
   ]
  },
  {
   "cell_type": "code",
   "execution_count": 39,
   "metadata": {
    "collapsed": true
   },
   "outputs": [],
   "source": [
    "def generate_2d_uniform(seed, n):\n",
    "\n",
    "    rand = generate_random_sequence(seed, n * 2)\n",
    "    \n",
    "    # construct uniform random samples from the random sequence above\n",
    "    U1 = list(map(lambda x1: (x1 + 0.5) / (2**31 - 1), rand[:n]))\n",
    "    U2 = list(map(lambda x2: (x2 + 0.5) / (2**31 - 1), rand[n:]))\n",
    "    \n",
    "    #zip U1, U2 to make U 2-D\n",
    "    U = list(zip(U1, U2))\n",
    "    \n",
    "    return U"
   ]
  },
  {
   "cell_type": "code",
   "execution_count": 40,
   "metadata": {
    "collapsed": true
   },
   "outputs": [],
   "source": [
    "U = generate_2d_uniform(7, 100)"
   ]
  },
  {
   "cell_type": "markdown",
   "metadata": {},
   "source": [
    "b) Generate 100 points of the 2-dimensional Halton sequences, using bases 2 and 7\n",
    "\n",
    "**Solution: **\n",
    "\n",
    "The base are chosen  $m_1$ = 2, $m_2$ = 7. Construct a function that generates Halton Number's numerator for the Halton sequence. For every index k in the halton sequence of 1D, convert number k to its base representation, and sum up its "
   ]
  },
  {
   "cell_type": "code",
   "execution_count": 110,
   "metadata": {
    "collapsed": true
   },
   "outputs": [],
   "source": [
    "def Halton_1D(size, base):\n",
    "    sequence = []\n",
    "    for i in range(size):\n",
    "        k, m = 0., 1.\n",
    "        while i > 0:\n",
    "            i, a = (i // base, i % base)\n",
    "            m *= base\n",
    "            k += a / m\n",
    "        sequence.append(k)\n",
    "\n",
    "    return sequence"
   ]
  },
  {
   "cell_type": "code",
   "execution_count": 111,
   "metadata": {
    "collapsed": true
   },
   "outputs": [],
   "source": [
    "def Halton_2D(size, m1, m2):\n",
    "    \n",
    "    halton_x = Halton_1D(size, m1)\n",
    "    halton_y = Halton_1D(size, m2)\n",
    "    \n",
    "    halton_2d = list(zip(halton_x, halton_y))\n",
    "\n",
    "    return halton_2d"
   ]
  },
  {
   "cell_type": "code",
   "execution_count": 112,
   "metadata": {
    "collapsed": true
   },
   "outputs": [],
   "source": [
    "halton_2D_27 = Halton_2D(100, 2, 7)"
   ]
  },
  {
   "cell_type": "markdown",
   "metadata": {},
   "source": [
    "c) Generate 100 points of the 2-dimensional Halton sequences, using bases 2 and 4. (note:\n",
    "4 is a non-prime number!)"
   ]
  },
  {
   "cell_type": "markdown",
   "metadata": {},
   "source": [
    "**Solution:**\n",
    "\n",
    "Call *Halton_1D* function and use base 2 and 4"
   ]
  },
  {
   "cell_type": "code",
   "execution_count": 113,
   "metadata": {
    "collapsed": true
   },
   "outputs": [],
   "source": [
    "halton_2D_24 = Halton_2D(100, 2, 4)"
   ]
  },
  {
   "cell_type": "markdown",
   "metadata": {},
   "source": [
    "d) Draw all 3 sequences of random numbers on separate graphs and see if there are differences in the three (visual test only). Comment on your observations."
   ]
  },
  {
   "cell_type": "markdown",
   "metadata": {},
   "source": [
    "**Solution:**"
   ]
  },
  {
   "cell_type": "markdown",
   "metadata": {},
   "source": [
    "**2-D Uniform [0,1]**"
   ]
  },
  {
   "cell_type": "code",
   "execution_count": 114,
   "metadata": {},
   "outputs": [
    {
     "data": {
      "image/png": "[encoded data removed]",
      "text/plain": [
       "<matplotlib.figure.Figure at 0x236f3f93358>"
      ]
     },
     "metadata": {},
     "output_type": "display_data"
    }
   ],
   "source": [
    "plt.figure(figsize=(10,7))\n",
    "plt.scatter(*zip(*U), c = 'g')\n",
    "plt.title(\"$2D\\ Uniform\\ [0, 1]$\")\n",
    "plt.show()"
   ]
  },
  {
   "cell_type": "markdown",
   "metadata": {},
   "source": [
    "**2-D Halton with base 2 and 7**"
   ]
  },
  {
   "cell_type": "code",
   "execution_count": 115,
   "metadata": {},
   "outputs": [
    {
     "data": {
      "image/png": "[encoded data removed]",
      "text/plain": [
       "<matplotlib.figure.Figure at 0x236f3ea77f0>"
      ]
     },
     "metadata": {},
     "output_type": "display_data"
    }
   ],
   "source": [
    "plt.figure(figsize=(10,7))\n",
    "plt.scatter(*zip(*halton_2D_27))\n",
    "plt.title(\"2D Halton with base 2 and 7\")\n",
    "plt.show()"
   ]
  },
  {
   "cell_type": "markdown",
   "metadata": {},
   "source": [
    "**2-D Halton with base 2 and 4**"
   ]
  },
  {
   "cell_type": "code",
   "execution_count": 116,
   "metadata": {},
   "outputs": [
    {
     "data": {
      "image/png": "[encoded data removed]",
      "text/plain": [
       "<matplotlib.figure.Figure at 0x236f3bb3048>"
      ]
     },
     "metadata": {},
     "output_type": "display_data"
    }
   ],
   "source": [
    "plt.figure(figsize=(10,7))\n",
    "plt.scatter(*zip(*halton_2D_24), c = 'r')\n",
    "plt.title(\"2D Halton with base 2 and 4\")\n",
    "plt.show()"
   ]
  },
  {
   "cell_type": "markdown",
   "metadata": {},
   "source": [
    "**Comment:**\n",
    "\n",
    "The 2-D Uniform [0,1] sequence resembled the i.i.d uniform random numbers property well, but it is hard to predict or reuse the number since the generated numbers are unpredictable. The 2-D Halton sequence with base 2 and 7 also demonstrates the uniform property of the i.i.d uniform distribution - when the sample size gets large, the 2-D Halton sequence with base 2 and 7 could be approximately treated as an i.i.d uniform distribution in 2_D. However, the 2-D Halton sequence with base 2 and 4 shows strong correlation between the x and y dimensions - therefore does not resemble the i.i.d uniform property in 2-dimension well. The 2-D Halton sequence with base 2 and 4 should not be used to approximate any integrals"
   ]
  },
  {
   "cell_type": "markdown",
   "metadata": {},
   "source": [
    "d) Use 2-dimensional Halton sequences to compute the following integral: \n",
    "\n",
    "$$\\int_{0}^{1}\\int_{0}^{1}e^{-xy}sin(6\\pi x) + cos^{\\frac{1}{3}}(2\\pi y) dxdy$$\n",
    "\n",
    "Use N=10,000. Try different couples for bases: (2,4), (2,7), (5,7)."
   ]
  },
  {
   "cell_type": "markdown",
   "metadata": {},
   "source": [
    "**Solution:**\n",
    "\n",
    "Define the function $f(x, y) = e^{-xy}sin(6\\pi x) + cos^{\\frac{1}{3}}(2\\pi y)$"
   ]
  },
  {
   "cell_type": "code",
   "execution_count": 117,
   "metadata": {
    "collapsed": true
   },
   "outputs": [],
   "source": [
    "def f(x,y):\n",
    "    f = (m.exp(-x * y)*(m.sin(6*m.pi* x) \n",
    "        + np.sign(m.cos(2*m.pi *y)) * np.absolute(m.cos(2*m.pi *y))**(1./3.)))\n",
    "    return f"
   ]
  },
  {
   "cell_type": "markdown",
   "metadata": {},
   "source": [
    "Start with base (2, 4), generate 10,000 Halton Sequence pairs"
   ]
  },
  {
   "cell_type": "code",
   "execution_count": 118,
   "metadata": {
    "collapsed": true
   },
   "outputs": [],
   "source": [
    "halton_24 = Halton_2D(10000, 2, 4)\n",
    "x, y = list(zip(*halton_24))\n",
    "integral1 = sum(map(f, x, y))/len(halton_24)"
   ]
  },
  {
   "cell_type": "markdown",
   "metadata": {},
   "source": [
    "Halton Sequence pairs with base (2, 7)"
   ]
  },
  {
   "cell_type": "code",
   "execution_count": 119,
   "metadata": {
    "collapsed": true
   },
   "outputs": [],
   "source": [
    "halton_27 = Halton_2D(10000, 2, 7)\n",
    "x, y = list(zip(*halton_27))\n",
    "integral2 = sum(map(f, x, y))/len(halton_27)"
   ]
  },
  {
   "cell_type": "markdown",
   "metadata": {},
   "source": [
    "Halton Sequence pairs with base (5, 7)"
   ]
  },
  {
   "cell_type": "code",
   "execution_count": 120,
   "metadata": {
    "collapsed": true
   },
   "outputs": [],
   "source": [
    "halton_57 = Halton_2D(10000, 5, 7)\n",
    "x, y = list(zip(*halton_57))\n",
    "integral3 = sum(map(f, x, y))/len(halton_57)"
   ]
  },
  {
   "cell_type": "code",
   "execution_count": 121,
   "metadata": {},
   "outputs": [
    {
     "name": "stdout",
     "output_type": "stream",
     "text": [
      "The approximated value of integral using Halton (2,4):  -0.00494444321835\n",
      "The approximated value of integral using Halton (2,7):  0.0262490381943\n",
      "The approximated value of integral using Halton (5,7):  0.026358892825\n"
     ]
    }
   ],
   "source": [
    "print(\"The approximated value of integral using Halton (2,4): \",  integral1)\n",
    "print(\"The approximated value of integral using Halton (2,7): \",  integral2)\n",
    "print(\"The approximated value of integral using Halton (5,7): \",  integral3)"
   ]
  }
 ],
 "metadata": {
  "kernelspec": {
   "display_name": "Python 3 (ipykernel)",
   "language": "python",
   "name": "python3"
  },
  "language_info": {
   "codemirror_mode": {
    "name": "ipython",
    "version": 3
   },
   "file_extension": ".py",
   "mimetype": "text/x-python",
   "name": "python",
   "nbconvert_exporter": "python",
   "pygments_lexer": "ipython3",
   "version": "3.9.12"
  }
 },
 "nbformat": 4,
 "nbformat_minor": 2
}
